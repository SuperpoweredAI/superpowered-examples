{
 "cells": [
  {
   "cell_type": "markdown",
   "metadata": {},
   "source": [
    "**`Webinar 2024-03-06`**\n",
    "\n",
    "[YouTube Recording](https://www.youtube.com/watch?v=jcS9Xac71UY&list=PLePKvgYhNOFxg3O7gXfmxaKp0EWXEhvNC&index=13)\n",
    "\n",
    "# Augmenting Knowledge Bases with Web Search Results\n",
    "\n",
    "### Two main approaches\n",
    "\n",
    "##### 1. Semi-automatic augmentation using chat endpoint\n",
    "\n",
    "In this approach, we will basically have a conversation with an AI that has web access and choose from the cited results.\n",
    "\n",
    "After each interaction, we will send a list of the `web_search_references` we want to add to the KB.\n",
    "\n",
    "##### 2. Full-automatic augmentation using document review + query endpoints\n",
    "\n",
    "This is similar to a \"look-alike\" audience you might see when doing digital marketing.\n",
    "\n",
    "Basically, we create our smaller KB using files we deem our \"source of truth\" and run document review on this KB.\n",
    "\n",
    "The output of document review is a list of queries we will feed into the query endpoint with no KBs, but with a web search turned on.\n",
    "\n",
    "We will add all `web_search_references` to a new KB.\n",
    "\n",
    "\n",
    "### NOTE: I am separating our \"source of truth\" knowledge bases from the web-augmented KBs so we can always separate the manual KBs from automated KBs. When using our endpoints, we can generally pass in a list of knowledge bases so the \"source of truth\" and \"web-augmented\" KBs can still be used together."
   ]
  },
  {
   "cell_type": "code",
   "execution_count": 1,
   "metadata": {},
   "outputs": [],
   "source": [
    "# initialize variables\n",
    "import superpowered\n",
    "import requests\n",
    "import time\n",
    "import tqdm\n",
    "\n",
    "from IPython.display import display, Markdown\n",
    "\n",
    "SP_BASE_URL = 'https://api.superpowered.ai/v1'\n",
    "SP_API_KEY_ID = ''\n",
    "SP_API_KEY_SECRET = ''\n",
    "API_AUTH = (SP_API_KEY_ID, SP_API_KEY_SECRET)\n",
    "superpowered.set_api_key(SP_API_KEY_ID, SP_API_KEY_SECRET)\n",
    "\n",
    "SOURCE_OF_TRUTH_KB_ID = '13ff0f75-4a20-4c7d-b68a-42799694fc65'\n"
   ]
  },
  {
   "cell_type": "markdown",
   "metadata": {},
   "source": [
    "##### Helper functions"
   ]
  },
  {
   "cell_type": "code",
   "execution_count": 2,
   "metadata": {},
   "outputs": [],
   "source": [
    "# helper functions\n",
    "def run_and_display_review(kb_id: dict, ar_instructions: str, fr_instructions: str):\n",
    "    url = f'{SP_BASE_URL}/knowledge_bases/{kb_id}/review'\n",
    "    payload = {\n",
    "        'active_reading_instructions': ar_instructions,\n",
    "        'final_review_instructions': fr_instructions,\n",
    "        'active_reading_model': 'claude-instant-1',\n",
    "    }\n",
    "    resp = requests.post(url, json=payload, auth=API_AUTH)\n",
    "    final_review_display = display(Markdown('Review pending...'), display_id=True)\n",
    "    progress_bar = tqdm.tqdm(total=1)\n",
    "    progress_bar.set_description(f'Active Reading Progress')\n",
    "\n",
    "    # keep request job until it's completed (or failed)\n",
    "    while resp.json()['status'] not in ['COMPLETE', 'FAILED']:\n",
    "        resp = requests.get(resp.json()['status_url'], auth=API_AUTH)\n",
    "        progress_bar.n = resp.json()['response']['active_reading_progress_pct']\n",
    "        if progress_bar.n >= 1:\n",
    "            final_review_display.update(Markdown(resp.json()[\"response\"][\"final_review\"]))\n",
    "        progress_bar.refresh()\n",
    "\n",
    "    progress_bar.close()\n",
    "    return resp.json()['response']['final_review']\n",
    "\n",
    "\n",
    "def run_chat_loop(thread_id: str, knowledge_base_id: str):\n",
    "    interaction_display = display(Markdown('Conversation pending...'), display_id=True)\n",
    "    added_urls = []\n",
    "    while True:\n",
    "        url = f'{SP_BASE_URL}/chat/threads/{thread_id}/get_response'\n",
    "        user_input = input('Web search: ')\n",
    "        if user_input.lower() == 'exit':\n",
    "            break\n",
    "        payload = {\n",
    "            'input': user_input,\n",
    "            'async': True,\n",
    "        }\n",
    "        display_header_text = f'##### `[URLS ADDED]`: {\", \".join(added_urls)}\\n\\n----------------------------------------------------\\n\\n'\n",
    "        display_header_text += f'##### `[USER]`: {user_input}\\n\\n----------------------------------------------------\\n\\n'\n",
    "        resp = requests.post(url, json=payload, auth=API_AUTH)\n",
    "        # keep request job until it's completed (or failed)\n",
    "        while resp.json()['status'] not in ['COMPLETE', 'FAILED']:\n",
    "            resp = requests.get(resp.json()['status_url'], auth=API_AUTH)\n",
    "            display_text = display_header_text + f'##### `[SUPERPOWERED]`: {resp.json()[\"response\"][\"interaction\"][\"model_response\"][\"content\"]}\\n\\n'\n",
    "            interaction_display.update(Markdown(display_text))\n",
    "\n",
    "        # display the web search references in markdown format\n",
    "        web_search_references = resp.json()['response']['interaction']['web_search_references']\n",
    "        display_text += '##### `[WEB SEARCH RESULTS]`\\n\\n'\n",
    "        for i in web_search_references:\n",
    "            title = resp.json()['response']['interaction']['web_search_results'][i]['title']\n",
    "            url = resp.json()['response']['interaction']['web_search_results'][i]['url']\n",
    "            display_text += f'**[{i}]** {title}: [{url}]({url})\\n\\n'\n",
    "        interaction_display.update(Markdown(display_text))\n",
    "\n",
    "        # choose which of these URLs to add to the knowledge base\n",
    "        chosen_urls = input('Please list the numbers of the web search results you wish to add to the KB, separated by commas: ')\n",
    "        chosen_urls = chosen_urls.split(',')\n",
    "        chosen_urls = [resp.json()['response']['interaction']['web_search_results'][int(i)]['url'] for i in chosen_urls]\n",
    "        added_urls.extend(chosen_urls)\n",
    "        for url in chosen_urls:\n",
    "            superpowered.create_document_via_url(knowledge_base_id, url)\n",
    "        \n",
    "\n",
    "def run_queries_through_web_search_and_add_to_kb(knowledge_base_id: str, questions: list):\n",
    "    num_queries = len(questions)\n",
    "    url_display = display(Markdown('**URLs added to KB**:\\n\\n'), display_id=True)\n",
    "    display_header = '**URLs added to KB**:\\n\\n'\n",
    "    dispaly_url_text = ''\n",
    "    progress_bar = tqdm.tqdm(total=num_queries)\n",
    "    progress_bar.set_description(f'Queries run:')\n",
    "\n",
    "    all_urls = []\n",
    "    for question in questions:\n",
    "        url = f'{SP_BASE_URL}/knowledge_bases/query'\n",
    "        payload = {\n",
    "            'query': question,\n",
    "            'use_web_search': True,\n",
    "            'web_search_config': {\n",
    "                'timeframe_days': 365 * 5,\n",
    "                'exclude_domains': ['youtube.com'],\n",
    "            },\n",
    "            'summarize_results': True,\n",
    "            'async': True,\n",
    "        }\n",
    "        resp = requests.post(url, json=payload, auth=API_AUTH)\n",
    "        while resp.json()['status'] not in ['COMPLETE', 'FAILED']:\n",
    "            resp = requests.get(resp.json()['status_url'], auth=API_AUTH)\n",
    "\n",
    "        for i in resp.json()['response']['web_search_references']:\n",
    "            url = resp.json()['response']['web_search_results'][i]['url']\n",
    "            dispaly_url_text += f'[{url}]({url})\\n\\n'\n",
    "            url_display.update(Markdown(display_header + dispaly_url_text))\n",
    "            all_urls.append(url)\n",
    "            try:\n",
    "                superpowered.create_document_via_url(knowledge_base_id, url)\n",
    "            except superpowered.exceptions.InvalidRequestError:\n",
    "                pass\n",
    "        progress_bar.update(1)\n",
    "    progress_bar.close()"
   ]
  },
  {
   "cell_type": "markdown",
   "metadata": {},
   "source": [
    "## 1. Semi-automatic augmentation using chat endpoint"
   ]
  },
  {
   "cell_type": "code",
   "execution_count": 3,
   "metadata": {},
   "outputs": [],
   "source": [
    "chat_web_augmented_kb = superpowered.create_knowledge_base('Chat Web Augmented KB', 'This is a knowledge base augmented with web search results')\n",
    "doc_review_query_augmented_kb = superpowered.create_knowledge_base('Document Review + Query Augmented KB', 'This is a knowledge base augmented with web search results')\n",
    "thread = superpowered.create_chat_thread(\n",
    "    use_web_search=True,\n",
    "    web_search_exclude_domains=['youtube.com'],\n",
    "    web_search_timeframe_days=365\n",
    ")"
   ]
  },
  {
   "cell_type": "code",
   "execution_count": 4,
   "metadata": {},
   "outputs": [
    {
     "data": {
      "text/markdown": [
       "##### `[URLS ADDED]`: \n",
       "\n",
       "----------------------------------------------------\n",
       "\n",
       "##### `[USER]`: Can you tell me about silvopasture and agroforestry and maybe touch on their similarities and differences\n",
       "\n",
       "----------------------------------------------------\n",
       "\n",
       "##### `[SUPERPOWERED]`: Silvopasture and agroforestry are both sustainable land management practices that integrate trees, livestock, and crops in a mutually beneficial way. Here are some key points about each:\n",
       "\n",
       "**Silvopasture:**\n",
       "- Silvopasture is a type of agroforestry that combines trees, forage, and livestock grazing in a single system.\n",
       "- It involves planting trees or managing existing trees in pastures to provide shade, shelter, and additional forage for livestock.\n",
       "- Silvopasture systems can help improve soil health, reduce erosion, sequester carbon, and increase biodiversity.\n",
       "- Livestock grazing in silvopasture systems can benefit from the shade provided by trees, leading to improved animal welfare and potentially increased productivity.\n",
       "- Silvopasture can be a sustainable alternative to traditional grazing systems and can help farmers diversify their income streams.\n",
       "\n",
       "**Agroforestry:**\n",
       "- Agroforestry is a broader term that encompasses various land use systems that integrate trees, crops, and/or livestock.\n",
       "- It includes practices such as alley cropping, windbreaks, riparian buffers, and forest farming, in addition to silvopasture.\n",
       "- Agroforestry systems are designed to mimic natural ecosystems and enhance overall productivity while promoting environmental sustainability.\n",
       "- Agroforestry can provide multiple benefits such as improved soil fertility, increased biodiversity, enhanced water quality, and climate change mitigation.\n",
       "- Agroforestry practices are often tailored to specific environmental conditions and can be adapted to different regions and farming systems.\n",
       "\n",
       "**Similarities:**\n",
       "- Both silvopasture and agroforestry involve integrating trees with agricultural activities to achieve multiple benefits.\n",
       "- They aim to improve sustainability, enhance ecosystem services, and promote resilience in agricultural systems.\n",
       "- Both practices can contribute to climate change mitigation by sequestering carbon and reducing greenhouse gas emissions.\n",
       "- Silvopasture is a specific type of agroforestry that focuses on combining trees, forage, and livestock, while agroforestry encompasses a wider range of integrated land use systems.\n",
       "\n",
       "**Differences:**\n",
       "- Silvopasture specifically focuses on integrating trees with livestock grazing, whereas agroforestry includes a broader range of tree-crop-livestock combinations.\n",
       "- Agroforestry systems can be more diverse and complex, incorporating multiple components like crops, trees, and animals in various configurations.\n",
       "- Silvopasture is more tailored towards livestock production and grazing management, while agroforestry can be applied to different types of agricultural systems beyond just grazing.\n",
       "\n",
       "In summary, both silvopasture and agroforestry are innovative approaches to sustainable agriculture that aim to improve productivity, environmental health, and resilience in farming systems.\n",
       "\n",
       "##### `[WEB SEARCH RESULTS]`\n",
       "\n",
       "**[0]** Here’s to reviving the ancient practice of silvopasture | Aeon Essays: [https://aeon.co/essays/heres-to-reviving-the-ancient-practice-of-silvopasture](https://aeon.co/essays/heres-to-reviving-the-ancient-practice-of-silvopasture)\n",
       "\n",
       "**[1]** Agroforestry: Can Farming with Trees Save the Food System?: [https://www.ediblecommunities.com/edible-stories/agroforestry-can-farming-with-trees-save-the-food-system/?utm_medium=social&utm_source=linkedin&utm_campaign=edible-stories&utm_content=civil-eats-agroforestry](https://www.ediblecommunities.com/edible-stories/agroforestry-can-farming-with-trees-save-the-food-system/?utm_medium=social&utm_source=linkedin&utm_campaign=edible-stories&utm_content=civil-eats-agroforestry)\n",
       "\n"
      ],
      "text/plain": [
       "<IPython.core.display.Markdown object>"
      ]
     },
     "metadata": {},
     "output_type": "display_data"
    }
   ],
   "source": [
    "run_chat_loop(thread['id'], chat_web_augmented_kb['id'])"
   ]
  },
  {
   "cell_type": "markdown",
   "metadata": {},
   "source": [
    "## 2. Full-automatic augmentation using document review + query endpoints"
   ]
  },
  {
   "cell_type": "code",
   "execution_count": 5,
   "metadata": {},
   "outputs": [
    {
     "data": {
      "text/markdown": [
       "What are the key principles and practices that define agroecology and permaculture in the context of sustainable agriculture?\n",
       "How do permaculture and agroecology incorporate traditional knowledge and practices in their approaches to farming and conservation?\n",
       "In what ways do permaculture principles extend beyond those found in traditional agroecological literature?\n",
       "What are the distinctive approaches to water management and crop diversity in permaculture compared to conventional agriculture?\n",
       "How does the integration of terrestrial and aquatic systems in permaculture contribute to labor efficiency and multifunctionality?\n",
       "What role does the configuration of agroecosystems play in enhancing the sustainability and productivity of permaculture practices?\n",
       "How do permaculture principles encourage individual and community responsibility in achieving social change through sustainable agriculture?\n",
       "What challenges are associated with planning and maintaining complex agroecosystems as proposed in permaculture?\n",
       "How can soil disturbance from activities like logging and mining be effectively rehabilitated to restore productivity and ecological functions?\n",
       "What are the benefits of using native plant species and organic amendments in soil rehabilitation efforts?\n",
       "How do mechanical soil treatments like decompaction and scarification aid in the rehabilitation of disturbed soils?\n",
       "What role does soil texture play in determining the effectiveness of rehabilitation techniques?\n",
       "How can regenerative agriculture practices improve soil quality, increase crop yields, and enhance ecosystem services?\n",
       "What are the economic and ecological benefits reported by businesses implementing regenerative agriculture programs in sub-Saharan Africa?\n",
       "How do local partnerships and farmer education programs contribute to the adoption of regenerative agriculture practices?\n",
       "What are the potential impacts of widespread adoption of regenerative agriculture on food security, employment, and climate mitigation in sub-Saharan Africa?\n",
       "How do agroforestry practices like alley cropping and improved fallows contribute to soil fertility improvement and erosion control?\n",
       "What are the challenges and considerations in adopting alley cropping systems in different climatic conditions?\n",
       "How do homegardens exemplify the principles of agroforestry and contribute to food security and environmental sustainability?\n",
       "What are the key factors to consider in designing and managing silvopastoral systems for improved productivity and sustainability?"
      ],
      "text/plain": [
       "<IPython.core.display.Markdown object>"
      ]
     },
     "metadata": {},
     "output_type": "display_data"
    },
    {
     "name": "stderr",
     "output_type": "stream",
     "text": [
      "Active Reading Progress: 100%|██████████| 1/1 [09:28<00:00, 568.63s/it]      \n"
     ]
    }
   ],
   "source": [
    "active_reading_instructions = \"\"\"\\\n",
    "Please extract any facts you deem to be important information on the best practices in the world of conservation and agriculture.\n",
    "\"\"\"\n",
    "\n",
    "final_review_instructions = \"\"\"\\\n",
    "You are to create a list of questions from the key information you have extracted.\n",
    "\n",
    "Each question should be on its own line with no number or anything in front of it.\n",
    "\n",
    "You should come up with 15-20 questions.\n",
    "\"\"\"\n",
    "\n",
    "list_of_questions = run_and_display_review(SOURCE_OF_TRUTH_KB_ID, active_reading_instructions, final_review_instructions)"
   ]
  },
  {
   "cell_type": "code",
   "execution_count": 6,
   "metadata": {},
   "outputs": [
    {
     "data": {
      "text/markdown": [
       "**URLs added to KB**:\n",
       "\n",
       "[https://www.fao.org/agroecology/overview/en](https://www.fao.org/agroecology/overview/en)\n",
       "\n",
       "[https://www.fao.org/agroecology/knowledge/en](https://www.fao.org/agroecology/knowledge/en)\n",
       "\n",
       "[https://www.agroecology-europe.org/our-approach/principles/](https://www.agroecology-europe.org/our-approach/principles/)\n",
       "\n",
       "[https://www.fao.org/agroecology/overview/social-process/en](https://www.fao.org/agroecology/overview/social-process/en)\n",
       "\n",
       "[https://library.acropolis.org/towards-permanent-co-existence-lessons-from-permaculture](https://library.acropolis.org/towards-permanent-co-existence-lessons-from-permaculture)\n",
       "\n",
       "[https://www.mdpi.com/2073-4441/12/10/2787/pdf](https://www.mdpi.com/2073-4441/12/10/2787/pdf)\n",
       "\n",
       "[https://www.science.org/doi/10.1126/sciadv.aba1715?cookieSet=1](https://www.science.org/doi/10.1126/sciadv.aba1715?cookieSet=1)\n",
       "\n",
       "[https://www.frontiersin.org/articles/10.3389/fsufs.2020.00138/full](https://www.frontiersin.org/articles/10.3389/fsufs.2020.00138/full)\n",
       "\n",
       "[https://web.archive.org/web/20200618010824/https:/iopscience.iop.org/article/10.1088/1755-1315/499/1/012018/pdf](https://web.archive.org/web/20200618010824/https:/iopscience.iop.org/article/10.1088/1755-1315/499/1/012018/pdf)\n",
       "\n",
       "[https://nonprofitquarterly.org/fisheries-and-stewardship-lessons-from-native-hawaiian-aquaculture/](https://nonprofitquarterly.org/fisheries-and-stewardship-lessons-from-native-hawaiian-aquaculture/)\n",
       "\n",
       "[https://www.cambridge.org/core/journals/renewable-agriculture-and-food-systems/article/abs/feasibility-and-sustainability-of-agroforestry-in-temperate-industrialized-agriculture-preliminary-insights-from-california/72C7A1E9E27CF4B22CA103AB8BF0634F](https://www.cambridge.org/core/journals/renewable-agriculture-and-food-systems/article/abs/feasibility-and-sustainability-of-agroforestry-in-temperate-industrialized-agriculture-preliminary-insights-from-california/72C7A1E9E27CF4B22CA103AB8BF0634F)\n",
       "\n",
       "[https://www.cambridge.org/core/journals/renewable-agriculture-and-food-systems/article/abs/diversification-and-labor-productivity-on-us-permaculture-farms/7D35E31C157E70BF6B619E0471EAC81E](https://www.cambridge.org/core/journals/renewable-agriculture-and-food-systems/article/abs/diversification-and-labor-productivity-on-us-permaculture-farms/7D35E31C157E70BF6B619E0471EAC81E)\n",
       "\n",
       "[https://sentientmedia.org/permaculture/](https://sentientmedia.org/permaculture/)\n",
       "\n",
       "[https://permaculture.com.au/tropical-permaculture-agroforestry-central-america](https://permaculture.com.au/tropical-permaculture-agroforestry-central-america)\n",
       "\n",
       "[https://agrilifetoday.tamu.edu/1993/10/06/secrets-of-land-reclamation-unearthed-in-lignite-mines/](https://agrilifetoday.tamu.edu/1993/10/06/secrets-of-land-reclamation-unearthed-in-lignite-mines/)\n",
       "\n",
       "[https://www.scielo.br/j/floram/a/xxZFVnxKR3KHnMn3BdcRxCb/?lang=en](https://www.scielo.br/j/floram/a/xxZFVnxKR3KHnMn3BdcRxCb/?lang=en)\n",
       "\n",
       "[https://www.nebiosolids.org/landreclamation](https://www.nebiosolids.org/landreclamation)\n",
       "\n",
       "[https://www.nps.gov/articles/000/gardening-for-wildlife-with-native-plants.htm](https://www.nps.gov/articles/000/gardening-for-wildlife-with-native-plants.htm)\n",
       "\n",
       "[https://revitalization.org/article/restoration-strategy-eight-year-experiment-proves-that-the-best-first-step-in-restoring-a-tree-species-is-not-to-plant-that-species/](https://revitalization.org/article/restoration-strategy-eight-year-experiment-proves-that-the-best-first-step-in-restoring-a-tree-species-is-not-to-plant-that-species/)\n",
       "\n",
       "[https://openpress.usask.ca/soilscience/chapter/soil-reclamation-and-remediation-of-disturbed-lands/](https://openpress.usask.ca/soilscience/chapter/soil-reclamation-and-remediation-of-disturbed-lands/)\n",
       "\n",
       "[https://extension.umd.edu/resource/soil-health-drainage-and-improving-soil](https://extension.umd.edu/resource/soil-health-drainage-and-improving-soil)\n",
       "\n",
       "[https://extension.psu.edu/understanding-tree-planting-in-construction-damaged-soils](https://extension.psu.edu/understanding-tree-planting-in-construction-damaged-soils)\n",
       "\n",
       "[https://journals.lww.com/soilsci/abstract/1999/04000/soil_resilience__a_fundamental_component_of_soil.2.aspx](https://journals.lww.com/soilsci/abstract/1999/04000/soil_resilience__a_fundamental_component_of_soil.2.aspx)\n",
       "\n",
       "[https://www.cbf.org/issues/agriculture/regenerative-agriculture.html](https://www.cbf.org/issues/agriculture/regenerative-agriculture.html)\n",
       "\n",
       "[https://www.conservationfinancenetwork.org/2020/03/24/the-state-of-regenerative-agriculture-growing-with-room-to-grow-more](https://www.conservationfinancenetwork.org/2020/03/24/the-state-of-regenerative-agriculture-growing-with-room-to-grow-more)\n",
       "\n",
       "[https://www.iucn.org/news/nature-based-solutions/202110/regenerative-agriculture-works-new-research-and-african-businesses-show-how](https://www.iucn.org/news/nature-based-solutions/202110/regenerative-agriculture-works-new-research-and-african-businesses-show-how)\n",
       "\n",
       "[https://21acres.org/blog/regenerative-ag-a-primer/](https://21acres.org/blog/regenerative-ag-a-primer/)\n",
       "\n",
       "[https://journals.sagepub.com/doi/10.1177/0030727021998063](https://journals.sagepub.com/doi/10.1177/0030727021998063)\n",
       "\n",
       "[https://www.sciencedirect.com/science/article/pii/S2666389921002488](https://www.sciencedirect.com/science/article/pii/S2666389921002488)\n",
       "\n",
       "[https://www.agrifarming.in/alley-cropping-system-functions-objectives-benefits](https://www.agrifarming.in/alley-cropping-system-functions-objectives-benefits)\n",
       "\n",
       "[https://www.devdiscourse.com/article/science-environment/2296747-agroforestry-a-win-win-for-farmers-forests-and-the-planet](https://www.devdiscourse.com/article/science-environment/2296747-agroforestry-a-win-win-for-farmers-forests-and-the-planet)\n",
       "\n",
       "[https://www.mdpi.com/1996-1073/12/14/2737](https://www.mdpi.com/1996-1073/12/14/2737)\n",
       "\n",
       "[https://www.mdpi.com/2504-3900/36/1/107](https://www.mdpi.com/2504-3900/36/1/107)\n",
       "\n",
       "[https://india.mongabay.com/2021/08/keralas-homegardens-are-a-natural-solution-for-climate-change-mitigation/](https://india.mongabay.com/2021/08/keralas-homegardens-are-a-natural-solution-for-climate-change-mitigation/)\n",
       "\n",
       "[https://www.mdpi.com/2223-7747/12/13/2473/pdf?version=1687954259](https://www.mdpi.com/2223-7747/12/13/2473/pdf?version=1687954259)\n",
       "\n",
       "[https://article.sciencepublishinggroup.com/pdf/10.11648.j.eeb.20210603.12.pdf](https://article.sciencepublishinggroup.com/pdf/10.11648.j.eeb.20210603.12.pdf)\n",
       "\n",
       "[https://link.springer.com/content/pdf/10.1007/s10457-020-00494-6.pdf](https://link.springer.com/content/pdf/10.1007/s10457-020-00494-6.pdf)\n",
       "\n",
       "[https://edis.ifas.ufl.edu/publication/FR145](https://edis.ifas.ufl.edu/publication/FR145)\n",
       "\n"
      ],
      "text/plain": [
       "<IPython.core.display.Markdown object>"
      ]
     },
     "metadata": {},
     "output_type": "display_data"
    },
    {
     "name": "stderr",
     "output_type": "stream",
     "text": [
      "Queries run:: 100%|██████████| 20/20 [02:52<00:00,  8.61s/it]\n"
     ]
    }
   ],
   "source": [
    "questions = list_of_questions.split('\\n')\n",
    "questions = [q for q in questions if q]  # remove empty strings\n",
    "\n",
    "run_queries_through_web_search_and_add_to_kb(knowledge_base_id=doc_review_query_augmented_kb['id'], questions=questions)\n"
   ]
  }
 ],
 "metadata": {
  "kernelspec": {
   "display_name": "Python 3",
   "language": "python",
   "name": "python3"
  },
  "language_info": {
   "codemirror_mode": {
    "name": "ipython",
    "version": 3
   },
   "file_extension": ".py",
   "mimetype": "text/x-python",
   "name": "python",
   "nbconvert_exporter": "python",
   "pygments_lexer": "ipython3",
   "version": "3.9.6"
  }
 },
 "nbformat": 4,
 "nbformat_minor": 2
}
