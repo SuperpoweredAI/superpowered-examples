{
 "cells": [
  {
   "cell_type": "markdown",
   "metadata": {},
   "source": [
    "# A.I. Interview\n",
    "\n",
    "We want to ask an A.I. expert a series of questions about a particular topic.\n",
    "\n",
    "### Steps:\n",
    "\n",
    "1. Create a knowledge base on the topic you'd like to get answers about\n",
    "2. Do a document review over the knowledge base to generate a list of questions\n",
    "3. Create a chat thread with access to knowledge bases and web search to let the A.I. expert answer all the questions"
   ]
  },
  {
   "cell_type": "code",
   "execution_count": 1,
   "metadata": {},
   "outputs": [],
   "source": [
    "import superpowered\n",
    "import requests\n",
    "import time\n",
    "import tqdm\n",
    "\n",
    "from IPython.display import display, Markdown\n",
    "\n",
    "SP_BASE_URL = 'https://api.superpowered.ai/v1'\n",
    "SP_API_KEY_ID = ''\n",
    "SP_API_KEY_SECRET = ''\n",
    "API_AUTH = (SP_API_KEY_ID, SP_API_KEY_SECRET)\n",
    "superpowered.set_api_key(SP_API_KEY_ID, SP_API_KEY_SECRET)\n",
    "\n",
    "\n",
    "def run_and_display_review(kb: dict, ar_instructions: str, fr_instructions: str):\n",
    "    url = f'{SP_BASE_URL}/knowledge_bases/{kb[\"id\"]}/review'\n",
    "    payload = {\n",
    "        'active_reading_instructions': ar_instructions,\n",
    "        'final_review_instructions': fr_instructions,\n",
    "    }\n",
    "    resp = requests.post(url, json=payload, auth=API_AUTH)\n",
    "    final_review_display = display(Markdown('Review pending...'), display_id=True)\n",
    "    progress_bar = tqdm.tqdm(total=1)\n",
    "    progress_bar.set_description(f'Active Reading Progress for {kb[\"title\"]}')\n",
    "\n",
    "    # keep request job until it's completed (or failed)\n",
    "    while resp.json()['status'] not in ['COMPLETE', 'FAILED']:\n",
    "        resp = requests.get(resp.json()['status_url'], auth=API_AUTH)\n",
    "        progress_bar.n = resp.json()['response']['active_reading_progress_pct']\n",
    "        if progress_bar.n >= 1:\n",
    "            final_review_display.update(Markdown(resp.json()[\"response\"][\"final_review\"]))\n",
    "        progress_bar.refresh()\n",
    "\n",
    "    progress_bar.close()\n",
    "    return resp.json()['response']['final_review']\n",
    "\n",
    "\n",
    "def display_chat_question_and_answer(thread_id: str, question: str):\n",
    "    url = f'{SP_BASE_URL}/chat/threads/{thread_id}/get_response'\n",
    "    payload = {\n",
    "        'input': question,\n",
    "        'async': True,\n",
    "    }\n",
    "    resp = requests.post(url, json=payload, auth=API_AUTH)\n",
    "    answer_display = display(Markdown(f'## {question}\\n\\n'), display_id=True)\n",
    "\n",
    "    # keep request job until it's completed (or failed)\n",
    "    while resp.json()['status'] not in ['COMPLETE', 'FAILED']:\n",
    "        resp = requests.get(resp.json()['status_url'], auth=API_AUTH)\n",
    "        answer_display.update(Markdown(f'## {question}\\n\\n' + str(resp.json()[\"response\"][\"interaction\"][\"model_response\"][\"content\"])))\n",
    "\n",
    "    return resp.json()['response']\n"
   ]
  },
  {
   "cell_type": "markdown",
   "metadata": {},
   "source": [
    "### Generate questions with document review"
   ]
  },
  {
   "cell_type": "code",
   "execution_count": 2,
   "metadata": {},
   "outputs": [
    {
     "data": {
      "text/markdown": [
       "What are the core principles of regenerative agriculture?\n",
       "How do regenerative agriculture practices improve soil health?\n",
       "What role does biodiversity play in regenerative agriculture?\n",
       "How does regenerative agriculture contribute to climate change mitigation?\n",
       "What are the economic benefits for farmers practicing regenerative agriculture?\n",
       "How do regenerative agriculture practices differ from traditional agricultural methods?\n",
       "What challenges do farmers face when transitioning to regenerative agriculture practices?\n",
       "How does regenerative agriculture impact water cycles and water quality?\n",
       "What are the long-term impacts of regenerative agriculture on land resilience?\n",
       "How is livestock integrated into regenerative agriculture systems?\n",
       "What are the specific practices involved in adaptive grazing within regenerative agriculture?\n",
       "How do regenerative agriculture practices vary across different ecosystems?\n",
       "What role does carbon sequestration play in regenerative agriculture?\n",
       "What are the criticisms and limitations of regenerative agriculture?\n",
       "How do regenerative agriculture practices influence local and global food systems?\n",
       "What policies and incentives are needed to promote regenerative agriculture on a wider scale?\n",
       "How do indigenous knowledge and practices influence regenerative agriculture?\n",
       "What are the key differences between regenerative and organic agriculture?\n",
       "How do companies incorporate regenerative agriculture into their supply chains?\n",
       "What scientific evidence supports the benefits of regenerative agriculture?\n",
       "How do regenerative agriculture practices affect the nutritional quality of food produced?\n",
       "What role does soil organic matter play in regenerative agriculture?\n",
       "How does regenerative agriculture address issues of social justice and community involvement?\n",
       "What are the potential risks of not adopting regenerative agriculture practices globally?\n",
       "How can regenerative agriculture be scaled up to meet global food demand while maintaining ecosystem health?"
      ],
      "text/plain": [
       "<IPython.core.display.Markdown object>"
      ]
     },
     "metadata": {},
     "output_type": "display_data"
    },
    {
     "name": "stderr",
     "output_type": "stream",
     "text": [
      "Active Reading Progress for Restorative Agriculture (Small): 100%|██████████| 1/1 [01:41<00:00, 101.94s/it]      \n"
     ]
    }
   ],
   "source": [
    "INTERVIEW_KB_ID = 'e3ed8783-c425-4bfa-99b3-fedba3281048'\n",
    "INTERVIEW_TOPIC = 'Regenerative Agriculture'\n",
    "\n",
    "\n",
    "active_reading_instructions = f\"\"\"\\\n",
    "Make note of any key points, concepts, or ideas that you think are important related to {INTERVIEW_TOPIC}. \\\n",
    "\"\"\"\n",
    "\n",
    "final_review_instructions = f\"\"\"\\\n",
    "Given the notes created during the active reading phase, generate a list of questions regarding {INTERVIEW_TOPIC}.\n",
    "\n",
    "IMPORTANT: Your output should include nothing except for questions separated by newlines.\n",
    "\"\"\"\n",
    "\n",
    "\n",
    "kb = superpowered.get_knowledge_base(INTERVIEW_KB_ID)\n",
    "\n",
    "interview_questions = run_and_display_review(kb, active_reading_instructions, final_review_instructions)\n",
    "\n",
    "interview_questions = interview_questions.split('\\n')\n",
    "interview_questions = [q for q in interview_questions if q]"
   ]
  },
  {
   "cell_type": "markdown",
   "metadata": {},
   "source": [
    "### Create a chat thread and start asking the A.I. expert questions"
   ]
  },
  {
   "cell_type": "code",
   "execution_count": 3,
   "metadata": {},
   "outputs": [
    {
     "data": {
      "text/markdown": [
       "## What are the core principles of regenerative agriculture?\n",
       "\n",
       "The core principles of regenerative agriculture include improving soil health, enhancing biodiversity, optimizing resource management, mitigating climate change, and improving water quality and availability."
      ],
      "text/plain": [
       "<IPython.core.display.Markdown object>"
      ]
     },
     "metadata": {},
     "output_type": "display_data"
    },
    {
     "data": {
      "text/markdown": [
       "## How do regenerative agriculture practices improve soil health?\n",
       "\n",
       "Regenerative agriculture practices like minimizing tillage, keeping the soil covered, increasing plant diversity, and integrating livestock help improve soil health by increasing soil organic matter, enhancing soil structure, and supporting a diverse community of beneficial soil microorganisms."
      ],
      "text/plain": [
       "<IPython.core.display.Markdown object>"
      ]
     },
     "metadata": {},
     "output_type": "display_data"
    },
    {
     "data": {
      "text/markdown": [
       "## What role does biodiversity play in regenerative agriculture?\n",
       "\n",
       "Biodiversity is essential in regenerative agriculture as it enhances ecosystem resilience, improves nutrient cycling, provides natural pest control, and supports a wide range of beneficial organisms both above and below ground."
      ],
      "text/plain": [
       "<IPython.core.display.Markdown object>"
      ]
     },
     "metadata": {},
     "output_type": "display_data"
    },
    {
     "data": {
      "text/markdown": [
       "## How does regenerative agriculture contribute to climate change mitigation?\n",
       "\n",
       "Regenerative agriculture helps mitigate climate change by sequestering carbon in the soil through practices that increase soil organic matter, reducing greenhouse gas emissions from farming operations, and enhancing the land's resilience to extreme weather events."
      ],
      "text/plain": [
       "<IPython.core.display.Markdown object>"
      ]
     },
     "metadata": {},
     "output_type": "display_data"
    },
    {
     "data": {
      "text/markdown": [
       "## What are the economic benefits for farmers practicing regenerative agriculture?\n",
       "\n",
       "Regenerative agriculture can boost farm profitability by reducing input costs (like fertilizers and pesticides), improving crop yields and quality over time, enhancing resilience to weather extremes, and potentially opening up new revenue streams like carbon credits or premium pricing for regeneratively-grown products."
      ],
      "text/plain": [
       "<IPython.core.display.Markdown object>"
      ]
     },
     "metadata": {},
     "output_type": "display_data"
    },
    {
     "data": {
      "text/markdown": [
       "## How do regenerative agriculture practices differ from traditional agricultural methods?\n",
       "\n",
       "Regenerative agriculture focuses on enhancing and restoring ecosystem health, while traditional methods often prioritize short-term productivity. Regenerative practices minimize soil disturbance, maximize diversity, and integrate livestock, whereas conventional farming typically involves heavy tillage, monocultures, and a reliance on synthetic inputs."
      ],
      "text/plain": [
       "<IPython.core.display.Markdown object>"
      ]
     },
     "metadata": {},
     "output_type": "display_data"
    },
    {
     "data": {
      "text/markdown": [
       "## What challenges do farmers face when transitioning to regenerative agriculture practices?\n",
       "\n",
       "Farmers transitioning to regenerative agriculture often face challenges such as the upfront costs of new equipment or infrastructure, a learning curve for new practices, potential short-term yield reductions, limited access to specialized markets, and a lack of supportive policies or financial incentives."
      ],
      "text/plain": [
       "<IPython.core.display.Markdown object>"
      ]
     },
     "metadata": {},
     "output_type": "display_data"
    },
    {
     "data": {
      "text/markdown": [
       "## How does regenerative agriculture impact water cycles and water quality?\n",
       "\n",
       "Regenerative agriculture improves water cycles and quality by increasing soil organic matter, which enhances the soil's water-holding capacity and infiltration rates. This reduces runoff, erosion, and nutrient leaching, leading to cleaner water in nearby streams and aquifers. Diverse plantings and cover crops also help filter water and regulate its flow through the landscape."
      ],
      "text/plain": [
       "<IPython.core.display.Markdown object>"
      ]
     },
     "metadata": {},
     "output_type": "display_data"
    },
    {
     "data": {
      "text/markdown": [
       "## What are the long-term impacts of regenerative agriculture on land resilience?\n",
       "\n",
       "Over time, regenerative agriculture builds land resilience by improving soil health, increasing biodiversity, and enhancing the ecosystem's ability to withstand stresses like drought, floods, or pest outbreaks. This leads to more stable yields, reduced input requirements, and greater adaptability to changing climate conditions in the long run."
      ],
      "text/plain": [
       "<IPython.core.display.Markdown object>"
      ]
     },
     "metadata": {},
     "output_type": "display_data"
    },
    {
     "data": {
      "text/markdown": [
       "## How is livestock integrated into regenerative agriculture systems?\n",
       "\n",
       "In regenerative agriculture, livestock are managed in ways that mimic natural grazing patterns, such as through adaptive multi-paddock grazing. This involves moving animals frequently through smaller paddocks, allowing adequate plant recovery periods. Well-managed grazing can stimulate plant growth, increase soil organic matter, and enhance nutrient cycling."
      ],
      "text/plain": [
       "<IPython.core.display.Markdown object>"
      ]
     },
     "metadata": {},
     "output_type": "display_data"
    },
    {
     "data": {
      "text/markdown": [
       "## What are the specific practices involved in adaptive grazing within regenerative agriculture?\n",
       "\n",
       "Adaptive grazing in regenerative agriculture involves carefully managing the timing, intensity, and duration of livestock grazing. Key practices include high stock density, frequent rotation of animals through paddocks, providing long rest periods for pastures to recover, and adjusting management based on close monitoring of forage and soil conditions."
      ],
      "text/plain": [
       "<IPython.core.display.Markdown object>"
      ]
     },
     "metadata": {},
     "output_type": "display_data"
    },
    {
     "data": {
      "text/markdown": [
       "## How do regenerative agriculture practices vary across different ecosystems?\n",
       "\n",
       "Regenerative agriculture practices are tailored to the specific context of each ecosystem. For example:\n",
       "\n",
       "- In grasslands, adaptive grazing is a key tool to stimulate plant growth and soil health. \n",
       "- In croplands, practices like cover cropping, crop rotation, and reduced tillage are common.\n",
       "- Agroforestry practices like alley cropping and silvopasture are well-suited to areas with trees.\n",
       "\n",
       "The core principles remain the same, but the specific practices are adapted based on climate, soil type, native vegetation, water availability, and other environmental factors unique to each location. Successful regenerative farmers develop a deep understanding of their land's ecology and adjust practices accordingly."
      ],
      "text/plain": [
       "<IPython.core.display.Markdown object>"
      ]
     },
     "metadata": {},
     "output_type": "display_data"
    },
    {
     "data": {
      "text/markdown": [
       "## What role does carbon sequestration play in regenerative agriculture?\n",
       "\n",
       "Carbon sequestration is a central aspect of regenerative agriculture. Practices like minimizing tillage, keeping soil covered with plants, and incorporating organic matter help draw carbon dioxide from the atmosphere and store it long-term in the soil as stable organic carbon. This process not only mitigates climate change but also improves soil health and fertility. Estimates suggest regenerative practices could sequester billions of tons of carbon annually if widely adopted."
      ],
      "text/plain": [
       "<IPython.core.display.Markdown object>"
      ]
     },
     "metadata": {},
     "output_type": "display_data"
    },
    {
     "data": {
      "text/markdown": [
       "## What are the criticisms and limitations of regenerative agriculture?\n",
       "\n",
       "Some key criticisms and limitations of regenerative agriculture include:\n",
       "\n",
       "- Lack of a clear, universally accepted definition and standards\n",
       "- Limited large-scale, long-term scientific studies on impacts and scalability \n",
       "- Potential for slower initial results and short-term yield reductions during transition\n",
       "- May not be feasible in all contexts due to environmental, economic, or social constraints\n",
       "- Unlikely to be a complete solution to climate change and food system challenges on its own\n",
       "\n",
       "While regenerative agriculture shows promise, more research is needed to fully understand its potential and limitations across diverse contexts."
      ],
      "text/plain": [
       "<IPython.core.display.Markdown object>"
      ]
     },
     "metadata": {},
     "output_type": "display_data"
    },
    {
     "data": {
      "text/markdown": [
       "## How do regenerative agriculture practices influence local and global food systems?\n",
       "\n",
       "Regenerative agriculture can influence food systems at multiple scales. Locally, it can improve food security and nutrition by building soil health, increasing crop diversity, and enhancing resilience to climate shocks. This is especially important for smallholder farmers in developing nations. \n",
       "\n",
       "At a global level, widespread adoption of regenerative practices could help mitigate climate change, reduce agriculture's environmental footprint, and support more sustainable and equitable food production and distribution. However, transitioning to regenerative systems at scale would require significant changes in policies, markets, and consumer behavior."
      ],
      "text/plain": [
       "<IPython.core.display.Markdown object>"
      ]
     },
     "metadata": {},
     "output_type": "display_data"
    },
    {
     "data": {
      "text/markdown": [
       "## What policies and incentives are needed to promote regenerative agriculture on a wider scale?\n",
       "\n",
       "To promote regenerative agriculture on a wider scale, key policies and incentives could include:\n",
       "\n",
       "- Redirecting subsidies to support regenerative practices instead of industrial agriculture\n",
       "- Providing transition assistance, grants, and low-interest loans to farmers \n",
       "- Funding research, education, and technical assistance on regenerative methods\n",
       "- Developing markets and premium prices for regeneratively-grown products\n",
       "- Creating carbon markets or tax incentives to reward carbon sequestration in soils\n",
       "- Strengthening local and regional food systems infrastructure\n",
       "\n",
       "A coordinated policy framework across local, state, and federal levels, coupled with private sector investment and partnerships, will be essential to drive large-scale adoption of regenerative practices."
      ],
      "text/plain": [
       "<IPython.core.display.Markdown object>"
      ]
     },
     "metadata": {},
     "output_type": "display_data"
    },
    {
     "data": {
      "text/markdown": [
       "## How do indigenous knowledge and practices influence regenerative agriculture?\n",
       "\n",
       "Indigenous knowledge and practices are foundational to regenerative agriculture. Many Indigenous communities have long used practices like intercropping, agroforestry, and controlled burning to manage land regeneratively. \n",
       "\n",
       "Indigenous worldviews often emphasize reciprocal relationships between humans and nature, seeing land as a relative to care for rather than a resource to exploit. These perspectives align with regenerative agriculture's focus on working with natural systems.\n",
       "\n",
       "However, the regenerative agriculture movement has been criticized for often failing to acknowledge and include Indigenous leadership and traditional ecological knowledge. Addressing this is crucial, as Indigenous communities have invaluable wisdom to share and must be key partners in the transition to regenerative food systems."
      ],
      "text/plain": [
       "<IPython.core.display.Markdown object>"
      ]
     },
     "metadata": {},
     "output_type": "display_data"
    },
    {
     "data": {
      "text/markdown": [
       "## What are the key differences between regenerative and organic agriculture?\n",
       "\n",
       "While regenerative and organic agriculture share some common goals and practices, there are a few key differences:\n",
       "\n",
       "- Organic agriculture is defined by strict standards and certifications, while regenerative lacks universally accepted standards.\n",
       "- Organic primarily focuses on avoiding synthetic inputs, while regenerative more holistically emphasizes improving ecosystem health. \n",
       "- Some regenerative practices, like adaptive grazing, aren't always prioritized in organic systems.\n",
       "- Regenerative more explicitly aims to mitigate climate change through carbon sequestration.\n",
       "\n",
       "In practice, many regenerative farmers go beyond organic standards, while some organic farms use more industrialized practices. The two approaches can be complementary, but regenerative tends to be a broader philosophy rather than a codified set of practices."
      ],
      "text/plain": [
       "<IPython.core.display.Markdown object>"
      ]
     },
     "metadata": {},
     "output_type": "display_data"
    },
    {
     "data": {
      "text/markdown": [
       "## How do companies incorporate regenerative agriculture into their supply chains?\n",
       "\n",
       "Companies can incorporate regenerative agriculture into their supply chains in several ways:\n",
       "\n",
       "- Sourcing ingredients from farms using regenerative practices\n",
       "- Providing training, resources, and financial incentives to help suppliers transition to regenerative methods\n",
       "- Developing long-term contracts and partnerships with regenerative farmers\n",
       "- Supporting research and pilot projects to test and scale regenerative approaches\n",
       "- Investing in infrastructure like local processing facilities to support regenerative food systems\n",
       "- Educating consumers about the benefits of regenerative agriculture through product labeling and marketing\n",
       "\n",
       "Transitioning supply chains takes time and requires a collaborative approach, working closely with farmers, suppliers, researchers, and other stakeholders to develop context-specific solutions. Transparency and accountability are also key to ensure regenerative claims are credible and impactful."
      ],
      "text/plain": [
       "<IPython.core.display.Markdown object>"
      ]
     },
     "metadata": {},
     "output_type": "display_data"
    },
    {
     "data": {
      "text/markdown": [
       "## What scientific evidence supports the benefits of regenerative agriculture?\n",
       "\n",
       "A growing body of scientific evidence supports the benefits of regenerative agriculture:\n",
       "\n",
       "- Studies show regenerative practices can increase soil organic matter, improve soil structure, and enhance nutrient cycling.\n",
       "- Research indicates regenerative systems can reduce erosion, improve water infiltration and retention, and decrease runoff and pollution.\n",
       "- Some studies have found higher levels of beneficial soil microbes, invertebrates, and wildlife on regenerative farms.\n",
       "- Limited data suggests potential for increased crop nutrient density and livestock health in regenerative systems.\n",
       "- Modeling and field studies indicate significant potential for soil carbon sequestration, though estimates vary.\n",
       "\n",
       "However, much of the evidence comes from short-term, localized studies. More long-term, large-scale, and holistic research is needed to fully understand regenerative agriculture's impacts across diverse contexts and to optimize practices for specific desired outcomes."
      ],
      "text/plain": [
       "<IPython.core.display.Markdown object>"
      ]
     },
     "metadata": {},
     "output_type": "display_data"
    },
    {
     "data": {
      "text/markdown": [
       "## How do regenerative agriculture practices affect the nutritional quality of food produced?\n",
       "\n",
       "Emerging research suggests that regenerative agriculture practices can enhance the nutritional quality of food:\n",
       "\n",
       "- Some studies have found higher levels of certain vitamins, minerals, and beneficial compounds in crops grown in regenerative systems compared to conventional.\n",
       "- Livestock raised on regenerative farms with diverse forages may have healthier fat profiles and higher levels of nutrients like omega-3s.\n",
       "- Regenerative practices can increase the diversity of nutrient-dense foods produced, like fruits, vegetables, and whole grains.\n",
       "\n",
       "These potential nutritional benefits are thought to result from healthier soils, greater crop diversity, and reduced use of synthetic inputs. However, more research is needed to fully understand the links between specific regenerative practices, soil health, and human health outcomes across different production systems."
      ],
      "text/plain": [
       "<IPython.core.display.Markdown object>"
      ]
     },
     "metadata": {},
     "output_type": "display_data"
    },
    {
     "data": {
      "text/markdown": [
       "## What role does soil organic matter play in regenerative agriculture?\n",
       "\n",
       "Soil organic matter (SOM) plays a central role in regenerative agriculture. Increasing SOM is a key goal, as it provides numerous benefits:\n",
       "\n",
       "- Enhances soil structure, aeration, and water-holding capacity\n",
       "- Acts as a reservoir for nutrients, slowly releasing them to plants\n",
       "- Supports diverse and abundant soil microbes, which drive nutrient cycling\n",
       "- Helps buffer soil pH and reduce compaction\n",
       "- Sequesters carbon from the atmosphere\n",
       "\n",
       "Regenerative practices like reducing tillage, keeping soil planted, and applying organic amendments all help build SOM over time. SOM is essentially the foundation of soil health in regenerative systems, enabling all the other benefits for crops, water, climate, and biodiversity. Farmers often track SOM as a key indicator of their soil's regenerative capacity."
      ],
      "text/plain": [
       "<IPython.core.display.Markdown object>"
      ]
     },
     "metadata": {},
     "output_type": "display_data"
    },
    {
     "data": {
      "text/markdown": [
       "## How does regenerative agriculture address issues of social justice and community involvement?\n",
       "\n",
       "Regenerative agriculture has the potential to address social justice issues and promote community involvement, but this aspect is often overlooked. Some key considerations:\n",
       "\n",
       "- Regenerative practices can improve food security and nutrition for local communities by building more resilient, diverse, and productive food systems.\n",
       "- Prioritizing Indigenous leadership and traditional ecological knowledge in regenerative transitions is crucial for social justice and decolonizing food systems.\n",
       "- Regenerative agriculture can create opportunities for more equitable land access and ownership, especially for marginalized groups.\n",
       "- Community-based initiatives like urban gardens, farmer cooperatives, and local food hubs can make regenerative agriculture more inclusive and accessible.\n",
       "- Regenerative supply chains should ensure fair labor practices and living wages for farmers and workers.\n",
       "\n",
       "However, the regenerative agriculture movement has been criticized for often being dominated by privileged, white stakeholders and failing to center social justice. Addressing these disparities and empowering diverse community leadership will be essential for regenerative agriculture to truly advance equity and resilience from the ground up."
      ],
      "text/plain": [
       "<IPython.core.display.Markdown object>"
      ]
     },
     "metadata": {},
     "output_type": "display_data"
    },
    {
     "data": {
      "text/markdown": [
       "## What are the potential risks of not adopting regenerative agriculture practices globally?\n",
       "\n",
       "If regenerative agriculture practices are not widely adopted, we risk exacerbating multiple global crises:\n",
       "\n",
       "- Continued soil degradation could lead to widespread crop failures, food insecurity, and economic disruption.\n",
       "- Biodiversity loss may accelerate as industrial agriculture expands, decimating crucial species and ecosystems.\n",
       "- Agriculture's greenhouse gas emissions would likely increase, further destabilizing the climate.\n",
       "- Water cycles and aquatic ecosystems could be increasingly disrupted by erosion, pollution, and unsustainable irrigation.\n",
       "- Rural communities may face worsening poverty, displacement, and health impacts from industrialized food systems.\n",
       "\n",
       "While transitioning to regenerative agriculture is complex and challenging, the long-term risks of inaction are severe. Regenerative approaches offer a path to build resilience and avoid catastrophic tipping points in our food systems and ecosystems. The stakes could not be higher."
      ],
      "text/plain": [
       "<IPython.core.display.Markdown object>"
      ]
     },
     "metadata": {},
     "output_type": "display_data"
    },
    {
     "data": {
      "text/markdown": [
       "## How can regenerative agriculture be scaled up to meet global food demand while maintaining ecosystem health?\n",
       "\n",
       "Scaling up regenerative agriculture to meet global food needs while maintaining ecosystem health will require a multi-faceted approach:\n",
       "\n",
       "- Increased investment in research, education, and technical assistance to support farmers in adopting regenerative practices\n",
       "- Redirecting subsidies and policies to incentivize regenerative approaches over industrial agriculture\n",
       "- Developing markets and infrastructure for regeneratively-grown products, making them more accessible and affordable\n",
       "- Engaging consumers to shift demand towards regenerative foods and build awareness of their benefits\n",
       "- Fostering collaborative networks and knowledge-sharing among regenerative farmers and researchers globally\n",
       "- Tailoring regenerative practices to local contexts and coupling them with other sustainable food system strategies like reducing waste and shifting diets\n",
       "\n",
       "Importantly, scaling regenerative agriculture must prioritize the leadership and rights of Indigenous and local communities, ensuring they have access to land, resources, and decision-making power. A just and inclusive approach is essential for regenerative agriculture to achieve its full potential in nourishing people and the planet."
      ],
      "text/plain": [
       "<IPython.core.display.Markdown object>"
      ]
     },
     "metadata": {},
     "output_type": "display_data"
    }
   ],
   "source": [
    "thread = superpowered.create_chat_thread(\n",
    "    knowledge_base_ids=[INTERVIEW_KB_ID],\n",
    "    use_web_search=True,\n",
    "    model='claude-3-opus',\n",
    "    response_length='short',\n",
    "    system_message=f'You are acting as an expert in {INTERVIEW_TOPIC}. You should should respond as though the answer is your own. Do NOT refer to any searching you might have done to get the answer. Feel free to reference older messages in the conversation history. Most importantly, you should make your answers accessible to the general public. Do NOT use jargon and other technical terms that are not widely understood.'\n",
    ")\n",
    "\n",
    "for question in interview_questions:\n",
    "    display_chat_question_and_answer(thread['id'], question)\n"
   ]
  }
 ],
 "metadata": {
  "kernelspec": {
   "display_name": "Python 3",
   "language": "python",
   "name": "python3"
  },
  "language_info": {
   "codemirror_mode": {
    "name": "ipython",
    "version": 3
   },
   "file_extension": ".py",
   "mimetype": "text/x-python",
   "name": "python",
   "nbconvert_exporter": "python",
   "pygments_lexer": "ipython3",
   "version": "3.9.6"
  }
 },
 "nbformat": 4,
 "nbformat_minor": 2
}
