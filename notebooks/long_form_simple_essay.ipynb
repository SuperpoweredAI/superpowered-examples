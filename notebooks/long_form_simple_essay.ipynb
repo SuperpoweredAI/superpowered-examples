{
 "cells": [
  {
   "cell_type": "markdown",
   "metadata": {},
   "source": [
    "**`Webinar 2024-01-10`**\n",
    "\n",
    "[YouTube Recording](https://www.youtube.com/watch?v=dPSbZGW1-qg&list=PLePKvgYhNOFxg3O7gXfmxaKp0EWXEhvNC&index=5)\n",
    "\n",
    "# Simple long-form generation and audio export\n",
    "\n",
    "### Write an essay about quantum computing and its implications in other fields"
   ]
  },
  {
   "cell_type": "markdown",
   "metadata": {},
   "source": [
    "##### Submit job"
   ]
  },
  {
   "cell_type": "code",
   "execution_count": 1,
   "metadata": {},
   "outputs": [
    {
     "name": "stdout",
     "output_type": "stream",
     "text": [
      "{'request': {'auto_query_guidance': '', 'response_length': 'medium', 'use_web_search': False, 'segment_length': 'short', 'temperature': 0.5, 'web_search_preset': None, 'model': 'gpt-4', 'supp_id': None, 'knowledge_base_ids': ['94edf5f6-0ce6-4d21-addc-45078ddad4f7'], 'prompt': 'Please write me an essay about the real world applications of quantum computing.\\n\\nSpecifically, I would like you to write about the following topics:\\n- Quantum computing and machine learning\\n- Quantum computing and cryptography\\n- Quantum computing and biology\\n'}, 'created_on': 1712275038, 'response': {'short_title': '', 'id': 'd6cdc0f8-9866-4e6e-bdd7-73830ae87006', 'title': '', 'version': 0, 'sections': []}, 'supp_id': None, 'id': 'd6cdc0f8-9866-4e6e-bdd7-73830ae87006', 'type': 'LONG_FORM', 'status': 'PENDING', 'status_url': 'https://api.superpowered.ai/v1/long_form/d6cdc0f8-9866-4e6e-bdd7-73830ae87006'}\n"
     ]
    }
   ],
   "source": [
    "import requests\n",
    "import json\n",
    "import time\n",
    "from IPython.display import display, Markdown\n",
    "\n",
    "prompt =\"\"\"\\\n",
    "Please write me an essay about the real world applications of quantum computing.\n",
    "\n",
    "Specifically, I would like you to write about the following topics:\n",
    "- Quantum computing and machine learning\n",
    "- Quantum computing and cryptography\n",
    "- Quantum computing and biology\n",
    "\"\"\"\n",
    "\n",
    "url = 'https://api.superpowered.ai/v1/long_form'\n",
    "payload = {\n",
    "    'prompt': prompt,\n",
    "    'knowledge_base_ids': ['94edf5f6-0ce6-4d21-addc-45078ddad4f7'],\n",
    "    'model': 'gpt-4',\n",
    "    'response_length': 'medium',\n",
    "    'segment_length': 'short',\n",
    "}\n",
    "SP_API_KEY_ID = ''\n",
    "SP_API_KEY_SECRET = ''\n",
    "SP_AUTH = (SP_API_KEY_ID, SP_API_KEY_SECRET)\n",
    "resp = requests.post(url, json=payload, auth=SP_AUTH)\n",
    "\n",
    "print(resp.json())"
   ]
  },
  {
   "cell_type": "markdown",
   "metadata": {},
   "source": [
    "##### Stream Long-Form Response"
   ]
  },
  {
   "cell_type": "code",
   "execution_count": 2,
   "metadata": {},
   "outputs": [
    {
     "data": {
      "text/markdown": [
       "# Exploring the Intersection of Quantum Computing in Various Fields\n",
       "\n",
       "## Introduction to Quantum Computing\n",
       "Quantum computing represents a significant leap from traditional computing, leveraging the principles of quantum mechanics to process information in ways that classical computers cannot. At the heart of this technology are quantum bits, or qubits, which differ fundamentally from the binary bits used in classical computing. Unlike a binary bit, which can be either 0 or 1, a qubit can exist in a state of superposition, allowing it to represent both 0 and 1 simultaneously. This property, along with entanglement—a phenomenon where qubits become interconnected in such a way that the state of one (no matter the distance) can depend on the state of another—enables quantum computers to perform complex calculations more efficiently.\n",
       "\n",
       "The theoretical foundation of quantum computing is deeply rooted in quantum mechanics, a branch of physics that describes the behavior of energy and materials on the atomic and subatomic levels. Quantum mechanics introduces concepts that defy classical physics, such as the uncertainty principle and the idea that particles can exist in multiple states at once until measured. Quantum computing harnesses these principles, particularly superposition and entanglement, to process and analyze data in novel ways. For instance, while a classical computer would process calculations sequentially, a quantum computer can process multiple possibilities simultaneously, potentially solving problems in seconds that would take classical computers millennia.\n",
       "\n",
       "The implications of these capabilities are profound, extending far beyond just faster computing speeds. Quantum computing holds the promise of revolutionizing fields by enabling the simulation of complex quantum systems, optimizing large systems more efficiently, and factoring large numbers with implications for cryptography. However, the technology is still in its infancy, facing significant challenges such as error rates and the decoherence of qubits, which can lead to loss of information. Despite these hurdles, advancements in quantum computing continue at a rapid pace, driven by both public and private sector investments.\n",
       "\n",
       "Understanding the basics of quantum mechanics and how they apply to quantum computing is essential for grasping the potential impact of this technology across various domains. As we explore the applications of quantum computing in machine learning, cryptography, and biology, it's important to keep in mind the unique capabilities and challenges of quantum computing. The promise of quantum computing lies not just in doing things faster, but in opening up entirely new possibilities for solving complex problems that are currently beyond our reach.\n",
       "\n",
       "## Quantum Computing and Machine Learning\n",
       "Quantum computing holds the potential to revolutionize machine learning by leveraging quantum algorithms to enhance data processing and analysis capabilities. This fusion of quantum computing and machine learning, often referred to as quantum-enhanced machine learning, aims to exploit the unique properties of quantum mechanics, such as superposition and entanglement, to process and analyze classical data on quantum computers. The theoretical advantages of this approach are significant, offering the possibility of exponential speedups in data processing and the ability to efficiently handle complex, high-dimensional datasets that are challenging for classical algorithms.\n",
       "\n",
       "The current research and development landscape in quantum machine learning is vibrant, with both theoretical proposals and experimental demonstrations contributing to our understanding of its potential and limitations. Quantum algorithms, for instance, are being explored for their ability to perform tasks such as pattern recognition and binary classification more efficiently than their classical counterparts. These algorithms leverage quantum properties to achieve accuracy and speed, potentially transforming areas such as image and speech recognition, and financial modeling. However, the field is still in its nascent stages, with many proposals awaiting practical implementation on full-scale quantum computers. The challenges that lie ahead include improving the stability of qubits, reducing error rates in quantum computations, and developing algorithms that can be effectively executed on the quantum hardware available today.\n",
       "\n",
       "Despite these challenges, the promise of quantum machine learning is compelling. It extends beyond mere speed improvements, offering new methodologies for analyzing quantum states themselves, thereby opening up new avenues for research. For example, quantum machine learning algorithms have been proposed for identifying quantum phase transitions and for designing new quantum experiments. This not only illustrates the potential for quantum computing to enhance classical machine learning tasks but also highlights its capability to contribute to our understanding of quantum systems.\n",
       "\n",
       "Moreover, quantum machine learning explores the intersection of quantum computing with classical machine learning techniques, such as the application of classical machine learning methods to data generated from quantum experiments. This includes learning the phase transitions of a quantum system or creating new quantum experiments. These efforts underscore the bidirectional benefits of integrating quantum computing with machine learning, where each field informs and advances the other.\n",
       "\n",
       "As we continue to explore the synergy between quantum computing and machine learning, it is clear that the journey is just beginning. The theoretical and experimental groundwork laid by researchers around the world is paving the way for future breakthroughs. Overcoming the technical hurdles will require sustained effort and innovation, but the potential rewards—ranging from advanced pattern recognition capabilities to new insights into quantum physics—make the pursuit of quantum-enhanced machine learning an exciting frontier in both computing and science.\n",
       "\n",
       "## Quantum Computing and Cryptography\n",
       "Quantum computing introduces transformative potential across various fields, including cryptography. The emergence of quantum algorithms, notably Shor's algorithm, presents a significant challenge to the cryptographic systems that underpin modern digital security. Traditional cryptographic protocols, such as RSA and elliptic curve cryptography, rely on the computational difficulty of problems like integer factorization and the discrete logarithm problem. These problems, though currently infeasible for classical computers to solve in a reasonable timeframe, could be efficiently addressed by quantum computers using Shor's algorithm. This ability would render many of the encryption methods that secure internet communications, financial transactions, and stored data vulnerable to decryption, posing a threat to digital security as we know it.\n",
       "\n",
       "In response to these potential vulnerabilities, the field of post-quantum cryptography has emerged, focusing on developing cryptographic systems that are secure against quantum attacks. This research is directed towards identifying and designing encryption methods based on problems that are believed to be secure against both classical and quantum computational attacks. For example, lattice-based cryptography and hash-based cryptography are among the approaches being explored for their resistance to quantum computing techniques. The goal is to establish new standards that can safeguard digital information against the future capability of quantum computers, ensuring the continued confidentiality and integrity of communications.\n",
       "\n",
       "Another promising development in the realm of quantum cryptography is quantum key distribution (QKD). Unlike traditional cryptographic methods that rely on the computational difficulty of certain mathematical problems, QKD leverages the principles of quantum mechanics to establish secure communication channels. It utilizes the properties of quantum particles to detect any attempt at eavesdropping, as the act of measuring a quantum system inevitably alters its state. This characteristic allows the communicating parties to verify the security of their key exchange, making QKD a powerful tool for achieving information security in the quantum era. As research progresses, quantum key distribution, along with advancements in post-quantum cryptography, represents a proactive approach to addressing the security challenges posed by quantum computing.\n",
       "\n",
       "## Quantum Computing and Biology\n",
       "The intersection of quantum computing and biology, often referred to as quantum biology, is opening up new avenues for understanding life at the molecular level. Quantum computing's ability to simulate complex molecular structures and interactions is particularly significant for the fields of drug discovery and enzyme catalysis. Traditional computational methods struggle to accurately model the intricate dance of atoms and electrons within biological molecules due to the sheer computational power required. Quantum computers, with their ability to process and analyze data in a fundamentally different way, hold the promise of unlocking these complex biological systems. This capability could lead to the development of new drugs by allowing researchers to simulate the effects of potential pharmaceuticals on complex biological systems with unprecedented accuracy.\n",
       "\n",
       "Moreover, quantum computing's potential impact on biology extends beyond molecular simulation. Enzyme catalysis, a process critical for life, involves quantum tunnelling—where particles move through barriers that would be insurmountable according to classical physics. Understanding these quantum phenomena could revolutionize our approach to bioengineering and synthetic biology, enabling the design of more efficient enzymes for industrial processes, biofuels, and waste management. The precise simulation of these quantum processes requires the computational power that only quantum computers can provide, offering insights that could lead to breakthroughs in how we harness biological systems.\n",
       "\n",
       "The emerging field of quantum biology also explores fundamental questions about the role of quantum mechanics in life processes, such as photosynthesis, olfaction, and even avian navigation. Quantum computing could play a crucial role in unraveling these mysteries, providing the computational resources needed to model and understand how quantum effects influence biological function. This not only has profound implications for basic science but also opens up new possibilities for technological applications inspired by nature's quantum mechanisms.\n",
       "\n",
       "In essence, the synergy between quantum computing and biology has the potential to transform our understanding of life itself. By enabling the simulation of complex biological processes and unraveling the quantum underpinnings of biological systems, quantum computing could pave the way for innovations in medicine, bioengineering, and beyond. As research in this interdisciplinary field progresses, we may find that the quantum realm holds the key to unlocking some of biology's most enduring mysteries, marking a new era in both computational and biological sciences.\n",
       "\n"
      ],
      "text/plain": [
       "<IPython.core.display.Markdown object>"
      ]
     },
     "metadata": {},
     "output_type": "display_data"
    }
   ],
   "source": [
    "def long_form_to_md(long_form_response: str) -> str:\n",
    "    s = ''\n",
    "    s += '# ' + long_form_response['title'] + '\\n\\n'\n",
    "    for section in long_form_response['sections']:\n",
    "        s += '## ' + section['title'] + '\\n'\n",
    "        s += section['content'] + '\\n\\n'\n",
    "\n",
    "    return s\n",
    "\n",
    "\n",
    "long_form_display = display(Markdown('Essay Pending...'), display_id=True)\n",
    "while resp.json()['status'] not in ['COMPLETE', 'FAILED']:\n",
    "    resp = requests.get(resp.json()['status_url'], auth=SP_AUTH)\n",
    "    long_form_display.update(Markdown(long_form_to_md(resp.json()[\"response\"])))\n",
    "\n",
    "job_id = resp.json()['id']"
   ]
  },
  {
   "cell_type": "markdown",
   "metadata": {},
   "source": [
    "##### Create an audio export of the essay"
   ]
  },
  {
   "cell_type": "code",
   "execution_count": 3,
   "metadata": {},
   "outputs": [
    {
     "name": "stdout",
     "output_type": "stream",
     "text": [
      "{'request': {'long_form_job_id': 'd6cdc0f8-9866-4e6e-bdd7-73830ae87006', 'audio_voice_name': 'openai_alloy', 'file_name': 'quantum_computing_applications_v0'}, 'expires': 1712361552, 'created_on': 1712275152, 'response': {'download_url': None, 'download_expires': 1712278752}, 'id': 'f03913cc-13c7-4d9e-944a-e3c5986d38d1', 'type': 'LONG_FORM_AUDIO_EXPORT', 'status': 'PENDING', 'status_url': 'https://api.superpowered.ai/v1/jobs/f03913cc-13c7-4d9e-944a-e3c5986d38d1'}\n"
     ]
    }
   ],
   "source": [
    "export_url = f'https://api.superpowered.ai/v1/long_form/{job_id}/exports/audio'\n",
    "\n",
    "payload = {\n",
    "    'audio_voice_name': 'openai_alloy'\n",
    "}\n",
    "\n",
    "export_resp = requests.post(export_url, json=payload, auth=SP_AUTH)\n",
    "print(export_resp.json())"
   ]
  },
  {
   "cell_type": "markdown",
   "metadata": {},
   "source": [
    "##### Wait for audio export to complete"
   ]
  },
  {
   "cell_type": "code",
   "execution_count": 4,
   "metadata": {},
   "outputs": [
    {
     "name": "stdout",
     "output_type": "stream",
     "text": [
      "PENDING\n",
      "IN_PROGRESS\n",
      "IN_PROGRESS\n",
      "IN_PROGRESS\n",
      "IN_PROGRESS\n",
      "IN_PROGRESS\n",
      "IN_PROGRESS\n",
      "IN_PROGRESS\n",
      "IN_PROGRESS\n",
      "IN_PROGRESS\n",
      "IN_PROGRESS\n",
      "IN_PROGRESS\n",
      "IN_PROGRESS\n",
      "IN_PROGRESS\n",
      "IN_PROGRESS\n",
      "IN_PROGRESS\n",
      "IN_PROGRESS\n",
      "IN_PROGRESS\n",
      "IN_PROGRESS\n",
      "IN_PROGRESS\n",
      "IN_PROGRESS\n",
      "IN_PROGRESS\n",
      "IN_PROGRESS\n",
      "IN_PROGRESS\n",
      "COMPLETE\n"
     ]
    }
   ],
   "source": [
    "while export_resp.json()['status'] not in {'COMPLETE', 'FAILED'}:\n",
    "    export_resp = requests.get(export_resp.json()['status_url'], auth=SP_AUTH)\n",
    "    print(export_resp.json()['status'])\n",
    "    time.sleep(10)\n",
    "\n",
    "download_url = export_resp.json()"
   ]
  },
  {
   "cell_type": "markdown",
   "metadata": {},
   "source": [
    "##### Print the download file"
   ]
  },
  {
   "cell_type": "code",
   "execution_count": 5,
   "metadata": {},
   "outputs": [
    {
     "name": "stdout",
     "output_type": "stream",
     "text": [
      "{'created_on': 1712275152, 'expires': 1712361552, 'id': 'f03913cc-13c7-4d9e-944a-e3c5986d38d1', 'request': {'audio_voice_name': 'openai_alloy', 'file_name': 'quantum_computing_applications_v0', 'long_form_job_id': 'd6cdc0f8-9866-4e6e-bdd7-73830ae87006'}, 'response': {'download_expires': 1712278752, 'download_url': 'https://files.superpowered.ai/long_form_exports/074fef7d-39fe-4239-a333-eb696e42667a/d6cdc0f8-9866-4e6e-bdd7-73830ae87006/quantum_computing_applications_v0__openai_alloy.mp3?Expires=1712278994&Signature=QbBhMNuQ1fsOdIfQS5bA65BHTiJmIS8ZzWwpQfvf75bZ-Z2MEt9K2gHMeEU2dh4KD98z-~dJrqVbnep-xAUwqQJmuN0OeAzn4DxlTERoAnEAZdq8klEunAOjSo6lM4AxKmHZ4R5MRsywZn7a-ub49tvHUlrDPmJtTaYV~py32k1NRjRje60z8bi3ahdsFuJZfL3s2F~p5-9i9Z43hXdN~LMkEZNs8PfO6HpjA9zG3QOmfs~1itt1f7KqjchxC6hN8s0rO-x5IsovLVoryX5LG4SZYZCQVXJacCfPKI6CRxBjzbvsZoKV-OruacVUn4MwzuogbhvIzPKHjnqqWPGxvg__&Key-Pair-Id=KN9MQLKJLYE2H'}, 'status': 'COMPLETE', 'status_url': 'https://api.superpowered.ai/v1/jobs/f03913cc-13c7-4d9e-944a-e3c5986d38d1', 'type': 'LONG_FORM_AUDIO_EXPORT'}\n",
      "https://files.superpowered.ai/long_form_exports/074fef7d-39fe-4239-a333-eb696e42667a/d6cdc0f8-9866-4e6e-bdd7-73830ae87006/quantum_computing_applications_v0__openai_alloy.mp3?Expires=1712278994&Signature=QbBhMNuQ1fsOdIfQS5bA65BHTiJmIS8ZzWwpQfvf75bZ-Z2MEt9K2gHMeEU2dh4KD98z-~dJrqVbnep-xAUwqQJmuN0OeAzn4DxlTERoAnEAZdq8klEunAOjSo6lM4AxKmHZ4R5MRsywZn7a-ub49tvHUlrDPmJtTaYV~py32k1NRjRje60z8bi3ahdsFuJZfL3s2F~p5-9i9Z43hXdN~LMkEZNs8PfO6HpjA9zG3QOmfs~1itt1f7KqjchxC6hN8s0rO-x5IsovLVoryX5LG4SZYZCQVXJacCfPKI6CRxBjzbvsZoKV-OruacVUn4MwzuogbhvIzPKHjnqqWPGxvg__&Key-Pair-Id=KN9MQLKJLYE2H\n"
     ]
    }
   ],
   "source": [
    "print(export_resp.json())\n",
    "\n",
    "print(export_resp.json()['response']['download_url'])"
   ]
  }
 ],
 "metadata": {
  "kernelspec": {
   "display_name": "Python 3",
   "language": "python",
   "name": "python3"
  },
  "language_info": {
   "codemirror_mode": {
    "name": "ipython",
    "version": 3
   },
   "file_extension": ".py",
   "mimetype": "text/x-python",
   "name": "python",
   "nbconvert_exporter": "python",
   "pygments_lexer": "ipython3",
   "version": "3.9.6"
  }
 },
 "nbformat": 4,
 "nbformat_minor": 2
}
