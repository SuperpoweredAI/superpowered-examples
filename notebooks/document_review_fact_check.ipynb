{
 "cells": [
  {
   "cell_type": "markdown",
   "metadata": {},
   "source": [
    "**`Webinar 2024-01-24`**\n",
    "\n",
    "[YouTube Recording](https://www.youtube.com/watch?v=KXIngNp1zCc&list=PLePKvgYhNOFxg3O7gXfmxaKp0EWXEhvNC&index=7)\n",
    "\n",
    "# Document Review Fact Check Usage Case\n",
    "\n",
    "### This uses the API to do a fact check review on some papers I wrote in graduate school."
   ]
  },
  {
   "cell_type": "markdown",
   "metadata": {},
   "source": [
    "##### Submit document review"
   ]
  },
  {
   "cell_type": "code",
   "execution_count": 1,
   "metadata": {},
   "outputs": [
    {
     "name": "stdout",
     "output_type": "stream",
     "text": [
      "{'request': {'auto_query_guidance': 'Your queries should make sure any facts in my source documents match the reference knowledge bases.', 'final_review_model': 'gpt-4', 'active_reading_instructions': 'Please help me fact check what I wrote in my graduate school papers.', 'segment_length': 'medium', 'knowledge_base_id': '36737027-f3fa-4aa7-a105-2e6f8984ecce', 'document_id': None, 'final_review_instructions': 'Please give me an overview of the things I got correct and the things I got incorrect in my graduate school papers. If I got something wrong, please correct it.', 'active_reading_model': 'gpt-3.5-turbo', 'reference_knowledge_base_ids': ['94edf5f6-0ce6-4d21-addc-45078ddad4f7']}, 'created_on': 1707983737, 'response': {'active_reading_progress_pct': 0, 'id': '1d72b719-5af0-47c1-93a3-16532b0af050', 'title': '', 'completed_document_ids': [], 'final_review': ''}, 'supp_id': None, 'id': '1d72b719-5af0-47c1-93a3-16532b0af050', 'type': 'DOCUMENT_REVIEW', 'status': 'PENDING', 'status_url': 'https://api.superpowered.ai/v1/jobs/1d72b719-5af0-47c1-93a3-16532b0af050'}\n"
     ]
    }
   ],
   "source": [
    "import json\n",
    "import requests\n",
    "from tqdm import tqdm\n",
    "\n",
    "\n",
    "REVIEW_KB_ID = '36737027-f3fa-4aa7-a105-2e6f8984ecce'\n",
    "REFERENCE_KB_IDS = ['94edf5f6-0ce6-4d21-addc-45078ddad4f7']\n",
    "\n",
    "url = f'https://api.superpowered.ai/v1/knowledge_bases/{REVIEW_KB_ID}/review'\n",
    "payload = {\n",
    "    'active_reading_model': 'gpt-3.5-turbo',\n",
    "    'active_reading_instructions': 'Please help me fact check what I wrote in my graduate school papers.',\n",
    "    'auto_query_guidance': 'Your queries should make sure any facts in my source documents match the reference knowledge bases.',\n",
    "    'reference_knowledge_base_ids': REFERENCE_KB_IDS,\n",
    "\n",
    "    'final_review_model': 'gpt-4',\n",
    "    'final_review_instructions': 'Please give me an overview of the things I got correct and the things I got incorrect in my graduate school papers. If I got something wrong, please correct it.',\n",
    "}\n",
    "SP_API_KEY_ID = ''\n",
    "SP_API_KEY_SECRET = ''\n",
    "SP_AUTH = (SP_API_KEY_ID, SP_API_KEY_SECRET)\n",
    "resp = requests.post(url, json=payload, auth=SP_AUTH)\n",
    "\n",
    "print(resp.json())"
   ]
  },
  {
   "cell_type": "markdown",
   "metadata": {},
   "source": [
    "##### Print progress of active reading instructions"
   ]
  },
  {
   "cell_type": "code",
   "execution_count": 2,
   "metadata": {},
   "outputs": [
    {
     "name": "stdout",
     "output_type": "stream",
     "text": [
      "ACTIVE READING PROGRESS\n"
     ]
    },
    {
     "name": "stderr",
     "output_type": "stream",
     "text": [
      "100%|██████████| 1/1 [01:55<00:00, 115.25s/it]     \n"
     ]
    }
   ],
   "source": [
    "print('ACTIVE READING PROGRESS')\n",
    "progress_bar = tqdm(total=1)\n",
    "\n",
    "while resp.json()['status'] not in {'COMPLETE', 'FAILED'}:\n",
    "    resp = requests.get(resp.json()['status_url'], auth=SP_AUTH)\n",
    "    progress = resp.json()['response']['active_reading_progress_pct']\n",
    "    progress_bar.n = progress\n",
    "    progress_bar.refresh()\n",
    "\n",
    "progress_bar.close()"
   ]
  },
  {
   "cell_type": "markdown",
   "metadata": {},
   "source": [
    "##### Print final result"
   ]
  },
  {
   "cell_type": "code",
   "execution_count": 3,
   "metadata": {},
   "outputs": [
    {
     "name": "stdout",
     "output_type": "stream",
     "text": [
      "('The extracted information from your graduate school papers provides a '\n",
      " 'comprehensive overview of the current state of quantum computing, including '\n",
      " 'its theoretical foundations, hardware developments, and potential '\n",
      " \"applications. Here's a review of the correctness of the information \"\n",
      " 'provided:\\n'\n",
      " '\\n'\n",
      " 'Correct Information:\\n'\n",
      " '- Quantum computers have the potential to solve certain problems more '\n",
      " 'efficiently than classical computers, particularly in the areas of '\n",
      " 'combinatorial optimization and prime factorization.\\n'\n",
      " '- Quantum programs are indeed defined through high-level abstractions like '\n",
      " 'the quantum circuit model and the QRAM model.\\n'\n",
      " '- Major tech companies such as IBM, Google, and Microsoft are actively '\n",
      " 'developing quantum computing capabilities and providing APIs for users to '\n",
      " 'interact with quantum hardware.\\n'\n",
      " \"- IBM's Qiskit is correctly identified as a quantum computing SDK for \"\n",
      " 'Python, which allows users to design quantum circuits.\\n'\n",
      " '- Quantum programs are probabilistic and rely on unitary gates for quantum '\n",
      " 'computations, which is essential for maintaining quantum coherence and '\n",
      " 'enabling entanglement.\\n'\n",
      " '- Formal verification protocols for quantum programs do exist, and they '\n",
      " 'extend classical verification methods like Hoare Logic to the quantum '\n",
      " 'domain.\\n'\n",
      " '- The optimization of compiling high-level quantum programs into sequences '\n",
      " 'of quantum gates is an active area of research, and quantum assembly '\n",
      " 'languages are being developed for this purpose.\\n'\n",
      " \"- Quantum computing's potential to challenge the limitations of classical \"\n",
      " \"computing, including Amdahl's Law and Moore's Law, is accurately stated.\\n\"\n",
      " '- The use of qubits, which can exist in superposition, and the '\n",
      " 'representation of quantum gates as matrices are correct.\\n'\n",
      " '- Quantum error correction is necessary for practical quantum computing and '\n",
      " 'involves redundancy and unitary transformations to correct errors.\\n'\n",
      " '- The hardware requirements for quantum computers, such as isolating qubits '\n",
      " 'from external noise and efficient qubit state measurement, are correctly '\n",
      " 'described.\\n'\n",
      " '- The three major proposed architectural implementations for quantum '\n",
      " 'computers (Ion Trap, Cavity QED, and NMR) are correctly listed.\\n'\n",
      " \"- Google's Bristlecone processor and IBM's Q system are accurately described \"\n",
      " 'in terms of their qubit count and design approaches.\\n'\n",
      " \"- Microsoft's research into topological quantum computing and D-Wave \"\n",
      " \"Systems' focus on quantum annealing are correctly mentioned.\\n\"\n",
      " \"- D-Wave's 2000Q™ and its capabilities, as well as the controversy \"\n",
      " 'surrounding its approach, are accurately presented.\\n'\n",
      " \"- The development of quantum algorithms like Deutsch's Algorithm, Shor's \"\n",
      " \"Algorithm, and Grover's Algorithm is correctly stated.\\n\"\n",
      " '- Quantum machine learning, chemical modeling, and quantum cryptography are '\n",
      " 'identified as important areas of research and application.\\n'\n",
      " '\\n'\n",
      " 'Incorrect or Unclear Information:\\n'\n",
      " '- The statement about quantum programs containing a series of gates that are '\n",
      " 'unitary is slightly misleading. While the gates themselves are unitary, a '\n",
      " 'quantum program as a whole is not just a series of unitary gates; it also '\n",
      " 'includes measurements, which are not unitary operations.\\n'\n",
      " '- The claim that D-Wave Systems can solve problems \"up to 100 million times '\n",
      " 'faster\" than classical counterparts should be approached with caution. This '\n",
      " 'claim is highly dependent on the specific problem and the comparison '\n",
      " \"baseline. It's not universally applicable to all problems or classical \"\n",
      " 'algorithms.\\n'\n",
      " '- The statement that quantum computers are expected to surpass modern '\n",
      " 'supercomputers at around 50 qubits is an oversimplification. The concept of '\n",
      " '\"quantum supremacy\" is more nuanced and depends on the specific '\n",
      " 'computational task, as well as the error rates and coherence times of the '\n",
      " 'qubits.\\n'\n",
      " '- The description of quantum gates resulting in non-binary outputs could be '\n",
      " 'misleading. Quantum gates manipulate the probability amplitudes of qubits, '\n",
      " 'and while they can create complex superpositions, the measurement outcomes '\n",
      " 'are still binary (0 or 1). The non-binary aspect refers to the state of the '\n",
      " 'qubits before measurement.\\n'\n",
      " '- The term \"cohered\" used in the context of D-Wave Systems\\' quantum '\n",
      " 'annealers is not standard terminology. It might be more accurate to discuss '\n",
      " 'the maintenance of quantum coherence or the establishment of entangled '\n",
      " 'states in their system.\\n'\n",
      " '\\n'\n",
      " \"Overall, the information you've provided is largely accurate and reflects a \"\n",
      " 'good understanding of quantum computing. However, some statements could '\n",
      " 'benefit from additional clarification or caution to avoid oversimplification '\n",
      " 'or misinterpretation.')\n"
     ]
    }
   ],
   "source": [
    "from pprint import pprint\n",
    "\n",
    "pprint(resp.json()['response']['final_review'])"
   ]
  }
 ],
 "metadata": {
  "kernelspec": {
   "display_name": "Python 3",
   "language": "python",
   "name": "python3"
  },
  "language_info": {
   "codemirror_mode": {
    "name": "ipython",
    "version": 3
   },
   "file_extension": ".py",
   "mimetype": "text/x-python",
   "name": "python",
   "nbconvert_exporter": "python",
   "pygments_lexer": "ipython3",
   "version": "3.9.6"
  }
 },
 "nbformat": 4,
 "nbformat_minor": 2
}
