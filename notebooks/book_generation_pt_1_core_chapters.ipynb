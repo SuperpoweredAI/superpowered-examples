{
 "cells": [
  {
   "cell_type": "markdown",
   "metadata": {},
   "source": [
    "**`Webinar 2024-02-14`**\n",
    "\n",
    "[YouTube Recording](https://www.youtube.com/watch?v=Kl2DBRobLU8&list=PLePKvgYhNOFxg3O7gXfmxaKp0EWXEhvNC&index=10)\n",
    "\n",
    "# Book Ideation and Generation using Document Review and Long Form\n",
    "\n",
    "### Overview\n",
    "\n",
    "The goal is to write a quality educational book in the simplest way possible. We will go through the ideation phase to set the tone and topics of the book.\n",
    "\n",
    "##### Project Flow\n",
    "\n",
    "1. Create knowledge bases for each chapter we want in the book.\n",
    "2. Get some user inputs in regard to overall theme and style.\n",
    "3. For each chapter knowledge base, run a document review where the \"final review\" output is a chapter outline.\n",
    "4. Feed each of the document review outlines into a long form generation call.\n",
    "\n",
    "##### Initialization"
   ]
  },
  {
   "cell_type": "markdown",
   "metadata": {},
   "source": [
    "##### `NOTE: To run this, you will need to replace with your own chapter KBs as well as book themes/guidance in the next 2 cells`"
   ]
  },
  {
   "cell_type": "code",
   "execution_count": 1,
   "metadata": {},
   "outputs": [],
   "source": [
    "import superpowered\n",
    "import requests\n",
    "import time\n",
    "import tqdm\n",
    "\n",
    "from IPython.display import display, Markdown\n",
    "\n",
    "SP_BASE_URL = 'https://api.superpowered.ai/v1'\n",
    "SP_API_KEY_ID = ''\n",
    "SP_API_KEY_SECRET = ''\n",
    "API_AUTH = (SP_API_KEY_ID, SP_API_KEY_SECRET)\n",
    "\n",
    "knowledge_base_ids = [\n",
    "    '08844d05-4e09-479d-9770-6faebccfceb6',  # STOICISM\n",
    "    'a0fd538c-06ec-43ae-849b-f9570caca2c6',  # EPICUREANISM\n",
    "    '87401ada-dfcb-4e3a-afbc-8fe9ead62bb4',  # MINIMALISM\n",
    "    '6fde0338-0856-477b-bfa0-439432dfbcd1',  # HEDONISM\n",
    "    'a78019b4-c498-412b-9daf-737698fab4c5',  # EXISTENTIALISM\n",
    "    '740b2668-ecab-4372-9bc4-6a01a4f88560',  # NIHILISM\n",
    "    '183cee2f-2053-480b-8e86-9377489208c5',  # PRAGMATISM\n",
    "    '0e75e305-b314-40a3-a4fb-7f357bda0c10',  # IDEALISM\n",
    "]\n"
   ]
  },
  {
   "cell_type": "markdown",
   "metadata": {},
   "source": [
    "##### User input describing goal for the book"
   ]
  },
  {
   "cell_type": "code",
   "execution_count": 2,
   "metadata": {},
   "outputs": [],
   "source": [
    "BOOK_TITLE = 'Living a Good Life in the Age of AI and Automation'\n",
    "BOOK_THEME = 'The general theme of this book is to look at what it means to live a good life in the context of stoicism, epicureanism, minimalism, hedonism, existentialism, nihilism, pragmatism, and idealism. Each chapter will cover one of these 8 philosophical schools of thought.'\n",
    "BOOK_OVERALL_STYLE_GUIDANCE = 'The style should be widely accessible to the general public with a focus on how each of the philosophies are relevant in the modern age of AI and automation. It is important to use a variable vocabulary and make sure that nothing is repetitive and dry. Be fun and present ideas with examples. Avoid bland closing statements like \"in summary\", \"in conclusion\", etc. The book should be a fun and engaging read.'\n",
    "BOOK_CHAPTER_STYLE_GUIDANCE = 'Each chapter should start with a general overview of the philosophy in question and explain how the concepts are relevant in the modern age of AI and automation. Give examples of what living by this philosophy would look like in scenarios like: \"remote work and lack of social interacation\", \"complete automation with no jobs\", \"human population expantion\", \"virtual reality\", \"augmented reality\", \"cell phones\", \"immersive video games\", etc.'"
   ]
  },
  {
   "cell_type": "markdown",
   "metadata": {},
   "source": [
    "##### Helper functions that will run document reviews and long form plus stream results\n",
    "\n",
    "- `run_and_display_review()` function will start a document review, show an active reading progress bar and then stream final review results as they happen.\n",
    "- `submit_long_form_job()` just submits a long form job so we can generate all the chapters in parallel.\n"
   ]
  },
  {
   "cell_type": "code",
   "execution_count": 3,
   "metadata": {},
   "outputs": [],
   "source": [
    "def run_and_display_review(kb: dict, ar_instructions: str, fr_instructions: str):\n",
    "    url = f'{SP_BASE_URL}/knowledge_bases/{kb[\"id\"]}/review'\n",
    "    payload = {\n",
    "        'active_reading_instructions': ar_instructions,\n",
    "        'final_review_instructions': fr_instructions,\n",
    "    }\n",
    "    resp = requests.post(url, json=payload, auth=API_AUTH)\n",
    "    final_review_display = display(Markdown('Review pending...'), display_id=True)\n",
    "    progress_bar = tqdm.tqdm(total=1)\n",
    "    progress_bar.set_description(f'Active Reading Progress for {kb[\"title\"]}')\n",
    "\n",
    "    # keep request job until it's completed (or failed)\n",
    "    while resp.json()['status'] not in ['COMPLETE', 'FAILED']:\n",
    "        resp = requests.get(resp.json()['status_url'], auth=API_AUTH)\n",
    "        progress_bar.n = resp.json()['response']['active_reading_progress_pct']\n",
    "        if progress_bar.n >= 1:\n",
    "            final_review_display.update(Markdown(resp.json()[\"response\"][\"final_review\"]))\n",
    "        progress_bar.refresh()\n",
    "\n",
    "    progress_bar.close()\n",
    "    return resp.json()['response']['final_review']\n",
    "\n",
    "\n",
    "def submit_long_form_job(kb: dict, prompt: str):\n",
    "    url = f'{SP_BASE_URL}/long_form'\n",
    "    payload = {\n",
    "        'knowledge_base_ids': [kb['id']],\n",
    "        'model': 'mistral-medium',\n",
    "        'response_length': 'long',\n",
    "        'prompt': prompt,\n",
    "    }\n",
    "    resp = requests.post(url, json=payload, auth=API_AUTH)\n",
    "    return resp.json()['id']\n"
   ]
  },
  {
   "cell_type": "markdown",
   "metadata": {},
   "source": [
    "##### Loop through each knowledge base and run the document review"
   ]
  },
  {
   "cell_type": "code",
   "execution_count": 4,
   "metadata": {},
   "outputs": [
    {
     "data": {
      "text/markdown": [
       "Chapter Outline for STOICISM [CH. 1]\n",
       "\n",
       "1. Introduction to Stoicism and Its Modern Relevance\n",
       "   - Brief history of Stoicism, from Zeno of Citium to its influence on Roman figures like Seneca and Marcus Aurelius.\n",
       "   - Explanation of Stoicism's core belief in virtue as the path to a good life.\n",
       "   - Discussion on the resurgence of Stoicism in the context of AI and automation, and its implications for modern ethical behavior and mental resilience.\n",
       "\n",
       "2. The Stoic Virtues in an Automated World\n",
       "   - Exploration of the four cardinal virtues: wisdom, courage, temperance, and justice.\n",
       "   - Application of these virtues to scenarios such as job automation, remote work, and the ethics of AI decision-making.\n",
       "   - Examples of how Stoic virtues can guide personal development and societal norms in an increasingly digital and virtual landscape.\n",
       "\n",
       "3. Stoicism and the Dichotomy of Control\n",
       "   - Explanation of the Stoic principle of focusing on what is within our control and accepting what is not.\n",
       "   - Analysis of how this principle can be applied to the unpredictability of technological advancements and the changing job market.\n",
       "   - Real-life examples of individuals and organizations embodying this principle in the face of rapid change.\n",
       "\n",
       "4. Emotions and Rationality in the Age of Information Overload\n",
       "   - Discussion of the Stoic approach to emotions, distinguishing between healthy and unhealthy passions.\n",
       "   - Insights into how Stoicism can help navigate the emotional challenges of social media, information overload, and virtual interactions.\n",
       "   - Case studies of Stoic-inspired practices in modern psychotherapy and cognitive-behavioral approaches.\n",
       "\n",
       "5. Stoicism and Social Roles in a Connected World\n",
       "   - Examination of the Stoic concept of embracing one's social role and the idea of cosmopolitanism.\n",
       "   - Consideration of how Stoicism can inform our approach to global citizenship, online communities, and environmental responsibility.\n",
       "   - Stories of individuals and communities practicing Stoic principles to foster cooperation and empathy in a diverse world.\n",
       "\n",
       "6. The Stoic Path to Contentment Amidst Technological Disruption\n",
       "   - Analysis of how Stoicism teaches contentment and equanimity, even in the face of significant life changes due to technology.\n",
       "   - Discussion on the role of Stoicism in finding personal fulfillment when traditional paths to success are altered by AI and automation.\n",
       "   - Profiles of people who have found balance and purpose by applying Stoic wisdom to their lives in the digital era.\n",
       "\n",
       "7. Conclusion: Stoicism as a Guide for the Future\n",
       "   - Recap of the key Stoic principles and their relevance to contemporary challenges.\n",
       "   - Reflection on the enduring wisdom of Stoicism and its potential to shape a future where technology and human values coexist harmoniously.\n",
       "   - Encouragement for readers to explore Stoic practices in their own lives as a means to navigate the complexities of the modern world."
      ],
      "text/plain": [
       "<IPython.core.display.Markdown object>"
      ]
     },
     "metadata": {},
     "output_type": "display_data"
    },
    {
     "name": "stderr",
     "output_type": "stream",
     "text": [
      "Active Reading Progress for STOICISM [CH. 1]: 100%|██████████| 1/1 [01:18<00:00, 78.69s/it]       \n"
     ]
    },
    {
     "data": {
      "text/markdown": [
       "Chapter Outline for \"Epicureanism [CH. 2]\"\n",
       "\n",
       "1. Introduction to Epicureanism: The Pursuit of Pleasure in the Age of AI\n",
       "   - Overview of Epicureanism and its foundation by Epicurus in 307 BCE.\n",
       "   - Explanation of the Epicurean pursuit of pleasure, defined as the absence of pain and fear.\n",
       "   - Relevance of Epicurean philosophy in the context of modern technology, AI, and automation.\n",
       "\n",
       "2. The Epicurean Lifestyle: Simplicity and Tranquility Amidst Technological Complexity\n",
       "   - Discussion on the Epicurean advocacy for a simple life and the withdrawal from politics.\n",
       "   - Application of Epicurean simplicity in the era of remote work, social media, and the digital rat race.\n",
       "   - Examples of how to maintain tranquility and mental well-being in a world dominated by technology.\n",
       "\n",
       "3. Sensory Perception and Knowledge: Epicurean Empiricism in a Virtual World\n",
       "   - Exploration of Epicurean empirical epistemology and its reliance on the senses.\n",
       "   - Contrast with the virtual and augmented realities that challenge traditional sensory experiences.\n",
       "   - Strategies for discerning truth and maintaining mental clarity in an age of information overload.\n",
       "\n",
       "4. Desires and Moderation: Navigating Consumerism and Digital Temptations\n",
       "   - Examination of the Epicurean classification of desires and the emphasis on controlling them.\n",
       "   - Reflection on the impact of consumerism and digital temptations on our desires and how to manage them.\n",
       "   - Insights into achieving aponia and ataraxia in a consumer-driven society.\n",
       "\n",
       "5. Friendship and Community: The Epicurean Social Network in an Isolated World\n",
       "   - Epicurus' emphasis on friendship as a key component of a satisfying life.\n",
       "   - The challenge of building meaningful relationships in a time of social distancing and virtual interactions.\n",
       "   - Suggestions for fostering community and connection in an increasingly isolated world.\n",
       "\n",
       "6. The Gods and Mortality: Epicurean Views on Divinity and Death in a Scientific Era\n",
       "   - Epicurean beliefs about the gods and the mortal soul, and their irrelevance to human affairs.\n",
       "   - Discussion on how scientific advancements and AI challenge traditional views on divinity and mortality.\n",
       "   - Coping with existential questions in a world where technology blurs the lines between life and death.\n",
       "\n",
       "7. Epicureanism in Practice: The Tetrapharmakos for the Modern Individual\n",
       "   - Presentation of the Tetrapharmakos as a guideline for living a happy life according to Epicureanism.\n",
       "   - Application of the four-part cure to contemporary issues such as climate change, global pandemics, and economic uncertainty.\n",
       "   - Encouragement for readers to embrace Epicurean wisdom in their daily lives for greater contentment and peace.\n",
       "\n",
       "Each section will be written in an engaging and accessible style, with a focus on practical applications of Epicurean philosophy in the context of modern challenges. The chapter will avoid dry academic language and instead use relatable examples, anecdotes, and a touch of humor to keep readers engaged. The goal is to provide a fresh perspective on how ancient wisdom can inform and improve our lives in the age of AI and automation."
      ],
      "text/plain": [
       "<IPython.core.display.Markdown object>"
      ]
     },
     "metadata": {},
     "output_type": "display_data"
    },
    {
     "name": "stderr",
     "output_type": "stream",
     "text": [
      "Active Reading Progress for EPICUREANISM [CH. 2]: 100%|██████████| 1/1 [01:12<00:00, 72.20s/it]      \n"
     ]
    },
    {
     "data": {
      "text/markdown": [
       "Chapter Outline for MINIMALISM [CH. 3]: Living a Good Life in the Age of AI and Automation\n",
       "\n",
       "1. Introduction to Minimalism and Its Modern Relevance\n",
       "   - Brief history of minimalism as an art movement and its evolution into a lifestyle philosophy.\n",
       "   - Exploration of how minimalism's principles are particularly pertinent in the era of AI and automation, where complexity and abundance often overwhelm.\n",
       "   - Setting the stage for how minimalism can be a guiding philosophy in navigating the challenges of modern life, including technology saturation and the paradox of choice.\n",
       "\n",
       "2. Minimalism in the Digital and Virtual Realm\n",
       "   - Discussion on the application of minimalism to digital life, including the use of technology, social media, and the digital clutter that comes with constant connectivity.\n",
       "   - Imagining a minimalist approach to virtual reality and augmented reality, focusing on the essentials and avoiding overstimulation.\n",
       "   - Examples of how a minimalist mindset can enhance our interactions with AI, streamline our use of automation, and prevent digital burnout.\n",
       "\n",
       "3. The Minimalist Approach to Work and Automation\n",
       "   - How minimalism can inform our approach to the changing landscape of work, particularly with the rise of remote work and the potential for job displacement due to automation.\n",
       "   - Strategies for maintaining a minimalist workspace, both physically and digitally, to enhance focus and productivity.\n",
       "   - The role of minimalism in adapting to and embracing the gig economy and portfolio careers.\n",
       "\n",
       "4. Minimalism in Personal Lifestyle Choices\n",
       "   - The concept of a capsule wardrobe and its benefits in the context of consumerism and fast fashion.\n",
       "   - Minimalism in home design and architecture, creating spaces that are both functional and free of excess in a world where living spaces are becoming increasingly multifunctional.\n",
       "   - The minimalist kitchen: how the principles of minimalism can lead to healthier eating habits and less food waste.\n",
       "\n",
       "5. The Social and Environmental Impact of Minimalism\n",
       "   - Examining the minimalist lifestyle's potential to reduce one's carbon footprint and contribute to sustainability efforts.\n",
       "   - The influence of minimalism on personal relationships and social interactions, fostering deeper connections in an age of superficial digital communication.\n",
       "   - Minimalism's role in addressing the challenges of human population expansion and resource management.\n",
       "\n",
       "6. Overcoming Challenges and Cultivating a Minimalist Mindset\n",
       "   - Addressing the common obstacles faced when adopting a minimalist lifestyle, such as resistance from peers and the difficulty of decluttering.\n",
       "   - Practical tips for getting started with minimalism, including how to prioritize and make intentional choices about possessions and activities.\n",
       "   - The importance of maintaining a minimalist practice and how it can lead to a more intentional and fulfilling life.\n",
       "\n",
       "7. The Future of Minimalism in an Automated World\n",
       "   - Speculating on the future trajectory of minimalism as AI and automation become increasingly integrated into daily life.\n",
       "   - The potential for minimalism to serve as a counterbalance to the complexities introduced by advanced technologies.\n",
       "   - Closing thoughts on how minimalism can help us navigate the future with clarity, purpose, and a focus on what truly matters."
      ],
      "text/plain": [
       "<IPython.core.display.Markdown object>"
      ]
     },
     "metadata": {},
     "output_type": "display_data"
    },
    {
     "name": "stderr",
     "output_type": "stream",
     "text": [
      "Active Reading Progress for MINIMALISM [CH. 3]: 100%|██████████| 1/1 [00:49<00:00, 49.57s/it]      \n"
     ]
    },
    {
     "data": {
      "text/markdown": [
       "Chapter Outline for HEDONISM [CH. 4]\n",
       "\n",
       "1. Introduction to Hedonism in the Digital Age\n",
       "   - Overview of hedonism as the pursuit of pleasure and avoidance of pain as the ultimate life goals.\n",
       "   - Relevance of hedonism in an era dominated by AI, automation, and digital experiences.\n",
       "   - Examples of hedonistic behaviors in modern contexts such as social media engagement, virtual reality escapism, and the pursuit of digital pleasures.\n",
       "\n",
       "2. The Philosophy of Pleasure: Understanding Hedonism\n",
       "   - Exploration of the historical roots of hedonism from ancient Greek philosophy to contemporary thinkers.\n",
       "   - Discussion of key contributors to hedonism, including Epicurus, Bentham, and Mill.\n",
       "   - Examination of the different types of hedonism: psychological, ethical, axiological, and aesthetic.\n",
       "\n",
       "3. Hedonism and Modern Technology: A Symbiotic Relationship\n",
       "   - Analysis of how technology amplifies hedonistic tendencies through instant gratification and sensory stimulation.\n",
       "   - The role of AI in curating personalized pleasure experiences and the ethical implications of such technologies.\n",
       "   - The impact of automation on job satisfaction and the pursuit of pleasure in a work-free future.\n",
       "\n",
       "4. The Pursuit of Happiness: Hedonism in Everyday Life\n",
       "   - Practical applications of hedonism in daily activities, from food and entertainment to relationships and self-care.\n",
       "   - The balance between short-term pleasures and long-term well-being in the context of modern lifestyle choices.\n",
       "   - The influence of cell phones and immersive video games on hedonistic behaviors and the quest for happiness.\n",
       "\n",
       "5. The Critique of Hedonism: Challenges and Counterarguments\n",
       "   - Presentation of the main criticisms against hedonism, including the experience machine and the deceived businessman thought experiments.\n",
       "   - Discussion of the limitations of pleasure as the sole source of intrinsic value.\n",
       "   - Exploration of the debate on the nature of pleasure and its role in well-being.\n",
       "\n",
       "6. Hedonism Redefined: The Future of Pleasure in an Automated World\n",
       "   - Speculation on the evolution of hedonism in light of advancements in AI and cognitive science.\n",
       "   - The potential for new forms of pleasure and the ethical considerations of engineered happiness.\n",
       "   - The role of hedonism in shaping future societies and the potential for a hedonistic utopia or dystopia.\n",
       "\n",
       "7. Conclusion: Embracing Pleasure in the Age of AI\n",
       "   - Reflection on the importance of pleasure in human life and the ways in which AI and automation can enhance or detract from it.\n",
       "   - Encouragement to critically engage with hedonistic values and make informed choices about the role of pleasure in personal and societal well-being.\n",
       "   - Final thoughts on the pursuit of a good life in harmony with technology, without falling into the traps of excessive hedonism."
      ],
      "text/plain": [
       "<IPython.core.display.Markdown object>"
      ]
     },
     "metadata": {},
     "output_type": "display_data"
    },
    {
     "name": "stderr",
     "output_type": "stream",
     "text": [
      "Active Reading Progress for HEDONISM [CH. 4]: 100%|██████████| 1/1 [01:27<00:00, 87.39s/it]      \n"
     ]
    },
    {
     "data": {
      "text/markdown": [
       "Chapter Outline for \"Existentialism and the Good Life in the Age of AI and Automation\"\n",
       "\n",
       "1. Introduction to Existentialism in the Modern World\n",
       "   - Overview of existentialism's core principles: existence, freedom, and individual responsibility.\n",
       "   - Relevance of existentialism in the age of AI and automation, with examples of how existentialist thought applies to modern challenges such as remote work, social isolation, and the potential obsolescence of human labor.\n",
       "\n",
       "2. The Existential Quest for Meaning Amidst Technological Change\n",
       "   - Exploration of how existentialism views the search for meaning in life as an individual responsibility.\n",
       "   - Discussion on the impact of AI and automation on traditional sources of meaning, such as work and community, and how existentialism encourages personal meaning-making in this new context.\n",
       "\n",
       "3. Freedom and Authenticity in an Automated Society\n",
       "   - Examination of the existentialist concept of freedom and the importance of authentic choices in a world where many decisions may be made by algorithms.\n",
       "   - Consideration of the existential challenges and opportunities presented by virtual reality, augmented reality, and immersive video games in shaping one's authentic existence.\n",
       "\n",
       "4. Navigating Anxiety and Responsibility in a Digital Age\n",
       "   - Analysis of existentialist themes of anxiety and responsibility in relation to the uncertainties brought about by rapid technological advancements.\n",
       "   - Insights into how existential therapy and its focus on individual decision-making can be applied to modern anxieties related to technological dependence and the fear of obsolescence.\n",
       "\n",
       "5. Existentialism and Interpersonal Relationships in a Connected World\n",
       "   - Discussion on the existentialist perspective of \"the Other\" and the Look in the context of social media, online personas, and digital communication.\n",
       "   - Reflection on the importance of fostering genuine human connections and nurturing the freedom of others in an increasingly digital landscape.\n",
       "\n",
       "6. The Role of Existentialist Ethics in a World of AI\n",
       "   - Overview of existentialist ethics, emphasizing the absence of an a priori moral order and the significance of personal choice.\n",
       "   - Debate on the ethical implications of AI and automation, including the responsibility of creators and users in shaping technology that aligns with existentialist values.\n",
       "\n",
       "7. Embracing Existentialism for Personal Growth and Social Progress\n",
       "   - Consideration of how existentialist ideas can inspire individuals to live more meaningful lives in the face of technological disruption.\n",
       "   - Discussion of the potential for existentialist thought to contribute to social progress by encouraging critical reflection on the role of technology in shaping human existence.\n",
       "\n",
       "Each section will be infused with engaging examples, relatable scenarios, and thought-provoking questions to ensure the chapter is lively, accessible, and relevant to a wide audience. The aim is to provide readers with a deeper understanding of existentialism and practical insights into living a good life in an era defined by AI and automation."
      ],
      "text/plain": [
       "<IPython.core.display.Markdown object>"
      ]
     },
     "metadata": {},
     "output_type": "display_data"
    },
    {
     "name": "stderr",
     "output_type": "stream",
     "text": [
      "Active Reading Progress for EXISTENTIALISM [CH. 5]: 100%|██████████| 1/1 [01:14<00:00, 74.59s/it]       \n"
     ]
    },
    {
     "data": {
      "text/markdown": [
       "Chapter Outline for NIHILISM [CH.6]: Navigating the Void in the Age of AI\n",
       "\n",
       "1. Introduction to Nihilism and the Digital Epoch\n",
       "   - Define nihilism and its core tenets, emphasizing its distinction from pessimism, cynicism, and apathy.\n",
       "   - Discuss the relevance of nihilism in the context of AI, automation, and the rapid changes in modern life.\n",
       "   - Introduce the concept of 'sunny nihilism' and its potential to offer a fresh perspective on existence amidst technological advancements.\n",
       "\n",
       "2. Nihilism and the Search for Meaning in a Programmed World\n",
       "   - Explore existential nihilism and its implications for finding purpose in an age dominated by algorithms and virtual realities.\n",
       "   - Contrast the existentialist movement's approach to nihilism with the modern embrace of technology and the quest for authenticity in digital interactions.\n",
       "   - Examine how AI and automation challenge traditional values and the human quest for meaning.\n",
       "\n",
       "3. Active Nihilism: Creating New Values in a Coded Society\n",
       "   - Define active versus passive nihilism, highlighting the constructive potential of active nihilism in the face of a seemingly meaningless world.\n",
       "   - Discuss how active nihilism can inspire the creation of personal values and beliefs in a society where traditional roles are being redefined by technology.\n",
       "   - Provide examples of how individuals might apply active nihilism to their lives in scenarios such as job automation and virtual communities.\n",
       "\n",
       "4. The Liberation of Nihilism: Embracing the Moment in an Automated Age\n",
       "   - Discuss the liberating aspects of nihilism when confronted with the obsession to find meaning in everything.\n",
       "   - Explore the concept of focusing on the present moment and the fleeting nature of life, especially when faced with the potential for extended reality through AI.\n",
       "   - Illustrate how simple pleasures and humor can provide fulfillment in a world where existential concerns are amplified by technological progress.\n",
       "\n",
       "5. Nihilism in Pop Culture: From The Good Place to Palm Springs\n",
       "   - Analyze the portrayal of nihilism in modern literature and media, such as TV shows and films, and its impact on popular understanding of the philosophy.\n",
       "   - Discuss how these cultural products reflect and shape societal attitudes towards nihilism in the context of contemporary challenges and technological advancements.\n",
       "\n",
       "6. Nihilism Across Cultures and History: From Buddha to Baudrillard\n",
       "   - Trace the historical roots of nihilism, from its emergence in Europe to its discussion in Buddhist philosophy.\n",
       "   - Examine how different cultures and thinkers, including Nietzsche, Heidegger, and postmodernists, have grappled with nihilism.\n",
       "   - Consider the implications of these diverse perspectives on nihilism for understanding our place in a world increasingly shaped by AI and automation.\n",
       "\n",
       "7. Embracing the Cosmic Tapestry: Nihilism and the Future of Human Experience\n",
       "   - Reflect on the potential for nihilism to inspire awe and gratitude for the human experience, even in the face of perceived meaninglessness.\n",
       "   - Discuss how nihilism can reframe our attention towards lasting contributions in an age where digital footprints may outlive physical existence.\n",
       "   - Conclude with a forward-looking perspective on how nihilism might evolve as humanity continues to integrate with AI and navigate the complexities of a digital future.\n",
       "\n",
       "Throughout the chapter, the outline will be brought to life with engaging anecdotes, thought-provoking questions, and relatable scenarios that illustrate the intersection of nihilism with modern technology and culture. The aim is to provide a dynamic and accessible exploration of nihilism that resonates with readers living in the digital age."
      ],
      "text/plain": [
       "<IPython.core.display.Markdown object>"
      ]
     },
     "metadata": {},
     "output_type": "display_data"
    },
    {
     "name": "stderr",
     "output_type": "stream",
     "text": [
      "Active Reading Progress for NIHILISM [CH.6]: 100%|██████████| 1/1 [01:31<00:00, 91.83s/it]      \n"
     ]
    },
    {
     "data": {
      "text/markdown": [
       "Chapter Outline for \"Pragmatism and the Good Life in the Age of AI and Automation\"\n",
       "\n",
       "1. Introduction to Pragmatism: Tools for Modern Living\n",
       "   - Overview of pragmatism's historical roots and key figures.\n",
       "   - Explanation of pragmatism's emphasis on practical consequences and problem-solving.\n",
       "   - Relevance of pragmatism in the context of AI, automation, and digital transformation.\n",
       "\n",
       "2. Pragmatism in the Digital Workplace: Remote Work and Social Interaction\n",
       "   - Analysis of how pragmatism informs remote work strategies and the cultivation of virtual communities.\n",
       "   - Discussion on the pragmatist approach to maintaining work-life balance and social well-being in a remote environment.\n",
       "   - Examples of pragmatic solutions to the challenges of isolation and digital communication.\n",
       "\n",
       "3. Navigating a Jobless Future: Pragmatism and Complete Automation\n",
       "   - Exploration of pragmatism's response to the potential of widespread job automation.\n",
       "   - Pragmatic strategies for personal growth and adaptation in a rapidly changing job market.\n",
       "   - Case studies of pragmatic education and re-skilling initiatives.\n",
       "\n",
       "4. Pragmatism and Human Expansion: Ethics in an Automated World\n",
       "   - Examination of pragmatist ethics in the face of human population expansion and environmental concerns.\n",
       "   - Discussion on the pragmatic balance between technological advancement and sustainable living.\n",
       "   - Insights into how pragmatism can guide ethical decision-making in an AI-dominated society.\n",
       "\n",
       "5. Virtual and Augmented Realities: Pragmatism in Immersive Experiences\n",
       "   - Analysis of pragmatism's role in shaping our engagement with virtual and augmented realities.\n",
       "   - Consideration of the pragmatic implications of blending digital and physical experiences.\n",
       "   - Examples of how pragmatism can help navigate the ethical and social questions raised by immersive technologies.\n",
       "\n",
       "6. Pragmatism and the Personal Sphere: Smartphones and Video Games\n",
       "   - Discussion on the pragmatist approach to the pervasive influence of smartphones and video games.\n",
       "   - Pragmatic perspectives on managing digital consumption and fostering meaningful interactions.\n",
       "   - Case studies of pragmatic design principles in app development and gaming.\n",
       "\n",
       "7. Pragmatism as a Path to the Good Life: Synthesis and Future Directions\n",
       "   - Summary of how pragmatism provides a framework for living well amidst technological change.\n",
       "   - Reflection on the adaptability of pragmatist thought to future challenges and innovations.\n",
       "   - Vision for a pragmatically-informed society that thrives in harmony with AI and automation.\n",
       "\n",
       "Throughout the chapter, the narrative will be peppered with engaging anecdotes, thought experiments, and hypothetical scenarios that illustrate the practical application of pragmatism in the modern age. The aim is to provide readers with a dynamic and accessible understanding of how pragmatism can be a valuable guide in navigating the complexities of life in an era defined by technological disruption."
      ],
      "text/plain": [
       "<IPython.core.display.Markdown object>"
      ]
     },
     "metadata": {},
     "output_type": "display_data"
    },
    {
     "name": "stderr",
     "output_type": "stream",
     "text": [
      "Active Reading Progress for PRAGMATISM [CH. 7]: 100%|██████████| 1/1 [01:29<00:00, 89.21s/it]       \n"
     ]
    },
    {
     "data": {
      "text/markdown": [
       "Chapter Outline for \"IDEALISM [CH. 8]\"\n",
       "\n",
       "1. Introduction to Idealism in the Age of AI and Automation\n",
       "   - Briefly introduce idealism as a philosophy that equates reality with mind, spirit, or consciousness.\n",
       "   - Discuss how idealism's focus on the mental and experiential aspects of existence can inform our understanding of a good life amidst the rise of AI and automation.\n",
       "   - Present scenarios where idealism intersects with modern technology, such as virtual reality, augmented reality, and the potential for AI to simulate consciousness.\n",
       "\n",
       "2. Historical Roots and Evolution of Idealism\n",
       "   - Trace the origins of idealism from ancient Indian philosophy and Greek thought to its development by figures like Kant and Hegel.\n",
       "   - Explore how idealism has been shaped by religious thinkers and its influence on modern religious movements.\n",
       "   - Examine the criticisms and transformations of idealism in the 20th century and its resurgence in the context of quantum physics and relativity.\n",
       "\n",
       "3. The Mind-Centric Universe: Idealism's Core Assertions\n",
       "   - Delve into the metaphysical and epistemological aspects of idealism, distinguishing between subjective and objective forms.\n",
       "   - Discuss the implications of a mind-centric universe for understanding reality and the potential parallels with AI's data processing.\n",
       "   - Use examples from quantum physics and the \"great thought\" metaphor to illustrate idealism's relevance in modern scientific discourse.\n",
       "\n",
       "4. Living the Good Life Through Idealism\n",
       "   - Analyze how idealism's emphasis on consciousness and mental causation can shape one's approach to living a good life.\n",
       "   - Consider the role of personal and cosmic consciousness in fostering a sense of unity and purpose in an increasingly automated world.\n",
       "   - Discuss the potential for compassion, art, and aesthetic experience as idealist pathways to transcend the challenges of a technology-driven society.\n",
       "\n",
       "5. Idealism and the Challenges of Modernity\n",
       "   - Address the critiques of idealism in the face of empirical science and the materialist worldview.\n",
       "   - Explore how idealism can offer a counter-narrative to the perceived threats of AI and automation, such as job displacement and loss of human connection.\n",
       "   - Discuss the potential for idealism to inform ethical considerations in the development and deployment of AI technologies.\n",
       "\n",
       "6. Idealism in Practice: Case Studies and Thought Experiments\n",
       "   - Present hypothetical scenarios where idealism's principles are applied to modern dilemmas, such as the ethics of AI decision-making and the nature of virtual experiences.\n",
       "   - Examine real-world examples where idealist philosophies have influenced social movements, educational approaches, and scientific theories.\n",
       "   - Discuss the potential for idealism to shape future human-AI interactions and the evolution of consciousness in a digital age.\n",
       "\n",
       "7. Conclusion: The Enduring Relevance of Idealism\n",
       "   - Summarize the key points of idealism's relevance to living a good life in the context of modern challenges.\n",
       "   - Highlight the potential for idealism to provide a framework for understanding and navigating the complexities of a world intertwined with AI and automation.\n",
       "   - Encourage readers to consider the role of mind, spirit, and consciousness in their own lives and the collective human experience."
      ],
      "text/plain": [
       "<IPython.core.display.Markdown object>"
      ]
     },
     "metadata": {},
     "output_type": "display_data"
    },
    {
     "name": "stderr",
     "output_type": "stream",
     "text": [
      "Active Reading Progress for IDEALISM [CH. 8]: 100%|██████████| 1/1 [02:25<00:00, 145.49s/it]      \n"
     ]
    }
   ],
   "source": [
    "active_reading_instructions = f\"\"\"\\\n",
    "You are reading through a knowledge base on {{philosophy}}. Please extract information that is relevant to living a good life.\n",
    "\n",
    "The infomration that is extracted will be used to write a chapter about {{philosophy}} for a book with the following theme: {BOOK_THEME}\n",
    "\n",
    "Your output should be a list of key points and examples that could be relevant to the modern age of AI and automation. The information you are reading through might not directly mention AI and automation so it's up to you to decide if the information is relevant or not.\n",
    "\"\"\"\n",
    "\n",
    "final_review_instructions = f\"\"\"\\\n",
    "Given the list key points and examples from the active reading, please generate a chapter outline. The book must follow these style guidelines:\n",
    "\n",
    "1. {BOOK_OVERALL_STYLE_GUIDANCE}\n",
    "2. {BOOK_CHAPTER_STYLE_GUIDANCE}\n",
    "\n",
    "The chapter outline should contain a list of detailed section descriptions. Please try to keep the number of sections between 5 and 7\n",
    "\"\"\"\n",
    "\n",
    "outlines = []\n",
    "for kb_id in knowledge_base_ids:\n",
    "    # get the knowledge base object\n",
    "    kb_url = f'{SP_BASE_URL}/knowledge_bases/{kb_id}'\n",
    "    resp = requests.get(kb_url, auth=API_AUTH)\n",
    "    kb = resp.json()\n",
    "\n",
    "    outline = run_and_display_review(kb, active_reading_instructions.format(philosophy=kb['title']), final_review_instructions)\n",
    "    outlines.append((kb, outline))"
   ]
  },
  {
   "cell_type": "markdown",
   "metadata": {},
   "source": [
    "##### Create the prompt for each chapter with a little semantic sugar around the outlines created by the document review step and submit long form job"
   ]
  },
  {
   "cell_type": "code",
   "execution_count": 5,
   "metadata": {},
   "outputs": [
    {
     "name": "stdout",
     "output_type": "stream",
     "text": [
      "STARTING CHAPTER: STOICISM [CH. 1]\n",
      "STARTING CHAPTER: EPICUREANISM [CH. 2]\n",
      "STARTING CHAPTER: MINIMALISM [CH. 3]\n",
      "STARTING CHAPTER: HEDONISM [CH. 4]\n",
      "STARTING CHAPTER: EXISTENTIALISM [CH. 5]\n",
      "STARTING CHAPTER: NIHILISM [CH.6]\n",
      "STARTING CHAPTER: PRAGMATISM [CH. 7]\n",
      "STARTING CHAPTER: IDEALISM [CH. 8]\n"
     ]
    }
   ],
   "source": [
    "chapter_ids = []\n",
    "\n",
    "for kb, outline in outlines:\n",
    "    prompt = f\"\"\"\\\n",
    "    You have been assigned to write a chapter in a book titled \"{BOOK_TITLE}\" about {kb['title']}. Please follow this outline when writing the chapter:\n",
    "\n",
    "    {outline}\n",
    "\n",
    "    {BOOK_OVERALL_STYLE_GUIDANCE}\n",
    "    {BOOK_CHAPTER_STYLE_GUIDANCE}\n",
    "\n",
    "    DO NOT EVER USE CLOSINGS LIKE \"in conclusion\", \"in summary\", \"ultimately\", etc. They are boring and you should have more pride in your output.\n",
    "    \"\"\"\n",
    "    print('STARTING CHAPTER:', kb['title'])\n",
    "    chapter_job_id = submit_long_form_job(kb, prompt)\n",
    "    chapter_ids.append(chapter_job_id)\n",
    "    "
   ]
  }
 ],
 "metadata": {
  "kernelspec": {
   "display_name": "Python 3",
   "language": "python",
   "name": "python3"
  },
  "language_info": {
   "codemirror_mode": {
    "name": "ipython",
    "version": 3
   },
   "file_extension": ".py",
   "mimetype": "text/x-python",
   "name": "python",
   "nbconvert_exporter": "python",
   "pygments_lexer": "ipython3",
   "version": "3.9.6"
  }
 },
 "nbformat": 4,
 "nbformat_minor": 2
}
