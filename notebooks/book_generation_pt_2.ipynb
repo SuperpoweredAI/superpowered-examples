{
 "cells": [
  {
   "cell_type": "markdown",
   "metadata": {},
   "source": [
    "**`Webinar 2024-02-21`**\n",
    "\n",
    "[YouTube Recording](https://www.youtube.com/watch?v=TSbiawPaQcQ&list=PLePKvgYhNOFxg3O7gXfmxaKp0EWXEhvNC&index=11)\n",
    "\n",
    "# Book Ideation and Generation using Document Review and Long Form\n",
    "\n",
    "### Overview\n",
    "\n",
    "The goal is to write a quality educational book in the simplest way possible. We will go through the ideation phase to set the tone and topics of the book.\n",
    "\n",
    "##### Project Flow\n",
    "\n",
    "1. Create knowledge bases for each chapter we want in the book.\n",
    "2. Get some user inputs in regard to overall theme and style.\n",
    "3. For each chapter knowledge base, run a document review where the \"final review\" output is a chapter outline.\n",
    "4. Feed each of the document review outlines into a long form generation call.\n",
    "\n",
    "##### Initialization"
   ]
  },
  {
   "cell_type": "markdown",
   "metadata": {},
   "source": [
    "##### `NOTE: To run this, you will need to replace with your own chapter KBs as well as book themes/guidance in the next 2 cells`"
   ]
  },
  {
   "cell_type": "code",
   "execution_count": 1,
   "metadata": {},
   "outputs": [],
   "source": [
    "import superpowered\n",
    "import requests\n",
    "import time\n",
    "import tqdm\n",
    "\n",
    "from IPython.display import display, Markdown\n",
    "\n",
    "SP_BASE_URL = 'https://api.superpowered.ai/v1'\n",
    "SP_API_KEY_ID = ''\n",
    "SP_API_KEY_SECRET = ''\n",
    "API_AUTH = (SP_API_KEY_ID, SP_API_KEY_SECRET)\n",
    "superpowered.set_api_key(SP_API_KEY_ID, SP_API_KEY_SECRET)\n",
    "\n",
    "knowledge_base_ids = [\n",
    "    '08844d05-4e09-479d-9770-6faebccfceb6',  # STOICISM\n",
    "    'a0fd538c-06ec-43ae-849b-f9570caca2c6',  # EPICUREANISM\n",
    "    '87401ada-dfcb-4e3a-afbc-8fe9ead62bb4',  # MINIMALISM\n",
    "    '6fde0338-0856-477b-bfa0-439432dfbcd1',  # HEDONISM\n",
    "    'a78019b4-c498-412b-9daf-737698fab4c5',  # EXISTENTIALISM\n",
    "    '740b2668-ecab-4372-9bc4-6a01a4f88560',  # NIHILISM\n",
    "    '183cee2f-2053-480b-8e86-9377489208c5',  # PRAGMATISM\n",
    "    '0e75e305-b314-40a3-a4fb-7f357bda0c10',  # IDEALISM\n",
    "]\n"
   ]
  },
  {
   "cell_type": "markdown",
   "metadata": {},
   "source": [
    "##### User input describing goal for the book"
   ]
  },
  {
   "cell_type": "code",
   "execution_count": 2,
   "metadata": {},
   "outputs": [],
   "source": [
    "BOOK_DIRECTORY = 'living_a_good_life'\n",
    "BOOK_TITLE = 'Living a Good Life in the Age of AI and Automation'\n",
    "BOOK_THEME = 'The general theme of this book is to look at what it means to live a good life in the context of stoicism, epicureanism, minimalism, hedonism, existentialism, nihilism, pragmatism, and idealism. Each chapter will cover one of these 8 philosophical schools of thought.'\n",
    "BOOK_OVERALL_STYLE_GUIDANCE = 'The style should be widely accessible to the general public with a focus on how each of the philosophies are relevant in the modern age of AI and automation. It is important to use a variable vocabulary and make sure that nothing is repetitive and dry. Be fun and present ideas with examples. Avoid bland closing statements like \"in summary\", \"in conclusion\", etc. The book should be a fun and engaging read.'\n",
    "BOOK_CHAPTER_STYLE_GUIDANCE = 'Each chapter should start with a general overview of the philosophy in question and explain how the concepts are relevant in the modern age of AI and automation. Give examples of what living by this philosophy would look like in scenarios like: \"remote work and lack of social interacation\", \"complete automation with no jobs\", \"human population expantion\", \"virtual reality\", \"augmented reality\", \"cell phones\", \"immersive video games\", etc.'"
   ]
  },
  {
   "cell_type": "markdown",
   "metadata": {},
   "source": [
    "##### Helper functions that will run document reviews and long form plus stream results\n",
    "\n",
    "- `run_and_display_review()` function will start a document review, show an active reading progress bar and then stream final review results as they happen.\n",
    "- `submit_long_form_job()` just submits a long form job so we can generate all the chapters in parallel.\n"
   ]
  },
  {
   "cell_type": "code",
   "execution_count": 3,
   "metadata": {},
   "outputs": [],
   "source": [
    "def run_and_display_review(kb: dict, ar_instructions: str, fr_instructions: str):\n",
    "    url = f'{SP_BASE_URL}/knowledge_bases/{kb[\"id\"]}/review'\n",
    "    payload = {\n",
    "        'active_reading_instructions': ar_instructions,\n",
    "        'final_review_instructions': fr_instructions,\n",
    "    }\n",
    "    resp = requests.post(url, json=payload, auth=API_AUTH)\n",
    "    final_review_display = display(Markdown('Review pending...'), display_id=True)\n",
    "    progress_bar = tqdm.tqdm(total=1)\n",
    "    progress_bar.set_description(f'Active Reading Progress for {kb[\"title\"]}')\n",
    "\n",
    "    # keep request job until it's completed (or failed)\n",
    "    while resp.json()['status'] not in ['COMPLETE', 'FAILED']:\n",
    "        resp = requests.get(resp.json()['status_url'], auth=API_AUTH)\n",
    "        progress_bar.n = resp.json()['response']['active_reading_progress_pct']\n",
    "        if progress_bar.n >= 1:\n",
    "            final_review_display.update(Markdown(resp.json()[\"response\"][\"final_review\"]))\n",
    "        progress_bar.refresh()\n",
    "\n",
    "    progress_bar.close()\n",
    "    return resp.json()['response']['final_review']\n",
    "\n",
    "\n",
    "def submit_long_form_job(kb: dict, prompt: str):\n",
    "    url = f'{SP_BASE_URL}/long_form'\n",
    "    payload = {\n",
    "        'knowledge_base_ids': [kb['id']],\n",
    "        'model': 'gpt-4',\n",
    "        'response_length': 'long',\n",
    "        'prompt': prompt,\n",
    "    }\n",
    "    resp = requests.post(url, json=payload, auth=API_AUTH)\n",
    "    return resp.json()['id']\n"
   ]
  },
  {
   "cell_type": "markdown",
   "metadata": {},
   "source": [
    "##### Loop through each knowledge base and run the document review"
   ]
  },
  {
   "cell_type": "code",
   "execution_count": 4,
   "metadata": {},
   "outputs": [
    {
     "data": {
      "text/markdown": [
       "### Chapter Outline: Stoicism and Modern Life in the Age of AI and Automation\n",
       "\n",
       "#### Introduction to Stoicism\n",
       "- Brief history of Stoicism, from its origins with Zeno of Citium in Athens to its development and influence in Rome.\n",
       "- Overview of Stoic philosophy, focusing on virtue ethics, the concept of living in accordance with nature, and the Stoic path to happiness (eudaimonia).\n",
       "- The relevance of Stoicism in the context of modern challenges such as AI, automation, and the digital age.\n",
       "\n",
       "#### Stoicism and the Digital Age\n",
       "- Exploration of how Stoic principles can guide individuals in navigating the complexities of remote work, social isolation, and the digital overload of information.\n",
       "- Examples of applying Stoic practices to maintain emotional resilience and mental clarity amidst the constant presence of technology.\n",
       "\n",
       "#### Virtue in an Automated World\n",
       "- Discussion on the Stoic virtues of wisdom, courage, temperance, and justice in the context of a world where AI and automation play significant roles in decision-making and ethics.\n",
       "- How Stoicism can inform ethical programming and the development of AI to serve the common good.\n",
       "\n",
       "#### Stoicism and Environmental Sustainability\n",
       "- Examination of Stoic views on nature and how these can inspire sustainable living and environmental responsibility in an era of material consumption and technological advancement.\n",
       "- Stoic practices that promote minimalism and the appreciation of \"indifferents\" to combat the environmental impact of consumerism.\n",
       "\n",
       "#### Emotional Resilience in Virtual Realities\n",
       "- Analysis of Stoic emotional ethics, focusing on apatheia (freedom from passion) and the management of emotions in virtual and augmented realities.\n",
       "- The role of Stoicism in developing a balanced approach to immersive technologies, ensuring they enhance rather than detract from the quality of life.\n",
       "\n",
       "#### Stoicism and Community in the Age of Individualism\n",
       "- The Stoic concept of cosmopolitanism and its implications for fostering a sense of global community and empathy in an increasingly interconnected yet fragmented world.\n",
       "- Practical Stoic exercises to cultivate social virtues and a sense of belonging in both physical and virtual communities.\n",
       "\n",
       "#### Living Stoically Amidst Uncertainty\n",
       "- Strategies for applying Stoic wisdom to embrace uncertainty and change, particularly in the face of rapid technological advancements and the potential for societal upheaval.\n",
       "- The Stoic practice of focusing on what is within one's control as a means of navigating the challenges and opportunities presented by AI and automation.\n",
       "\n",
       "#### Conclusion: The Timeless Wisdom of Stoicism\n",
       "- Reflection on the enduring relevance of Stoic philosophy in providing guidance for living a good life in the modern age.\n",
       "- Encouragement for readers to explore Stoic practices in their daily lives, fostering resilience, virtue, and happiness amidst the challenges of the 21st century.\n",
       "\n",
       "This chapter aims to engage readers with a lively and accessible exploration of Stoicism, illustrating its practical applications in the context of contemporary issues such as AI, automation, and the digital revolution. Through real-world examples and practical advice, the chapter will demonstrate how ancient Stoic wisdom can offer valuable insights for navigating the complexities of modern life."
      ],
      "text/plain": [
       "<IPython.core.display.Markdown object>"
      ]
     },
     "metadata": {},
     "output_type": "display_data"
    },
    {
     "name": "stderr",
     "output_type": "stream",
     "text": [
      "Active Reading Progress for STOICISM [CH. 1]: 100%|██████████| 1/1 [02:16<00:00, 136.45s/it]      \n"
     ]
    },
    {
     "data": {
      "text/markdown": [
       "### Chapter Outline: Epicureanism in the Age of AI and Automation\n",
       "\n",
       "#### Introduction to Epicureanism\n",
       "- Brief history of Epicureanism, founded by Epicurus in 307 BCE.\n",
       "- Core principles: seeking modest, sustainable pleasure and freedom from fear.\n",
       "- The relevance of Epicureanism in the context of modern challenges like AI, automation, and digital life.\n",
       "\n",
       "#### Epicureanism vs. Modern Hedonism\n",
       "- Clarification of common misconceptions: Epicureanism is not about indulgence in fleeting pleasures but about sustainable happiness.\n",
       "- Comparison with modern hedonism, especially in the digital age (social media, virtual reality).\n",
       "- Examples of how to apply Epicurean moderation in the consumption of digital content and technology.\n",
       "\n",
       "#### The Epicurean Pursuit of Pleasure in an Automated World\n",
       "- The impact of complete automation on jobs and the Epicurean response: finding pleasure in simplicity and intellectual pursuits.\n",
       "- The role of AI in enhancing the Epicurean lifestyle, such as reducing fear and pain through medical advancements.\n",
       "- The challenge of maintaining human connections in a world of remote work and virtual interactions.\n",
       "\n",
       "#### Epicureanism and the Digital Social Sphere\n",
       "- The importance of friendship in Epicureanism and its application in the age of social media and online communities.\n",
       "- Navigating the balance between virtual friendships and the need for physical community.\n",
       "- Strategies for using technology to enhance, rather than replace, meaningful human connections.\n",
       "\n",
       "#### Epicurean Ethics in the Age of AI\n",
       "- The application of Epicurean virtues (courage, moderation) in ethical dilemmas posed by AI and automation.\n",
       "- The role of AI in justice and the Epicurean principle of not harming or being harmed.\n",
       "- The potential for AI to fulfill Epicurean desires for knowledge and dispel fears, particularly about the unknown.\n",
       "\n",
       "#### Living an Epicurean Life Amidst Technological Advancement\n",
       "- Practical tips for applying Epicurean principles to daily life in a technologically advanced society.\n",
       "- Balancing the use of technology for pleasure and utility without succumbing to excess.\n",
       "- The importance of self-reflection and moderation in desires in an age of endless digital possibilities.\n",
       "\n",
       "#### Conclusion: The Timeless Relevance of Epicureanism\n",
       "- Recap of how Epicureanism provides a framework for living a good life amidst the challenges and opportunities of the modern age.\n",
       "- The enduring appeal of Epicureanism in promoting a life of tranquility, friendship, and meaningful pleasure.\n",
       "- Encouragement to explore Epicurean practices as a way to navigate the complexities of life in the digital era.\n",
       "\n",
       "This chapter aims to engage readers with a blend of historical philosophy and contemporary application, making Epicureanism accessible and relevant to the challenges and opportunities presented by AI, automation, and the digital world. Through practical examples and a focus on sustainable pleasure and freedom from fear, readers will discover how ancient wisdom can guide modern living."
      ],
      "text/plain": [
       "<IPython.core.display.Markdown object>"
      ]
     },
     "metadata": {},
     "output_type": "display_data"
    },
    {
     "name": "stderr",
     "output_type": "stream",
     "text": [
      "Active Reading Progress for EPICUREANISM [CH. 2]: 100%|██████████| 1/1 [01:27<00:00, 87.34s/it]      \n"
     ]
    },
    {
     "data": {
      "text/markdown": [
       "### Chapter Outline: Embracing Minimalism in the Age of AI and Automation\n",
       "\n",
       "#### Introduction to Minimalism\n",
       "- Begin with a brief history of minimalism, touching on its origins in post-World War II art and its evolution into a broader lifestyle philosophy.\n",
       "- Explain how minimalism, with its emphasis on simplicity, reduction, and focusing on essential elements, offers a counterbalance to the complexities introduced by AI and automation in modern life.\n",
       "\n",
       "#### Minimalism and Modern Technology\n",
       "- Explore the relationship between minimalism and technology, particularly in the context of AI, virtual reality, augmented reality, and immersive video games.\n",
       "- Discuss how adopting a minimalist approach can help manage digital clutter, reduce tech-induced stress, and promote a healthier engagement with technology.\n",
       "\n",
       "#### Minimalism in the Digital Workplace\n",
       "- Address the challenges and opportunities of remote work, including the lack of social interaction and the potential for complete automation of jobs.\n",
       "- Offer insights into how minimalism can guide individuals in creating a balanced and productive remote work environment, focusing on essential tasks and minimizing distractions.\n",
       "\n",
       "#### Minimalism and Environmental Sustainability\n",
       "- Examine the role of minimalism in promoting environmental sustainability, especially in the face of human population expansion and climate change.\n",
       "- Highlight examples of minimalist practices, such as capsule wardrobes and minimalist architecture, that contribute to reducing waste and conserving resources.\n",
       "\n",
       "#### Minimalism in Personal Finance and Consumption\n",
       "- Discuss the concept of financial minimalism and its relevance in an era of consumerism exacerbated by targeted advertising and e-commerce platforms powered by AI.\n",
       "- Provide strategies for applying minimalism to personal finance and consumption, aiming for a more intentional and less stressful lifestyle.\n",
       "\n",
       "#### Minimalism as a Tool for Well-being\n",
       "- Delve into the psychological and emotional benefits of minimalism, including reduced stress, increased focus, and greater appreciation for simple pleasures.\n",
       "- Share practical tips for incorporating minimalism into various aspects of life, from decluttering physical spaces to simplifying schedules and relationships.\n",
       "\n",
       "#### The Future of Minimalism\n",
       "- Speculate on the future trajectory of minimalism in a world increasingly shaped by AI, automation, and digital innovation.\n",
       "- Encourage readers to consider how minimalism can serve as a guiding philosophy for navigating the complexities of modern life, ensuring that technology serves humanity rather than overwhelms it.\n",
       "\n",
       "Throughout the chapter, use engaging examples and anecdotes to illustrate key points, making the content relatable and actionable for readers. Avoid technical jargon and aim for a tone that is both informative and inspiring, inviting readers to explore how minimalism can enhance their lives in the age of AI and automation."
      ],
      "text/plain": [
       "<IPython.core.display.Markdown object>"
      ]
     },
     "metadata": {},
     "output_type": "display_data"
    },
    {
     "name": "stderr",
     "output_type": "stream",
     "text": [
      "Active Reading Progress for MINIMALISM [CH. 3]: 100%|██████████| 1/1 [00:46<00:00, 46.97s/it]      \n"
     ]
    },
    {
     "data": {
      "text/markdown": [
       "### Chapter Outline: Hedonism in the Age of AI and Automation\n",
       "\n",
       "#### Introduction to Hedonism: Pleasure as the Ultimate Good\n",
       "- Briefly introduce hedonism as the philosophical theory that posits pleasure and pain as the central elements of human value.\n",
       "- Explain how hedonism encompasses not just sensory pleasure but also intellectual pursuits and ethical considerations.\n",
       "- Set the stage for exploring hedonism in the context of modern challenges like AI, automation, and digital living.\n",
       "\n",
       "#### Hedonism and Modern Technology: A New Playground\n",
       "- Explore how the rise of AI and automation creates new avenues for pleasure and challenges for pain avoidance.\n",
       "- Discuss scenarios such as immersive video games, virtual reality, and augmented reality as modern hedonistic pursuits.\n",
       "- Examine the impact of remote work and digital social interactions on the hedonistic balance of pleasure over pain.\n",
       "\n",
       "#### The Ethical Dimensions of Hedonism in an Automated World\n",
       "- Delve into ethical hedonism and its implications for decision-making in an era of AI and automation.\n",
       "- Consider the role of AI in maximizing societal happiness through utilitarian approaches, contrasting hedonistic egoism and utilitarianism.\n",
       "- Discuss the ethical considerations of pleasure maximization in the context of complete automation and job displacement.\n",
       "\n",
       "#### Pleasure, Pain, and the Human Experience in a Digital Age\n",
       "- Reflect on the nature of pleasure and pain in a world where digital experiences can be as compelling as physical ones.\n",
       "- Analyze the concept of higher and lower pleasures in the context of digital consumption and the pursuit of intellectual pleasures.\n",
       "- Address criticisms of hedonism, such as the experience machine thought experiment, in light of modern technology's ability to simulate reality.\n",
       "\n",
       "#### Hedonism Beyond the Individual: Societal and Global Implications\n",
       "- Explore the implications of hedonism for societal well-being in an age of global connectivity and AI.\n",
       "- Discuss how hedonistic principles could guide policies in education, healthcare, and governance to maximize collective happiness.\n",
       "- Consider the challenges of applying hedonism at a global scale, including cultural differences in the understanding of pleasure and happiness.\n",
       "\n",
       "#### The Future of Hedonism: Cognitive Science and Beyond\n",
       "- Look at how advances in cognitive science and psychology could reshape our understanding of pleasure and its pursuit.\n",
       "- Discuss the potential for \"paradise engineering\" as envisioned by thinkers like David Pearce, and the ethical considerations it entails.\n",
       "- Speculate on the future of hedonism in light of emerging theories and the ongoing evolution of human understanding of pleasure and pain.\n",
       "\n",
       "#### Conclusion: Hedonism Reimagined for a New Era\n",
       "- Summarize the key points discussed in the chapter, emphasizing the relevance of hedonism in the modern age of AI and automation.\n",
       "- Reflect on the adaptability of hedonism as a philosophy in addressing the challenges and opportunities presented by technological advancements.\n",
       "- Encourage readers to consider how hedonistic principles can inform their personal and societal choices in an increasingly automated world.\n",
       "\n",
       "This chapter aims to engage readers with the intriguing intersections between hedonism and modern technology, presenting thought-provoking scenarios and ethical considerations that highlight the relevance of ancient philosophical ideas in today's digital and automated landscape."
      ],
      "text/plain": [
       "<IPython.core.display.Markdown object>"
      ]
     },
     "metadata": {},
     "output_type": "display_data"
    },
    {
     "name": "stderr",
     "output_type": "stream",
     "text": [
      "Active Reading Progress for HEDONISM [CH. 4]: 100%|██████████| 1/1 [01:37<00:00, 97.06s/it]       \n"
     ]
    },
    {
     "data": {
      "text/markdown": [
       "### Chapter Outline: Existentialism and the Modern Age of AI and Automation\n",
       "\n",
       "#### Introduction to Existentialism\n",
       "- Briefly introduce existentialism as a philosophical movement that emerged in the 20th century, emphasizing freedom, self-creation, and the acceptance of the human condition.\n",
       "- Explain how existentialism's focus on individual responsibility and creating meaning in life is relevant in the age of AI and automation.\n",
       "\n",
       "#### Existentialism in the Age of AI\n",
       "- Discuss how existentialist themes of freedom and self-creation intersect with modern concerns about AI and automation, particularly regarding job displacement and the changing nature of work.\n",
       "- Explore scenarios like remote work, lack of social interaction, and the potential for AI to perform tasks traditionally done by humans, prompting existential questions about purpose and identity.\n",
       "\n",
       "#### Authenticity and Technology\n",
       "- Delve into the existentialist concept of authenticity, emphasizing the importance of living a life true to oneself in an era dominated by social media, virtual reality, and augmented reality.\n",
       "- Provide examples of how individuals can navigate the pressures of conforming to digital personas and the challenge of maintaining genuine human connections amidst technological advancements.\n",
       "\n",
       "#### Confronting Existential Anxiety\n",
       "- Address existential themes of anxiety, boredom, and the awareness of death in the context of immersive video games, virtual reality, and the digital afterlife.\n",
       "- Discuss how existentialist philosophy can offer insights into managing the existential dread that may arise from rapid technological changes and the blurring of lines between reality and virtuality.\n",
       "\n",
       "#### The Quest for Meaning in a Post-Work World\n",
       "- Imagine a future where complete automation has eliminated the need for human labor, leading to questions about the meaning of life and how to find fulfillment.\n",
       "- Explore existentialist responses to such a scenario, emphasizing the importance of creating one's own meaning and engaging in activities that reflect authentic desires and values.\n",
       "\n",
       "#### Ethics and Responsibility in the Digital Age\n",
       "- Examine the existentialist emphasis on individual responsibility and ethics in the context of AI decision-making, data privacy, and the potential for technology to shape human behavior.\n",
       "- Discuss how existentialist thought can inform ethical considerations in the development and use of AI, encouraging a focus on human values and the impact on society.\n",
       "\n",
       "#### Conclusion: Embracing Existentialism Today\n",
       "- Summarize how existentialism's focus on individual choice, responsibility, and the search for meaning offers valuable perspectives in navigating the challenges and opportunities presented by AI and automation.\n",
       "- Encourage readers to reflect on their own lives and the choices they make in an increasingly automated world, highlighting the enduring relevance of existentialist philosophy in understanding and shaping the human condition.\n",
       "\n",
       "This chapter aims to engage readers with a blend of existentialist philosophy and contemporary issues, using relatable examples and thought-provoking scenarios to illustrate how existentialist ideas can help navigate the complexities of life in the modern age of AI and automation."
      ],
      "text/plain": [
       "<IPython.core.display.Markdown object>"
      ]
     },
     "metadata": {},
     "output_type": "display_data"
    },
    {
     "name": "stderr",
     "output_type": "stream",
     "text": [
      "Active Reading Progress for EXISTENTIALISM [CH. 5]: 100%|██████████| 1/1 [01:59<00:00, 119.14s/it]      \n"
     ]
    },
    {
     "data": {
      "text/markdown": [
       "### Chapter Outline: Nihilism and the Good Life in the Age of AI and Automation\n",
       "\n",
       "#### Introduction to Nihilism\n",
       "- Begin with a brief overview of nihilism, emphasizing its distinction from pessimism, cynicism, and apathy. Highlight nihilism's focus on the absence of inherent meaning in life, rather than a negative outlook on existence.\n",
       "- Introduce the relevance of nihilism in the context of modern challenges such as AI, automation, and the digital transformation of society.\n",
       "\n",
       "#### Nihilism in the Digital Era\n",
       "- Explore how nihilism intersects with the rise of AI and automation, focusing on existential questions about human purpose and value in a world where machines can perform many human tasks.\n",
       "- Discuss scenarios like remote work, social isolation, and the potential for a jobless future, examining how nihilistic perspectives might offer insights into living a fulfilling life amidst these changes.\n",
       "\n",
       "#### Nihilism and Virtual Realities\n",
       "- Delve into the implications of virtual and augmented realities on human perceptions of meaning and reality. Use examples from popular culture (e.g., \"The Good Place,\" \"BoJack Horseman\") to illustrate how these technologies challenge traditional notions of existence and purpose.\n",
       "- Consider the role of nihilism in navigating a world where virtual experiences can be as impactful as physical ones.\n",
       "\n",
       "#### The Liberating Aspects of Nihilism\n",
       "- Highlight the liberating potential of nihilism in freeing individuals from traditional value systems, allowing for the creation of personal meaning in an increasingly automated world.\n",
       "- Discuss the concept of \"sunny nihilism\" and how it encourages finding joy and beauty in the chaos of existence, even when faced with the vastness of the digital and cosmic universe.\n",
       "\n",
       "#### Nihilism and the Search for Authenticity\n",
       "- Examine how nihilism can prompt a deeper reflection on authenticity in an age dominated by social media and digital personas. Explore the pursuit of genuine experiences and connections in a world where much of life is mediated by screens.\n",
       "- Use examples from literature and media that explore millennial nihilism and the quest for authenticity amidst widespread disillusionment.\n",
       "\n",
       "#### Constructing Meaning in a Nihilistic World\n",
       "- Discuss the concept of active nihilism and how individuals can create their own values and meanings in a world that seems increasingly governed by algorithms and artificial intelligence.\n",
       "- Offer practical advice on embracing nihilism constructively, focusing on simple pleasures, mindfulness, and the appreciation of beauty in everyday life.\n",
       "\n",
       "#### Nihilism, Resilience, and the Future\n",
       "- Conclude with a reflection on how nihilism can offer resilience and adaptability in facing the uncertainties of the future, especially as humanity navigates the challenges and opportunities presented by AI and automation.\n",
       "- Encourage readers to see nihilism not as a philosophy of despair, but as a perspective that can enhance the appreciation of life's fleeting moments and the creation of personal meaning in an ever-changing world.\n",
       "\n",
       "This chapter aims to demystify nihilism and present it as a philosophical tool for navigating the complexities of modern life, especially in the face of technological advancements that challenge traditional concepts of work, purpose, and connection. Through engaging examples and a focus on practical implications, the chapter will invite readers to explore how nihilism can inform a fulfilling approach to living in the digital age."
      ],
      "text/plain": [
       "<IPython.core.display.Markdown object>"
      ]
     },
     "metadata": {},
     "output_type": "display_data"
    },
    {
     "name": "stderr",
     "output_type": "stream",
     "text": [
      "Active Reading Progress for NIHILISM [CH.6]: 100%|██████████| 1/1 [01:37<00:00, 97.32s/it]       \n"
     ]
    },
    {
     "data": {
      "text/markdown": [
       "**Chapter Outline: Pragmatism and the Good Life in the Age of AI and Automation**\n",
       "\n",
       "**Introduction to Pragmatism**\n",
       "- Begin with a brief history of pragmatism, highlighting its origins in the United States in the late 19th century with key figures such as Charles Sanders Peirce, William James, and John Dewey.\n",
       "- Explain pragmatism's core principle: the truth of an idea or theory is determined by its practical consequences and utility in solving problems.\n",
       "- Introduce the relevance of pragmatism in the context of modern challenges such as AI, automation, and digital transformation.\n",
       "\n",
       "**Pragmatism in a World of AI and Automation**\n",
       "- Discuss how pragmatism's focus on practical consequences and problem-solving is particularly relevant in a world increasingly dominated by AI and automation.\n",
       "- Explore scenarios such as remote work, social isolation, job displacement due to automation, and the ethical implications of AI decisions.\n",
       "- Use examples to illustrate how a pragmatic approach can guide ethical AI development, emphasizing the importance of outcomes and the adaptability of ethical standards.\n",
       "\n",
       "**Pragmatism and Digital Well-being**\n",
       "- Examine the impact of digital technologies like smartphones, virtual reality, and immersive video games on individual well-being and social interactions.\n",
       "- Discuss how pragmatism advocates for a balanced approach to technology, focusing on its practical benefits while being mindful of potential negative consequences.\n",
       "- Highlight pragmatic strategies for enhancing digital well-being, such as promoting meaningful online interactions and using technology to support rather than replace real-world experiences.\n",
       "\n",
       "**Pragmatism and Environmental Challenges**\n",
       "- Address the pragmatic approach to environmental issues, emphasizing the importance of practical solutions that balance human needs with ecological sustainability.\n",
       "- Discuss how pragmatism can inform policies on climate change, resource management, and technological innovation in green technologies.\n",
       "- Provide examples of pragmatic environmental initiatives that have successfully balanced economic development with environmental protection.\n",
       "\n",
       "**Pragmatism in Education and Lifelong Learning**\n",
       "- Explore the implications of pragmatism for education, particularly in the context of lifelong learning and the need for skills adaptation in a rapidly changing world.\n",
       "- Discuss John Dewey's contributions to pragmatic pedagogy, emphasizing the importance of experiential learning and critical thinking.\n",
       "- Highlight the role of education in preparing individuals for the challenges of a digital economy, including the need for digital literacy and adaptability.\n",
       "\n",
       "**Pragmatism, Ethics, and Social Responsibility**\n",
       "- Delve into the ethical dimensions of pragmatism, particularly its emphasis on the practical consequences of actions and decisions.\n",
       "- Discuss how pragmatism can inform ethical decision-making in business, technology, and public policy, focusing on outcomes and the common good.\n",
       "- Explore the role of pragmatism in promoting social responsibility, democratic participation, and the pursuit of justice in an increasingly complex world.\n",
       "\n",
       "**Conclusion: Living the Good Life with Pragmatism**\n",
       "- Summarize the key points of the chapter, emphasizing the relevance of pragmatism in addressing contemporary challenges.\n",
       "- Highlight the flexibility and adaptability of pragmatism as a philosophical approach that encourages continuous inquiry, experimentation, and revision of beliefs based on practical outcomes.\n",
       "- Conclude with a reflection on how pragmatism offers a framework for living a good life in the modern age, balancing the pursuit of individual fulfillment with social responsibility and ethical considerations.\n",
       "\n",
       "This chapter outline aims to engage readers with a dynamic and accessible exploration of pragmatism, illustrating its relevance and application in various aspects of modern life, from technology and ethics to education and environmental sustainability."
      ],
      "text/plain": [
       "<IPython.core.display.Markdown object>"
      ]
     },
     "metadata": {},
     "output_type": "display_data"
    },
    {
     "name": "stderr",
     "output_type": "stream",
     "text": [
      "Active Reading Progress for PRAGMATISM [CH. 7]: 100%|██████████| 1/1 [01:57<00:00, 117.97s/it]      \n"
     ]
    },
    {
     "data": {
      "text/markdown": [
       "**Chapter Outline: Exploring Idealism in the Age of AI and Automation**\n",
       "\n",
       "**Introduction to Idealism: A Mind-Centric Universe**\n",
       "- Begin with a captivating introduction to idealism, emphasizing its core assertion that reality is fundamentally mental or consciousness-based. \n",
       "- Present a brief historical overview, highlighting contributions from key philosophers like Berkeley, Kant, Hegel, and Fichte.\n",
       "- Transition into the relevance of idealism in the context of AI and automation, setting the stage for a deep dive into how these concepts intersect with modern technological advancements.\n",
       "\n",
       "**Section 1: The Idealist Perspective on AI and Consciousness**\n",
       "- Explore the implications of idealism for understanding artificial intelligence, particularly the quest for AI consciousness.\n",
       "- Discuss the idea that if reality is fundamentally mental, then AI, as part of this reality, might also possess or simulate aspects of consciousness.\n",
       "- Use examples from AI research that blurs the line between computational processes and cognitive functions, reflecting on idealist interpretations.\n",
       "\n",
       "**Section 2: Automation and the Idealist View of Work**\n",
       "- Delve into the idealist perspective on the shift towards complete automation and the diminishing role of human labor.\n",
       "- Consider how idealism values consciousness and mental activity over physical labor, suggesting a reevaluation of what constitutes \"work\" in an automated world.\n",
       "- Discuss the potential for a society where creative and intellectual pursuits become the primary form of human contribution, inspired by idealist principles.\n",
       "\n",
       "**Section 3: Virtual Realities and the Idealist Notion of Experience**\n",
       "- Examine the intersection of idealism with virtual and augmented reality technologies, considering the idea that these experiences are as \"real\" as physical ones if reality is consciousness-based.\n",
       "- Discuss the implications for identity, social interaction, and the nature of experience itself when life can be lived in entirely constructed realities.\n",
       "- Highlight examples from VR and AR that challenge our traditional notions of space, time, and presence.\n",
       "\n",
       "**Section 4: The Digital Mind: Social Media, Smartphones, and Consciousness**\n",
       "- Investigate how idealism can inform our understanding of the pervasive influence of digital technologies like social media and smartphones on our consciousness and perception of reality.\n",
       "- Discuss the idea that these technologies extend the mind and create shared mental spaces, reflecting on the implications for individuality and collective consciousness.\n",
       "- Consider the role of algorithms in shaping our mental landscape and the idealist notion that reality is a construct of the mind.\n",
       "\n",
       "**Section 5: The Ethical Implications of Idealism in a Technologically Advanced World**\n",
       "- Explore the ethical considerations that arise from an idealist perspective in the age of AI and automation.\n",
       "- Discuss how idealism's emphasis on the primacy of consciousness could inform ethical AI development, digital privacy, and the rights of potentially conscious AI entities.\n",
       "- Reflect on the moral responsibilities of creators and users of technology in a world where the mental and the digital are increasingly intertwined.\n",
       "\n",
       "**Conclusion: Embracing an Idealist Future**\n",
       "- Conclude with a thought-provoking reflection on the potential for a future society shaped by idealist principles, where consciousness and mental creativity are at the forefront of human endeavor.\n",
       "- Encourage readers to consider the implications of idealism for their own lives and the collective future, emphasizing the transformative potential of viewing reality through an idealist lens.\n",
       "- Avoid cliché summaries, instead leaving readers with questions and curiosities about the nature of reality, consciousness, and the role of technology in an idealist world.\n",
       "\n",
       "This chapter aims to engage readers with a dynamic and accessible exploration of idealism, making connections to contemporary issues and technologies while encouraging deep reflection on the nature of reality and consciousness."
      ],
      "text/plain": [
       "<IPython.core.display.Markdown object>"
      ]
     },
     "metadata": {},
     "output_type": "display_data"
    },
    {
     "name": "stderr",
     "output_type": "stream",
     "text": [
      "Active Reading Progress for IDEALISM [CH. 8]: 100%|██████████| 1/1 [03:33<00:00, 213.30s/it]      \n"
     ]
    }
   ],
   "source": [
    "active_reading_instructions = f\"\"\"\\\n",
    "You are reading through a knowledge base on {{philosophy}}. Please extract information that is relevant to living a good life.\n",
    "\n",
    "The infomration that is extracted will be used to write a chapter about {{philosophy}} for a book with the following theme: {BOOK_THEME}\n",
    "\n",
    "Your output should be a list of key points and examples that could be relevant to the modern age of AI and automation. The information you are reading through might not directly mention AI and automation so it's up to you to decide if the information is relevant or not.\n",
    "\"\"\"\n",
    "\n",
    "final_review_instructions = f\"\"\"\\\n",
    "Given the list key points and examples from the active reading, please generate a chapter outline. The book must follow these style guidelines:\n",
    "\n",
    "1. {BOOK_OVERALL_STYLE_GUIDANCE}\n",
    "2. {BOOK_CHAPTER_STYLE_GUIDANCE}\n",
    "\n",
    "The chapter outline should contain a list of detailed section descriptions. Please try to keep the number of sections between 5 and 7\n",
    "\"\"\"\n",
    "\n",
    "outlines = []\n",
    "for kb_id in knowledge_base_ids:\n",
    "    # get the knowledge base object\n",
    "    kb_url = f'{SP_BASE_URL}/knowledge_bases/{kb_id}'\n",
    "    resp = requests.get(kb_url, auth=API_AUTH)\n",
    "    kb = resp.json()\n",
    "\n",
    "    outline = run_and_display_review(kb, active_reading_instructions.format(philosophy=kb['title']), final_review_instructions)\n",
    "    outlines.append((kb, outline))"
   ]
  },
  {
   "cell_type": "markdown",
   "metadata": {},
   "source": [
    "##### Create the prompt for each chapter with a little semantic sugar around the outlines created by the document review step and submit long form job"
   ]
  },
  {
   "cell_type": "code",
   "execution_count": 5,
   "metadata": {},
   "outputs": [
    {
     "name": "stdout",
     "output_type": "stream",
     "text": [
      "STARTING CHAPTER: STOICISM [CH. 1]\n",
      "STARTING CHAPTER: EPICUREANISM [CH. 2]\n",
      "STARTING CHAPTER: MINIMALISM [CH. 3]\n",
      "STARTING CHAPTER: HEDONISM [CH. 4]\n",
      "STARTING CHAPTER: EXISTENTIALISM [CH. 5]\n",
      "STARTING CHAPTER: NIHILISM [CH.6]\n",
      "STARTING CHAPTER: PRAGMATISM [CH. 7]\n",
      "STARTING CHAPTER: IDEALISM [CH. 8]\n"
     ]
    }
   ],
   "source": [
    "chapter_ids = []\n",
    "\n",
    "for kb, outline in outlines:\n",
    "    prompt = f\"\"\"\\\n",
    "    You have been assigned to write a chapter in a book titled \"{BOOK_TITLE}\" about {kb['title']}. Please follow this outline when writing the chapter:\n",
    "\n",
    "    {outline}\n",
    "\n",
    "    {BOOK_OVERALL_STYLE_GUIDANCE}\n",
    "    {BOOK_CHAPTER_STYLE_GUIDANCE}\n",
    "\n",
    "    DO NOT EVER USE CLOSINGS LIKE \"in conclusion\", \"in summary\", \"ultimately\", etc. They are boring and you should have more pride in your output.\n",
    "\n",
    "    When you generate a title, please include the chapter number and the name of the philosophy. This chapter is {kb['title']}\".\n",
    "    \"\"\"\n",
    "    print('STARTING CHAPTER:', kb['title'])\n",
    "    chapter_job_id = submit_long_form_job(kb, prompt)\n",
    "    chapter_ids.append(chapter_job_id)\n",
    "    "
   ]
  },
  {
   "cell_type": "markdown",
   "metadata": {},
   "source": [
    "# START OF PART 2 --- 2024-02-21\n",
    "\n",
    "## Finishing touches\n",
    "\n",
    "- Edit the title and export each chapter as a markdown file and put in the book folder.\n",
    "- Generate an \"Introduction\" and \"Conclusion\" chapter by running a document review on a knowledge base with all the outlines and generated chapters. These reviews will gnerate the outlines and then be fed into the `long_form` endpoint.\n",
    "- Use pandoc to export the .epub file.\n",
    "\n",
    "##### Edit titles so they are simply the name of the philosophy"
   ]
  },
  {
   "cell_type": "code",
   "execution_count": 10,
   "metadata": {},
   "outputs": [
    {
     "name": "stdout",
     "output_type": "stream",
     "text": [
      "PATCHING CHAPTER: Stoicism\n",
      "PATCHING CHAPTER: Epicureanism\n",
      "PATCHING CHAPTER: Minimalism\n",
      "PATCHING CHAPTER: Hedonism\n",
      "PATCHING CHAPTER: Existentialism\n",
      "PATCHING CHAPTER: Nihilism\n",
      "PATCHING CHAPTER: Pragmatism\n",
      "PATCHING CHAPTER: Idealism\n"
     ]
    }
   ],
   "source": [
    "def patch_chapter_title(new_title, job_id):\n",
    "    url = f'{SP_BASE_URL}/long_form/{job_id}'\n",
    "    resp = requests.patch(url, json={'title': new_title}, auth=API_AUTH)\n",
    "    return resp.json()\n",
    "\n",
    "for (kb, _), chapter_job_id in zip(outlines, chapter_ids):\n",
    "    # extract philosophy in question from the KB title and make that the chapter title\n",
    "    philosophy = kb['title'].split(' ')[0].capitalize()\n",
    "    print(f'PATCHING CHAPTER: {philosophy}')\n",
    "    resp = patch_chapter_title(philosophy, chapter_job_id)\n"
   ]
  },
  {
   "cell_type": "markdown",
   "metadata": {},
   "source": [
    "##### Export each chapter into markdown format and read the contents"
   ]
  },
  {
   "cell_type": "code",
   "execution_count": 11,
   "metadata": {},
   "outputs": [],
   "source": [
    "# helper function to get the markdown of a job\n",
    "def get_job_markdown(job_id):\n",
    "    url = f'{SP_BASE_URL}/long_form/{job_id}/exports/text'\n",
    "    resp = requests.get(url, auth=API_AUTH)\n",
    "    download_url = resp.json()['download_url']\n",
    "    return requests.get(download_url).text\n",
    "\n",
    "chapter_markdown_contents = []\n",
    "for chapter_job_id in chapter_ids:\n",
    "    markdown = get_job_markdown(chapter_job_id)\n",
    "    chapter_markdown_contents.append(markdown)"
   ]
  },
  {
   "cell_type": "markdown",
   "metadata": {},
   "source": [
    "##### Create a new knowledge base for the all of the content generated up to this point"
   ]
  },
  {
   "cell_type": "code",
   "execution_count": 12,
   "metadata": {},
   "outputs": [
    {
     "name": "stdout",
     "output_type": "stream",
     "text": [
      "0/16 documents completed...\n",
      "0/16 documents completed...\n",
      "0/16 documents completed...\n",
      "7/16 documents completed...\n",
      "11/16 documents completed...\n",
      "16/16 documents completed...\n"
     ]
    }
   ],
   "source": [
    "book_content_kb = superpowered.create_knowledge_base(\n",
    "    title='Outlines and Chapters for \"Living a Good Life in the Age of AI and Automation\"',\n",
    ")\n",
    "\n",
    "# create documents from the text generated in the previous steps\n",
    "for (kb, outline), chapter_markdown in zip(outlines, chapter_markdown_contents):\n",
    "    # create a document for the outline\n",
    "    superpowered.create_document_via_text(\n",
    "        knowledge_base_id=book_content_kb['id'],\n",
    "        title=f'Chapter Outline for \"{kb[\"title\"]}\"',\n",
    "        content=outline,\n",
    "        auto_context=True,\n",
    "    )\n",
    "    # create a document for the chapter\n",
    "    superpowered.create_document_via_text(\n",
    "        knowledge_base_id=book_content_kb['id'],\n",
    "        title=f'Chapter Content for \"{kb[\"title\"]}\"',\n",
    "        content=chapter_markdown,\n",
    "        auto_context=True,\n",
    "    )\n",
    "\n",
    "\n",
    "# list documents in the knowledge base\n",
    "total_docs = len(superpowered.list_documents(book_content_kb['id']))\n",
    "completed_docs = 0\n",
    "while completed_docs < total_docs:\n",
    "    completed_docs = len(superpowered.list_documents(book_content_kb['id'], vectorization_status='COMPLETE'))\n",
    "    print(f'{completed_docs}/{total_docs} documents completed...')\n",
    "    time.sleep(5)"
   ]
  },
  {
   "cell_type": "markdown",
   "metadata": {},
   "source": [
    "##### Run a document review to generate an outline for the introduction and conclusion"
   ]
  },
  {
   "cell_type": "code",
   "execution_count": 13,
   "metadata": {},
   "outputs": [
    {
     "data": {
      "text/markdown": [
       "**Introduction to Living a Good Life in the Age of AI and Automation: A Philosophical Guide**\n",
       "\n",
       "**Section 1: The Quest for Balance in a Digital World**\n",
       "\n",
       "In an era where technology, particularly AI and automation, is rapidly reshaping the fabric of our lives, the ancient wisdom of Stoicism, Epicureanism, and Minimalism offers a beacon of light. These philosophies, with their emphasis on virtues, sustainable pleasure, and decluttering both physical and digital spaces, provide a framework for navigating the complexities of modern life. Imagine applying Stoic wisdom to maintain emotional resilience amidst the noise of social media, or embracing Epicurean simplicity in a world of endless digital consumption. Minimalism, with its call to intentional living, challenges us to declutter not just our homes, but our digital footprints as well. Together, these philosophies invite us to seek balance, encouraging a life that harmonizes technology with human well-being.\n",
       "\n",
       "**Section 2: Navigating Pleasure and Purpose in the Age of Automation**\n",
       "\n",
       "As AI and automation expand the boundaries of what's possible, they also prompt us to reconsider the nature of pleasure and purpose. Hedonism, with its pursuit of pleasure, and Nihilism, with its challenge to find personal meaning in a seemingly indifferent universe, offer contrasting yet complementary perspectives. Hedonism, in the context of AI, prompts us to explore new forms of pleasure, from immersive virtual realities to the ethical implications of maximizing societal happiness. Nihilism, on the other hand, empowers us to forge our own paths of significance, creating personal values and meanings in a world where traditional benchmarks are constantly evolving. These philosophies encourage us to reflect on what truly matters, guiding us in the pursuit of a fulfilling life amidst technological change.\n",
       "\n",
       "**Section 3: Ethical and Practical Wisdom for the Future**\n",
       "\n",
       "Pragmatism and Idealism, each in their own way, address the ethical and practical challenges posed by AI and automation. Pragmatism, with its focus on practical outcomes and adaptability, urges us to consider the broader impacts of technological advancements on society, advocating for ethical decision-making and meaningful online interactions. Idealism, by questioning the nature of reality in the age of AI, invites us to ponder the philosophical implications of consciousness and identity. These perspectives encourage us to think critically about the development and use of technology, ensuring that it serves to enhance rather than diminish the collective well-being.\n",
       "\n",
       "**Section 4: Embracing Change with Authenticity and Creativity**\n",
       "\n",
       "Existentialism and the evolving landscape of Minimalism challenge us to live authentically and creatively in a world transformed by AI and automation. Existentialism, emphasizing freedom and self-creation, calls us to actively construct personal meaning in an era of profound change. Meanwhile, Minimalism's principles of simplicity and intentionality guide us in making choices that prioritize humanity, enabling a life that is both intentional and meaningful. Together, these philosophies inspire us to embrace the beauty and chaos of the digital age with open arms, fostering resilience, joy, and a deep sense of purpose.\n",
       "\n",
       "**Engaging with the Philosophies of a Good Life**\n",
       "\n",
       "As we journey through the age of AI and automation, the wisdom of these philosophical schools offers invaluable insights for living a good life. By weaving together their teachings, we can navigate the challenges and opportunities of the modern world with confidence, resilience, and a deep commitment to ethical and fulfilling living. This book invites readers to explore these philosophies not as abstract theories, but as practical guides for thriving in an ever-changing landscape, ensuring that technology enhances, rather than detracts from, the human experience."
      ],
      "text/plain": [
       "<IPython.core.display.Markdown object>"
      ]
     },
     "metadata": {},
     "output_type": "display_data"
    },
    {
     "name": "stderr",
     "output_type": "stream",
     "text": [
      "Active Reading Progress for Outlines and Chapters for \"Living a Good Life in the Age of AI and Automation\": 100%|██████████| 1/1 [02:09<00:00, 129.89s/it]      \n"
     ]
    },
    {
     "data": {
      "text/markdown": [
       "**Embracing Philosophy in the Digital Age: A Guide to Living Well with AI and Automation**\n",
       "\n",
       "**Introduction to Philosophical Living Amidst Technological Change**\n",
       "The age of AI and automation brings with it not just technological advancements but profound questions about the nature of a good life. As we navigate this new landscape, ancient and modern philosophies offer valuable insights into living well amidst rapid change. From Stoicism's call for virtue and resilience to Hedonism's pursuit of pleasure, each philosophy provides a unique lens through which to view our digital existence.\n",
       "\n",
       "**Finding Balance and Meaning in a High-Tech World**\n",
       "- **Stoicism and Minimalism: The Art of Control and Simplicity**\n",
       "  Stoicism teaches us the importance of focusing on what we can control and letting go of what we cannot, a principle that becomes increasingly relevant in an era where technology often feels out of our grasp. Similarly, Minimalism encourages us to declutter our digital and physical lives, advocating for a more intentional and focused engagement with technology. Together, these philosophies guide us toward a balanced and meaningful existence, emphasizing quality over quantity in our interactions with the digital world.\n",
       "\n",
       "- **Hedonism and Epicureanism: Navigating Pleasure and Purpose**\n",
       "  In the digital age, Hedonism and Epicureanism offer perspectives on finding joy and satisfaction. Hedonism reminds us of the potential for technology to enhance pleasure, from immersive virtual realities to the simple joys of a well-curated playlist. Epicureanism, on the other hand, warns against the empty calories of digital indulgence, advocating for a life of meaningful pleasures and deep connections, both online and off. These philosophies encourage us to seek a harmonious relationship with technology, one that enhances rather than detracts from our well-being.\n",
       "\n",
       "- **Existentialism and Nihilism: Crafting Personal Meaning**\n",
       "  Existentialism and Nihilism challenge us to find personal meaning in a world where traditional markers of identity and achievement are rapidly evolving. In the face of AI's impact on work and society, these philosophies empower us to create our own values and definitions of success. They invite us to embrace the freedom and responsibility that come with technological advancements, encouraging us to forge paths of significance that are uniquely our own.\n",
       "\n",
       "- **Pragmatism and Idealism: Shaping the Future Together**\n",
       "  Pragmatism and Idealism provide frameworks for engaging with technology in ways that promote human welfare and ethical progress. Pragmatism focuses on practical outcomes and adaptability, urging us to consider the consequences of AI and automation on society. Idealism, meanwhile, challenges us to envision a future where technology uplifts the human spirit, fostering innovation and creativity. Together, these philosophies inspire us to shape a world where technology serves the greater good.\n",
       "\n",
       "**Conclusion: A Tapestry of Philosophical Wisdom for the Digital Age**\n",
       "As we stand at the crossroads of human history and technological evolution, the wisdom of Stoicism, Epicureanism, Minimalism, Hedonism, Existentialism, Nihilism, Pragmatism, and Idealism lights the way. Each philosophy, with its unique insights and principles, offers valuable guidance for navigating the complexities of life in the age of AI and automation. By weaving these philosophical threads into the fabric of our daily lives, we can craft a future that is not only technologically advanced but also deeply human. Let us embrace this journey with open minds and hearts, ready to explore the vast potential of living well in the digital age."
      ],
      "text/plain": [
       "<IPython.core.display.Markdown object>"
      ]
     },
     "metadata": {},
     "output_type": "display_data"
    },
    {
     "name": "stderr",
     "output_type": "stream",
     "text": [
      "Active Reading Progress for Outlines and Chapters for \"Living a Good Life in the Age of AI and Automation\": 100%|██████████| 1/1 [01:50<00:00, 110.21s/it]      \n"
     ]
    }
   ],
   "source": [
    "active_reading_instructions = f\"\"\"\\\n",
    "You are reading through a knowledge base that contains the contents for a book about living a good life in the age of AI and automation.\n",
    "\n",
    "Each chapter in the book tackles this question from the perspective of a different philosophical school of thought.\n",
    "\n",
    "Here are the chapters of the book: {', '.join([f'- {kb[\"title\"]}' for kb, _ in outlines])}\n",
    "\n",
    "Please extract information that is relevant to living a good life in the age of AI and automation. The information that is extracted will be used to write a summary for the book.\n",
    "\"\"\"\n",
    "\n",
    "introduction_final_review_instructions = f\"\"\"\\\n",
    "Your task is to write an outline for an introduction that introduces the book and the general theme of the book. The introduction should be engaging and set the stage for the rest of the book.\n",
    "\n",
    "Break your introduction into 3-5 sections. Each section should encompass themes from all the chapters in the book rather than focus on a single chapter.\n",
    "\n",
    "{BOOK_OVERALL_STYLE_GUIDANCE}\n",
    "\"\"\"\n",
    "\n",
    "\n",
    "conclusion_final_review_instructions = f\"\"\"\\\n",
    "Your task is to write an outline for a conclusion that summarizes the book and the general theme of the book. The conclusion should be engaging and leave the reader with a sense of closure.\n",
    "\n",
    "Break your conclusion into 3-5 sections. Each section should encompass themes from all the chapters in the book rather than focus on a single chapter.\n",
    "\n",
    "{BOOK_OVERALL_STYLE_GUIDANCE}\n",
    "\"\"\"\n",
    "\n",
    "\n",
    "# run the document reviews\n",
    "introduction_outline = run_and_display_review(book_content_kb, active_reading_instructions, introduction_final_review_instructions)\n",
    "conclusion_outline = run_and_display_review(book_content_kb, active_reading_instructions, conclusion_final_review_instructions)"
   ]
  },
  {
   "cell_type": "markdown",
   "metadata": {},
   "source": [
    "##### Generate actual introduction and conclusion chapters with long-form"
   ]
  },
  {
   "cell_type": "code",
   "execution_count": 14,
   "metadata": {},
   "outputs": [],
   "source": [
    "introduction_job_id = submit_long_form_job(book_content_kb, introduction_outline)\n",
    "conclusion_job_id = submit_long_form_job(book_content_kb, conclusion_outline)"
   ]
  },
  {
   "cell_type": "markdown",
   "metadata": {},
   "source": [
    "##### Edit titles, export to markdown"
   ]
  },
  {
   "cell_type": "code",
   "execution_count": 15,
   "metadata": {},
   "outputs": [],
   "source": [
    "patch_chapter_title('Introduction', introduction_job_id)\n",
    "patch_chapter_title('Conclusion', conclusion_job_id)\n",
    "introduction_markdown = get_job_markdown(introduction_job_id)\n",
    "conclusion_markdown = get_job_markdown(conclusion_job_id)"
   ]
  },
  {
   "cell_type": "markdown",
   "metadata": {},
   "source": [
    "##### Write each markdown file to our book folder and prepend some chapter info"
   ]
  },
  {
   "cell_type": "code",
   "execution_count": 16,
   "metadata": {},
   "outputs": [],
   "source": [
    "full_book_contents = [introduction_markdown] + chapter_markdown_contents + [conclusion_markdown]\n",
    "\n",
    "fnames = []\n",
    "for i, chapter_markdown in enumerate(full_book_contents):\n",
    "    fname = f'{BOOK_DIRECTORY}/chapter_{i}.md'\n",
    "    with open(fname, 'w') as f:\n",
    "        f.write(chapter_markdown)\n",
    "    fnames.append(fname)"
   ]
  },
  {
   "cell_type": "markdown",
   "metadata": {},
   "source": [
    "##### Use pandoc to create the book"
   ]
  },
  {
   "cell_type": "code",
   "execution_count": 17,
   "metadata": {},
   "outputs": [
    {
     "name": "stdout",
     "output_type": "stream",
     "text": [
      "EPUB successfully created: living_a_good_life/living_a_good_life.epub\n"
     ]
    }
   ],
   "source": [
    "import subprocess\n",
    "\n",
    "def generate_epub(output_filename, image_filename):\n",
    "    # Command parts that are static\n",
    "    command = [\n",
    "        'pandoc',\n",
    "        '-o', output_filename,\n",
    "        '--toc',\n",
    "        '--epub-cover-image', image_filename,\n",
    "        '--metadata', f'title={BOOK_TITLE}',\n",
    "        '--metadata', f'toc-title={BOOK_TITLE}',\n",
    "        '--metadata', 'rights=Copyright © 2024 by Superpowered AI. All rights reserved.',\n",
    "        '--metadata', 'author=Superpowered AI',\n",
    "    ]\n",
    "\n",
    "    # Combine the static parts of the command with the filenames\n",
    "    command.extend(fnames)\n",
    "\n",
    "    # Execute the command\n",
    "    try:\n",
    "        subprocess.run(command, check=True)\n",
    "        print(f\"EPUB successfully created: {output_filename}\")\n",
    "    except subprocess.CalledProcessError as e:\n",
    "        print(f\"Error during EPUB creation: {e}\")\n",
    "\n",
    "\n",
    "generate_epub(f'{BOOK_DIRECTORY}/living_a_good_life.epub', f'{BOOK_DIRECTORY}/living_a_good_life_ai.png')"
   ]
  }
 ],
 "metadata": {
  "kernelspec": {
   "display_name": "Python 3",
   "language": "python",
   "name": "python3"
  },
  "language_info": {
   "codemirror_mode": {
    "name": "ipython",
    "version": 3
   },
   "file_extension": ".py",
   "mimetype": "text/x-python",
   "name": "python",
   "nbconvert_exporter": "python",
   "pygments_lexer": "ipython3",
   "version": "3.9.6"
  }
 },
 "nbformat": 4,
 "nbformat_minor": 2
}
