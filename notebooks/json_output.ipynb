{
 "cells": [
  {
   "cell_type": "code",
   "execution_count": 2,
   "metadata": {},
   "outputs": [],
   "source": [
    "# initialize variables\n",
    "import superpowered\n",
    "import json\n",
    "\n",
    "SP_API_KEY_ID = ''\n",
    "SP_API_KEY_SECRET = ''\n",
    "superpowered.set_api_key(SP_API_KEY_ID, SP_API_KEY_SECRET)\n"
   ]
  },
  {
   "cell_type": "code",
   "execution_count": 10,
   "metadata": {},
   "outputs": [],
   "source": [
    "thread = superpowered.create_chat_thread(\n",
    "    use_web_search=True,\n",
    "    model='gpt-3.5-turbo',\n",
    "    system_message='Please respond in json format where the top level key is `solutions` and the value is a list of objects with the keys `solution` and `confidence`.',\n",
    "    json_response=True\n",
    ")"
   ]
  },
  {
   "cell_type": "code",
   "execution_count": 11,
   "metadata": {},
   "outputs": [],
   "source": [
    "response = superpowered.get_chat_response(\n",
    "    thread_id=thread['id'],\n",
    "    input='I want to know how to turn a desert into a rainforest. Please list off possible solutions.',\n",
    ")\n",
    "\n"
   ]
  },
  {
   "cell_type": "code",
   "execution_count": 12,
   "metadata": {},
   "outputs": [
    {
     "name": "stdout",
     "output_type": "stream",
     "text": [
      "{'solutions': [{'confidence': 'High',\n",
      "                'solution': 'Implement ecosystem restoration techniques like '\n",
      "                            'planting trees, terracing slopes, adding organic '\n",
      "                            'material to the soil, controlling grazing '\n",
      "                            'animals, and retaining water.'},\n",
      "               {'confidence': 'High',\n",
      "                'solution': 'Utilize eco machines to create mini ecosystems '\n",
      "                            'that can produce fresh water and support plant '\n",
      "                            'growth.'},\n",
      "               {'confidence': 'Medium',\n",
      "                'solution': 'Consider using seawater and sunlight to create '\n",
      "                            'oases in deserts, as demonstrated in pilot '\n",
      "                            'projects.'},\n",
      "               {'confidence': 'Medium',\n",
      "                'solution': 'Explore the use of rock walls, like gabions, to '\n",
      "                            'slow down flood waters, encourage silt build-up, '\n",
      "                            'and promote natural regeneration.'}]}\n"
     ]
    }
   ],
   "source": [
    "from pprint import pprint\n",
    "\n",
    "json_resp = json.loads(response['interaction']['model_response']['content'])\n",
    "\n",
    "pprint(json_resp)"
   ]
  }
 ],
 "metadata": {
  "kernelspec": {
   "display_name": "Python 3",
   "language": "python",
   "name": "python3"
  },
  "language_info": {
   "codemirror_mode": {
    "name": "ipython",
    "version": 3
   },
   "file_extension": ".py",
   "mimetype": "text/x-python",
   "name": "python",
   "nbconvert_exporter": "python",
   "pygments_lexer": "ipython3",
   "version": "3.9.6"
  }
 },
 "nbformat": 4,
 "nbformat_minor": 2
}
