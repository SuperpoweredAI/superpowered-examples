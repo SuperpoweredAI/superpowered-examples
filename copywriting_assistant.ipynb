{
 "cells": [
  {
   "attachments": {},
   "cell_type": "markdown",
   "metadata": {},
   "source": [
    "## Introduction\n",
    "\n",
    "Copywriting AI assistants like Jasper and CopyAI are great, but they're missing one key ingredient: knowledge of your specific business. Let's fix that.\n",
    "\n",
    "In this tutorial we're going to show you how to build a simple copywriting assistant that can leverage information about your business in order to write highly relevant blog posts.\n",
    "\n",
    "## Prerequisites\n",
    "\n",
    "Before we start, ensure you have the following:\n",
    "\n",
    "1. A Superpowered AI account with API keys (Sign up [here](https://superpowered.ai) for free access).\n",
    "2. The Superpowered AI Python SDK installed. You can install it using pip if you don't have it already: `pip install superpowered-sdk`\n",
    "3. An OpenAI account with an API key created, and the openai Python SDK\n",
    "\n",
    "## Step-by-Step Tutorial\n",
    "\n",
    "### Step 1: Set up the environment\n",
    "\n",
    "First, we will set up the environment by importing the required libraries and initializing the Superpowered AI SDK with our API keys."
   ]
  },
  {
   "cell_type": "code",
   "execution_count": 6,
   "metadata": {},
   "outputs": [],
   "source": [
    "from superpowered import create_knowledge_base, query, add_url_to_kb, add_file_to_kb\n",
    "import openai\n",
    "import os"
   ]
  },
  {
   "cell_type": "code",
   "execution_count": null,
   "metadata": {},
   "outputs": [],
   "source": [
    "# set API keys\n",
    "os.environ[\"SUPERPOWERED_API_KEY_ID\"] = \"YOUR_API_KEY_ID\"\n",
    "os.environ[\"SUPERPOWERED_API_KEY_SECRET\"] = \"YOUR_API_KEY_SECRET\"\n",
    "os.environ[\"OPENAI_API_KEY\"] = \"YOUR_API_KEY\""
   ]
  },
  {
   "attachments": {},
   "cell_type": "markdown",
   "metadata": {},
   "source": [
    "Replace `\"YOUR_API_KEY_ID\"` and `\"YOUR_API_KEY_SECRET\"` with your actual API keys.\n",
    "\n",
    "### Step 2: Create a Knowledge Base"
   ]
  },
  {
   "cell_type": "code",
   "execution_count": 5,
   "metadata": {},
   "outputs": [
    {
     "data": {
      "text/plain": [
       "<superpowered.knowledge_base.KnowledgeBase at 0x7faa192b7250>"
      ]
     },
     "execution_count": 5,
     "metadata": {},
     "output_type": "execute_result"
    }
   ],
   "source": [
    "# create knowledge base and upload some files\n",
    "create_knowledge_base(title=\"Superpowered Documentation\")"
   ]
  },
  {
   "attachments": {},
   "cell_type": "markdown",
   "metadata": {},
   "source": [
    "Alright now we need to upload all the content we want in our Knowledge Base. I'm going to go ahead and copy and paste everything from our Notion docs into a txt file, and then upload that."
   ]
  },
  {
   "cell_type": "code",
   "execution_count": 8,
   "metadata": {},
   "outputs": [],
   "source": [
    "file_path = \"/Users/zach/Code/superpowered_notion_docs.txt\"\n",
    "add_file_to_kb(kb_title=\"Superpowered Documentation\", file_path=file_path)"
   ]
  },
  {
   "attachments": {},
   "cell_type": "markdown",
   "metadata": {},
   "source": [
    "And then I'm going to find a few relevant articles about complementary and competitive products that may be helpful for the AI to know about. "
   ]
  },
  {
   "cell_type": "code",
   "execution_count": 9,
   "metadata": {},
   "outputs": [],
   "source": [
    "add_url_to_kb(kb_title=\"Superpowered Documentation\", url=\"https://towardsdatascience.com/milvus-pinecone-vespa-weaviate-vald-gsi-what-unites-these-buzz-words-and-what-makes-each-9c65a3bd0696\")"
   ]
  },
  {
   "attachments": {},
   "cell_type": "markdown",
   "metadata": {},
   "source": [
    "### Step 3: Create our Copywriting Assistant using GPT-3\n",
    "\n",
    "Now that we have our Knowledge Base looking good, we can start building the copywriting assistant. We'll start by defining the prompt template. "
   ]
  },
  {
   "cell_type": "code",
   "execution_count": 18,
   "metadata": {},
   "outputs": [],
   "source": [
    "template = \"\"\"\n",
    "You are an AI writing assistant. You have been given the task of writing a blog post with the following premise:\n",
    "{premise}\n",
    "\n",
    "And here is some information from the company's knowledge base that you may find relevant to the task at hand:\n",
    "{relevant_info}\n",
    "\"\"\".strip()"
   ]
  },
  {
   "attachments": {},
   "cell_type": "markdown",
   "metadata": {},
   "source": [
    "Now we can define our variables and make a GPT-3 call to actually write the blog post! Before making the GPT-3 API call, we'll first make an API call to our Superpowered AI Knowledge Base to retrieve information relevant to the premise of the blog post. We can use either the raw results, or the LLM-generated summary. The raw results can look a little messy, but they usually perform better than just using the summary, since there's no information loss."
   ]
  },
  {
   "cell_type": "code",
   "execution_count": null,
   "metadata": {},
   "outputs": [],
   "source": [
    "premise = \"Write a blog post about all the possible use cases of Superpowered AI. You don't have to go into much detail about each one. Write in a passionate and excited voice.\"\n",
    "\n",
    "# query top 10 results from the knowledge base we just created\n",
    "kb_query_results = query(kb_titles=[\"Superpowered Documentation\"], query=premise, reranker_top_k=10, extract_and_summarize=True)\n",
    "\n",
    "# print the results\n",
    "#relevant_info = kb_query_results[\"summary\"] # if you just want to use the summary\n",
    "relevant_info = \"\\n\\n\".join([kb_query_results[\"ranked_results\"][i][\"content\"] for i in range(len(kb_query_results[\"ranked_results\"]))]) # use raw results\n",
    "print (relevant_info)"
   ]
  },
  {
   "attachments": {},
   "cell_type": "markdown",
   "metadata": {},
   "source": [
    "Now we format our prompt with the premise and the relevant info we retrieved from our Knowledge Base."
   ]
  },
  {
   "cell_type": "code",
   "execution_count": null,
   "metadata": {},
   "outputs": [],
   "source": [
    "prompt = template.format(premise=premise, relevant_info=relevant_info)\n",
    "print (prompt)"
   ]
  },
  {
   "attachments": {},
   "cell_type": "markdown",
   "metadata": {},
   "source": [
    "And now we actually make the OpenAI API call. We'll use GPT-3.5-Turbo since it provides a great combination of speed and performance, but you could also use GPT-4 if you want higher quality."
   ]
  },
  {
   "cell_type": "code",
   "execution_count": 26,
   "metadata": {},
   "outputs": [
    {
     "name": "stdout",
     "output_type": "stream",
     "text": [
      "Superpowered AI is a game-changer in the world of artificial intelligence. It offers a Knowledge Base as a Service (KBaaS) that allows developers to upload files and query them without having to deal with the messy stuff in the middle. But what are the possible use cases of Superpowered AI? Let's explore some of the exciting possibilities.\n",
      "\n",
      "One use case of Superpowered AI is a virtual employee Slack bot. You can upload company documents like internal knowledge bases, employee handbooks, and build a Slack bot that your employees can talk to whenever they have questions about internal policies and best practices. This can save time and increase efficiency in the workplace.\n",
      "\n",
      "Another exciting possibility is a copywriting assistant. Superpowered AI can help you generate high-quality content by using a multi-stage retrieval pipeline that involves a dense vector search. This can improve your content creation process and save you time and effort.\n",
      "\n",
      "Superpowered AI can also be used in search engines. Its multi-stage retrieval pipeline can search seamlessly across different objects and keywords, providing better search results. This can be especially useful in e-commerce spaces where long-tail zero hits are common.\n",
      "\n",
      "Superpowered AI can also be used in natural language processing (NLP) applications. Its KBaaS can provide access to external knowledge sources and overcome the limitations of language models by integrating additional functionality into them. This can improve the accuracy and reliability of NLP applications.\n",
      "\n",
      "These are just a few of the exciting possibilities of Superpowered AI. With its KBaaS and multi-stage retrieval pipeline, it offers a powerful tool for developers to improve their applications and save time and effort. If you're interested in trying it out, Superpowered AI is currently offering free access for a limited time. So why not give it a try and see what you can build?\n"
     ]
    }
   ],
   "source": [
    "openai.api_key = os.getenv(\"OPENAI_API_KEY\")\n",
    "user_input_message = {\"role\": \"user\", \"content\": prompt}\n",
    "messages = [user_input_message]\n",
    "response = openai.ChatCompletion.create(\n",
    "    model=\"gpt-3.5-turbo\",\n",
    "    messages=messages,\n",
    "    max_tokens=1500,\n",
    "    temperature=0.7,\n",
    "    request_timeout=120,\n",
    ")\n",
    "llm_output = response['choices'][0]['message']['content'].strip()\n",
    "\n",
    "print (llm_output)"
   ]
  },
  {
   "attachments": {},
   "cell_type": "markdown",
   "metadata": {},
   "source": [
    "Not bad. If you actually want to build a copywriting assistant that competes with Jasper and CopyAI, you'll need to build something quite a bit more sophisticated than this. But the basic idea of inserting the retrieved results from the Superpowered AI Knowledge Base into the prompt will remain the same."
   ]
  }
 ],
 "metadata": {
  "kernelspec": {
   "display_name": "base",
   "language": "python",
   "name": "python3"
  },
  "language_info": {
   "codemirror_mode": {
    "name": "ipython",
    "version": 3
   },
   "file_extension": ".py",
   "mimetype": "text/x-python",
   "name": "python",
   "nbconvert_exporter": "python",
   "pygments_lexer": "ipython3",
   "version": "3.9.13"
  },
  "orig_nbformat": 4,
  "vscode": {
   "interpreter": {
    "hash": "44d0561a9d33f22b2e67e0485c48036e39d1c698628b030a9859974b559ff507"
   }
  }
 },
 "nbformat": 4,
 "nbformat_minor": 2
}
