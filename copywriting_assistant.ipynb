{
 "cells": [
  {
   "attachments": {},
   "cell_type": "markdown",
   "metadata": {},
   "source": [
    "## Introduction\n",
    "\n",
    "Copywriting AI assistants like Jasper and CopyAI are great, but they're missing one key ingredient: knowledge of your specific business. Let's fix that.\n",
    "\n",
    "In this tutorial we're going to show you how to build a simple copywriting assistant that can leverage information about your business in order to write highly relevant blog posts.\n",
    "\n",
    "## Prerequisites\n",
    "\n",
    "Before we start, ensure you have the following:\n",
    "\n",
    "1. A Superpowered AI account with API keys (Sign up [here](https://superpowered.ai) for free access).\n",
    "2. The Superpowered AI Python SDK installed. You can install it using pip if you don't have it already: `pip install superpowered-sdk`\n",
    "3. An OpenAI account with an API key created, and the openai Python SDK\n",
    "\n",
    "## Step-by-Step Tutorial\n",
    "\n",
    "### Step 1: Set up the environment\n",
    "\n",
    "First, we will set up the environment by importing the required libraries and initializing the Superpowered AI SDK with our API keys."
   ]
  },
  {
   "cell_type": "code",
   "execution_count": 1,
   "metadata": {},
   "outputs": [],
   "source": [
    "from superpowered import create_knowledge_base, query_knowledge_bases, create_document_via_url, create_document_via_file\n",
    "import openai\n",
    "import os"
   ]
  },
  {
   "cell_type": "code",
   "execution_count": null,
   "metadata": {},
   "outputs": [],
   "source": [
    "# set API keys\n",
    "os.environ[\"SUPERPOWERED_API_KEY_ID\"] = \"YOUR_API_KEY_ID\"\n",
    "os.environ[\"SUPERPOWERED_API_KEY_SECRET\"] = \"YOUR_API_KEY_SECRET\"\n",
    "os.environ[\"OPENAI_API_KEY\"] = \"YOUR_API_KEY\""
   ]
  },
  {
   "attachments": {},
   "cell_type": "markdown",
   "metadata": {},
   "source": [
    "Replace `\"YOUR_API_KEY_ID\"` and `\"YOUR_API_KEY_SECRET\"` with your actual API keys.\n",
    "\n",
    "### Step 2: Create a Knowledge Base"
   ]
  },
  {
   "cell_type": "code",
   "execution_count": 5,
   "metadata": {},
   "outputs": [],
   "source": [
    "# create knowledge base and upload some files\n",
    "kb = create_knowledge_base(title=\"Superpowered Documentation\")\n",
    "knowledge_base_id = kb[\"id\"]"
   ]
  },
  {
   "attachments": {},
   "cell_type": "markdown",
   "metadata": {},
   "source": [
    "Alright now we need to upload all the content we want in our Knowledge Base. I'm going to go ahead and copy and paste everything from our Notion docs into a txt file, and then upload that."
   ]
  },
  {
   "cell_type": "code",
   "execution_count": 6,
   "metadata": {},
   "outputs": [
    {
     "data": {
      "text/plain": [
       "{'message': 'Successfully uploaded file. Vectorization process will begin shortly.'}"
      ]
     },
     "execution_count": 6,
     "metadata": {},
     "output_type": "execute_result"
    }
   ],
   "source": [
    "file_path = \"/Users/zach/Code/superpowered_notion_docs.txt\"\n",
    "create_document_via_file(knowledge_base_id=knowledge_base_id, file_path=file_path)"
   ]
  },
  {
   "attachments": {},
   "cell_type": "markdown",
   "metadata": {},
   "source": [
    "And then I'm going to find a few relevant articles about complementary and competitive products that may be helpful for the AI to know about. "
   ]
  },
  {
   "cell_type": "code",
   "execution_count": 7,
   "metadata": {},
   "outputs": [
    {
     "data": {
      "text/plain": [
       "{'message': 'Url submitted for scraping. Please use the GET /knowledge_bases/{kb_id}/documents to check the status of the document.'}"
      ]
     },
     "execution_count": 7,
     "metadata": {},
     "output_type": "execute_result"
    }
   ],
   "source": [
    "create_document_via_url(knowledge_base_id=knowledge_base_id, url=\"https://towardsdatascience.com/milvus-pinecone-vespa-weaviate-vald-gsi-what-unites-these-buzz-words-and-what-makes-each-9c65a3bd0696\")"
   ]
  },
  {
   "attachments": {},
   "cell_type": "markdown",
   "metadata": {},
   "source": [
    "### Step 3: Create our Copywriting Assistant using GPT-3\n",
    "\n",
    "Now that we have our Knowledge Base looking good, we can start building the copywriting assistant. We'll start by defining the prompt template. "
   ]
  },
  {
   "cell_type": "code",
   "execution_count": 8,
   "metadata": {},
   "outputs": [],
   "source": [
    "template = \"\"\"\n",
    "You are an AI writing assistant. You have been given the task of writing a blog post with the following premise:\n",
    "{premise}\n",
    "\n",
    "And here is some information from the company's knowledge base that you may find relevant to the task at hand:\n",
    "{relevant_info}\n",
    "\"\"\".strip()"
   ]
  },
  {
   "attachments": {},
   "cell_type": "markdown",
   "metadata": {},
   "source": [
    "Now we can define our variables and make a GPT-3 call to actually write the blog post! Before making the GPT-3 API call, we'll first make an API call to our Superpowered AI Knowledge Base to retrieve information relevant to the premise of the blog post. We can use either the raw results, or the LLM-generated summary. The raw results can look a little messy, but they usually perform better than just using the summary, since there's no information loss."
   ]
  },
  {
   "cell_type": "code",
   "execution_count": null,
   "metadata": {},
   "outputs": [],
   "source": [
    "premise = \"Write a blog post about all the possible use cases of Superpowered AI. You don't have to go into much detail about each one. Write in a passionate and excited voice.\"\n",
    "\n",
    "# query top 10 results from the knowledge base we just created\n",
    "kb_query_results = query_knowledge_bases(knowledge_base_ids=[knowledge_base_id], query=premise, top_k=10, summarize_results=True)\n",
    "\n",
    "# print the results\n",
    "#relevant_info = kb_query_results[\"summary\"] # if you just want to use the summary\n",
    "relevant_info = \"\\n\\n\".join([kb_query_results[\"ranked_results\"][i][\"content\"] for i in range(len(kb_query_results[\"ranked_results\"]))]) # use raw results\n",
    "print (relevant_info)"
   ]
  },
  {
   "attachments": {},
   "cell_type": "markdown",
   "metadata": {},
   "source": [
    "Now we format our prompt with the premise and the relevant info we retrieved from our Knowledge Base."
   ]
  },
  {
   "cell_type": "code",
   "execution_count": null,
   "metadata": {},
   "outputs": [],
   "source": [
    "prompt = template.format(premise=premise, relevant_info=relevant_info)\n",
    "print (prompt)"
   ]
  },
  {
   "attachments": {},
   "cell_type": "markdown",
   "metadata": {},
   "source": [
    "And now we actually make the OpenAI API call. We'll use GPT-3.5-Turbo since it provides a great combination of speed and performance, but you could also use GPT-4 if you want higher quality."
   ]
  },
  {
   "cell_type": "code",
   "execution_count": 11,
   "metadata": {},
   "outputs": [
    {
     "name": "stdout",
     "output_type": "stream",
     "text": [
      "Are you ready to unleash the full potential of AI? Look no further than Superpowered AI! With its Knowledge Base as a Service (KBaaS), this managed solution is your ticket to improved query performance and user experience. The possibilities are endless with Superpowered AI, from autonomous agent web browsing to dense vector search. And the best part? You don't have to be an expert in AI technology to use it. \n",
      "\n",
      "Creating and querying from Knowledge Bases has never been easier thanks to Superpowered AI's Playground, API, and Python SDK. And for a limited time, Superpowered AI is offering free access to its services. \n",
      "\n",
      "So why wait? Join the AI revolution with Superpowered AI and take your projects to the next level. The future is here, and it's Superpowered!\n"
     ]
    }
   ],
   "source": [
    "openai.api_key = os.getenv(\"OPENAI_API_KEY\")\n",
    "user_input_message = {\"role\": \"user\", \"content\": prompt}\n",
    "messages = [user_input_message]\n",
    "response = openai.ChatCompletion.create(\n",
    "    model=\"gpt-3.5-turbo\",\n",
    "    messages=messages,\n",
    "    max_tokens=1500,\n",
    "    temperature=0.7,\n",
    "    request_timeout=120,\n",
    ")\n",
    "llm_output = response['choices'][0]['message']['content'].strip()\n",
    "\n",
    "print (llm_output)"
   ]
  },
  {
   "attachments": {},
   "cell_type": "markdown",
   "metadata": {},
   "source": [
    "Not bad. If you actually want to build a copywriting assistant that competes with Jasper and CopyAI, you'll need to build something quite a bit more sophisticated than this. But the basic idea of inserting the retrieved results from the Superpowered AI Knowledge Base into the prompt will remain the same."
   ]
  }
 ],
 "metadata": {
  "kernelspec": {
   "display_name": "base",
   "language": "python",
   "name": "python3"
  },
  "language_info": {
   "codemirror_mode": {
    "name": "ipython",
    "version": 3
   },
   "file_extension": ".py",
   "mimetype": "text/x-python",
   "name": "python",
   "nbconvert_exporter": "python",
   "pygments_lexer": "ipython3",
   "version": "3.9.13 (main, Aug 25 2022, 18:29:29) \n[Clang 12.0.0 ]"
  },
  "orig_nbformat": 4,
  "vscode": {
   "interpreter": {
    "hash": "44d0561a9d33f22b2e67e0485c48036e39d1c698628b030a9859974b559ff507"
   }
  }
 },
 "nbformat": 4,
 "nbformat_minor": 2
}
