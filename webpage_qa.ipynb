{
 "cells": [
  {
   "cell_type": "code",
   "execution_count": 10,
   "metadata": {},
   "outputs": [],
   "source": [
    "from superpowered import real_time_query, init\n",
    "from bs4 import BeautifulSoup\n",
    "import os\n",
    "import requests"
   ]
  },
  {
   "cell_type": "code",
   "execution_count": null,
   "metadata": {},
   "outputs": [],
   "source": [
    "# set API keys\n",
    "os.environ[\"SUPERPOWERED_API_KEY_ID\"] = \"YOUR_API_KEY_ID\"\n",
    "os.environ[\"SUPERPOWERED_API_KEY_SECRET\"] = \"YOUR_API_KEY_SECRET\""
   ]
  },
  {
   "cell_type": "code",
   "execution_count": null,
   "metadata": {},
   "outputs": [],
   "source": [
    "url = \"https://en.wikipedia.org/wiki/Mont_Blanc\"\n",
    "\n",
    "# scrape the URL\n",
    "response = requests.get(url)\n",
    "soup = BeautifulSoup(response.content, \"html.parser\")\n",
    "body = soup.find('body')\n",
    "content = body.text\n",
    "\n",
    "print (content)"
   ]
  },
  {
   "cell_type": "code",
   "execution_count": 16,
   "metadata": {},
   "outputs": [
    {
     "name": "stdout",
     "output_type": "stream",
     "text": [
      "Mont Blanc [2][3] is the highest mountain in the Alps and Western Europe, standing at 4,807.81 meters (15,774 feet) above sea level. It is located on the French-Italian border and is part of the Graian Alps range. Mont Blanc is the second-most prominent mountain in Europe, after Mount Elbrus, but the latter is considered part of the Eurasian land mass, which culminates at Mount Everest. The first ascent of Mont Blanc was made on August 8, 1786, by Jacques Balmat and Michel-Gabriel Paccard.\n",
      "\n",
      "[{'content': 'fileSpecial pagesPermanent linkPage informationCite this pageWikidata item\\n\\n\\n\\n\\n\\t\\tPrint/export\\n\\t\\n\\nDownload as PDFPrintable version\\n\\n\\n\\n\\n\\t\\tIn other projects\\n\\t\\n\\nWikimedia CommonsWikivoyage\\n\\n\\n\\n\\n\\n\\n\\n\\n\\n\\n\\n\\n\\n\\n\\n\\n\\n\\n\\n\\nFrom Wikipedia, the free encyclopedia\\n\\n\\nHighest mountain in the Alps (4,808 m)\\nThis article is about the mountain. For other uses, see Mont Blanc (disambiguation).\\n\\n\\nMont BlancSummit of Mont Blanc and the Bosses ridgeHighest\\xa0pointElevation4,807.81[1]\\xa0m (15,773.7\\xa0ft)Prominence4696\\xa0m ↓\\xa0by Lake KubenskoyeRanked 11thParent peakMount Everest[note', 'score': 7.579387664794922}, {'content': 'BlancMont Blanc (Italy)Show map of ItalyMont BlancMont Blanc (Europe)Show map of Europe\\nLocationAosta Valley, ItalyAuvergne-Rhône-Alpes, FranceCountriesFrance and ItalyParent rangeGraian AlpsClimbingFirst ascent8 August 1786 by Jacques BalmatMichel-Gabriel Paccard\\nMont Blanc (French: Mont Blanc [mɔ̃ blɑ̃]; Italian: Monte Bianco [ˈmonte ˈbjaŋko], both meaning \"white mountain\") is the highest mountain in the Alps and Western Europe, rising 4,807.81\\xa0m (15,774\\xa0ft) above sea level, located on the French-Italian border.[3] It is the second-most prominent mountain in', 'score': 5.273658752441406}, {'content': '360° panorama from Mont Blanc\\n Spherical panorama from Mont Blanc(view as a 360° interactive panorama)\\n\\nSee also[edit]\\n\\nAlps portal\\nExploration of the High Alps\\nHaute Route\\nMont Blanc (Moon)\\nTête Rousse Glacier\\nMont Blanc massif\\nMont Blanc Tramway\\nMont Blanc Tunnel\\nTour du Mont Blanc\\nTop of the Mont Blanc\\nList of Alpine four-thousanders\\nNotes[edit]\\n\\n\\n^ Although Mount Elbrus is normally considered the tallest mountain in continental Europe, the latter continent is part of the Eurasian land mass, which culminates at Mount Everest (highest col between Mont Blanc and', 'score': 3.882520914077759}, {'content': 'Archived from the original on 11 May 2017. Retrieved 15 June 2022.\\n\\n^ Reynaud, Louis (1993).  Williams, Richard S.; Ferrigno, Jane G. (eds.). \"The French Alps\" (PDF). Satellite Image Atlas of Glaciers of the World. Professional Paper 1386. U.S.Geological Survey. Archived (PDF) from the original on 23 April 2021. Retrieved 18 January 2016.\\n\\n^ André Fournier, Mer de Glace, La Fontaine de Siloé, Montmélian, 2005, ISBN\\xa0978-2-8420-6256-9.\\n\\n^ Green, Stewart. \"Facts About Mont Blanc – Highest Mountain in Western Europe\". climbing.about.com. Archived from the original on 27 August', 'score': 2.9151611328125}, {'content': 'About Mont Blanc – Highest Mountain in Western Europe\". climbing.about.com. Archived from the original on 27 August 2011. Retrieved 7 August 2011.\\n\\n^ a b \"Swiss National Map: Courmayeur (1:50,000)\". map.geo.admin.ch. Archived from the original on 24 January 2023. Retrieved 29 July 2020.\\n\\n^ \"A new map of the dominions of the King of Sardinia. (with) Isle and kingdom of Sardinia. (with) Mont Blanc in Faucigni and the subjacent Alps and glaciers. From the original published at Turin with royal approbation, and dedicated to his Sardinian Majesty. By Francis de Caroly; translated with', 'score': 2.514718532562256}]\n"
     ]
    }
   ],
   "source": [
    "init(api_key_id=os.environ[\"SUPERPOWERED_API_KEY_ID\"], api_key_secret=os.environ[\"SUPERPOWERED_API_KEY_SECRET\"])\n",
    "query = \"What is the name of the highest mountain in the Alps?\"\n",
    "response = real_time_query(query=query, passages=[content], top_k=5, summarize_results=True)\n",
    "print (response[\"summary\"])\n",
    "print ()\n",
    "print (response[\"results\"])"
   ]
  }
 ],
 "metadata": {
  "kernelspec": {
   "display_name": "base",
   "language": "python",
   "name": "python3"
  },
  "language_info": {
   "codemirror_mode": {
    "name": "ipython",
    "version": 3
   },
   "file_extension": ".py",
   "mimetype": "text/x-python",
   "name": "python",
   "nbconvert_exporter": "python",
   "pygments_lexer": "ipython3",
   "version": "3.9.13"
  },
  "orig_nbformat": 4,
  "vscode": {
   "interpreter": {
    "hash": "44d0561a9d33f22b2e67e0485c48036e39d1c698628b030a9859974b559ff507"
   }
  }
 },
 "nbformat": 4,
 "nbformat_minor": 2
}
